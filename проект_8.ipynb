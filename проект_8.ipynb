{
 "cells": [
  {
   "cell_type": "markdown",
   "metadata": {},
   "source": [
    "# Приоритизация гипотез, запуск A/B-теста и анализ результатов."
   ]
  },
  {
   "cell_type": "markdown",
   "metadata": {},
   "source": [
    "### Описание проекта"
   ]
  },
  {
   "attachments": {},
   "cell_type": "markdown",
   "metadata": {},
   "source": [
    "В файле hypothesis.csv 9 подготовленных гипотез по увеличению выручки интернет-магазина с указанными параметрами:\\\n",
    "Reach, Impact, Confidence, Effort. Приоритизируем гипотезы, запустим A/B-тест и проанализируем результаты."
   ]
  },
  {
   "cell_type": "markdown",
   "metadata": {},
   "source": [
    "#### Описание данных"
   ]
  },
  {
   "cell_type": "markdown",
   "metadata": {},
   "source": [
    "Файл /datasets/hypothesis.csv.\\\n",
    "Hypothesis — краткое описание гипотезы;\\\n",
    "Reach — охват пользователей по 10-балльной шкале;\\\n",
    "Impact — влияние на пользователей по 10-балльной шкале;\\\n",
    "Confidence — уверенность в гипотезе по 10-балльной шкале;\\\n",
    "Efforts — затраты ресурсов на проверку гипотезы по 10-балльной шкале."
   ]
  },
  {
   "cell_type": "code",
   "execution_count": 1,
   "metadata": {},
   "outputs": [],
   "source": [
    "#импортируем нужные библиотеки\n",
    "import pandas as pd\n",
    "import scipy.stats as stats\n",
    "import datetime as dt\n",
    "import numpy as np\n",
    "import matplotlib.pyplot as plt\n",
    "import seaborn as sns\n",
    "sns.set(rc={'figure.figsize':(10,8)})\n",
    "import math as mth"
   ]
  },
  {
   "cell_type": "code",
   "execution_count": 2,
   "metadata": {},
   "outputs": [],
   "source": [
    "#загрузим данные в переменную 'data'\n",
    "try:\n",
    "   data = pd.read_csv('/datasets/hypothesis.csv', sep=',')\n",
    "except:\n",
    "   data = pd.read_csv('https://code.s3.yandex.net/datasets/hypothesis.csv', sep=',')"
   ]
  },
  {
   "cell_type": "code",
   "execution_count": 3,
   "metadata": {},
   "outputs": [],
   "source": [
    "#приведем названия столбцов к нижнему регистру\n",
    "data.columns = data.columns.str.lower()"
   ]
  },
  {
   "cell_type": "code",
   "execution_count": 4,
   "metadata": {},
   "outputs": [],
   "source": [
    "#отобразим длинные названия\n",
    "pd.set_option('display.max_colwidth', None)"
   ]
  },
  {
   "cell_type": "code",
   "execution_count": 5,
   "metadata": {},
   "outputs": [
    {
     "data": {
      "text/html": [
       "<div>\n",
       "<style scoped>\n",
       "    .dataframe tbody tr th:only-of-type {\n",
       "        vertical-align: middle;\n",
       "    }\n",
       "\n",
       "    .dataframe tbody tr th {\n",
       "        vertical-align: top;\n",
       "    }\n",
       "\n",
       "    .dataframe thead th {\n",
       "        text-align: right;\n",
       "    }\n",
       "</style>\n",
       "<table border=\"1\" class=\"dataframe\">\n",
       "  <thead>\n",
       "    <tr style=\"text-align: right;\">\n",
       "      <th></th>\n",
       "      <th>hypothesis</th>\n",
       "      <th>reach</th>\n",
       "      <th>impact</th>\n",
       "      <th>confidence</th>\n",
       "      <th>efforts</th>\n",
       "    </tr>\n",
       "  </thead>\n",
       "  <tbody>\n",
       "    <tr>\n",
       "      <th>0</th>\n",
       "      <td>Добавить два новых канала привлечения трафика, что позволит привлекать на 30% больше пользователей</td>\n",
       "      <td>3</td>\n",
       "      <td>10</td>\n",
       "      <td>8</td>\n",
       "      <td>6</td>\n",
       "    </tr>\n",
       "    <tr>\n",
       "      <th>1</th>\n",
       "      <td>Запустить собственную службу доставки, что сократит срок доставки заказов</td>\n",
       "      <td>2</td>\n",
       "      <td>5</td>\n",
       "      <td>4</td>\n",
       "      <td>10</td>\n",
       "    </tr>\n",
       "    <tr>\n",
       "      <th>2</th>\n",
       "      <td>Добавить блоки рекомендаций товаров на сайт интернет магазина, чтобы повысить конверсию и средний чек заказа</td>\n",
       "      <td>8</td>\n",
       "      <td>3</td>\n",
       "      <td>7</td>\n",
       "      <td>3</td>\n",
       "    </tr>\n",
       "    <tr>\n",
       "      <th>3</th>\n",
       "      <td>Изменить структура категорий, что увеличит конверсию, т.к. пользователи быстрее найдут нужный товар</td>\n",
       "      <td>8</td>\n",
       "      <td>3</td>\n",
       "      <td>3</td>\n",
       "      <td>8</td>\n",
       "    </tr>\n",
       "    <tr>\n",
       "      <th>4</th>\n",
       "      <td>Изменить цвет фона главной страницы, чтобы увеличить вовлеченность пользователей</td>\n",
       "      <td>3</td>\n",
       "      <td>1</td>\n",
       "      <td>1</td>\n",
       "      <td>1</td>\n",
       "    </tr>\n",
       "    <tr>\n",
       "      <th>5</th>\n",
       "      <td>Добавить страницу отзывов клиентов о магазине, что позволит увеличить количество заказов</td>\n",
       "      <td>3</td>\n",
       "      <td>2</td>\n",
       "      <td>2</td>\n",
       "      <td>3</td>\n",
       "    </tr>\n",
       "    <tr>\n",
       "      <th>6</th>\n",
       "      <td>Показать на главной странице баннеры с актуальными акциями и распродажами, чтобы увеличить конверсию</td>\n",
       "      <td>5</td>\n",
       "      <td>3</td>\n",
       "      <td>8</td>\n",
       "      <td>3</td>\n",
       "    </tr>\n",
       "    <tr>\n",
       "      <th>7</th>\n",
       "      <td>Добавить форму подписки на все основные страницы, чтобы собрать базу клиентов для email-рассылок</td>\n",
       "      <td>10</td>\n",
       "      <td>7</td>\n",
       "      <td>8</td>\n",
       "      <td>5</td>\n",
       "    </tr>\n",
       "    <tr>\n",
       "      <th>8</th>\n",
       "      <td>Запустить акцию, дающую скидку на товар в день рождения</td>\n",
       "      <td>1</td>\n",
       "      <td>9</td>\n",
       "      <td>9</td>\n",
       "      <td>5</td>\n",
       "    </tr>\n",
       "  </tbody>\n",
       "</table>\n",
       "</div>"
      ],
      "text/plain": [
       "                                                                                                     hypothesis  \\\n",
       "0            Добавить два новых канала привлечения трафика, что позволит привлекать на 30% больше пользователей   \n",
       "1                                     Запустить собственную службу доставки, что сократит срок доставки заказов   \n",
       "2  Добавить блоки рекомендаций товаров на сайт интернет магазина, чтобы повысить конверсию и средний чек заказа   \n",
       "3           Изменить структура категорий, что увеличит конверсию, т.к. пользователи быстрее найдут нужный товар   \n",
       "4                              Изменить цвет фона главной страницы, чтобы увеличить вовлеченность пользователей   \n",
       "5                      Добавить страницу отзывов клиентов о магазине, что позволит увеличить количество заказов   \n",
       "6          Показать на главной странице баннеры с актуальными акциями и распродажами, чтобы увеличить конверсию   \n",
       "7              Добавить форму подписки на все основные страницы, чтобы собрать базу клиентов для email-рассылок   \n",
       "8                                                       Запустить акцию, дающую скидку на товар в день рождения   \n",
       "\n",
       "   reach  impact  confidence  efforts  \n",
       "0      3      10           8        6  \n",
       "1      2       5           4       10  \n",
       "2      8       3           7        3  \n",
       "3      8       3           3        8  \n",
       "4      3       1           1        1  \n",
       "5      3       2           2        3  \n",
       "6      5       3           8        3  \n",
       "7     10       7           8        5  \n",
       "8      1       9           9        5  "
      ]
     },
     "execution_count": 5,
     "metadata": {},
     "output_type": "execute_result"
    }
   ],
   "source": [
    "#выведем  \n",
    "data.head(9)"
   ]
  },
  {
   "cell_type": "markdown",
   "metadata": {},
   "source": [
    "###  Приоритизация гипотез."
   ]
  },
  {
   "cell_type": "markdown",
   "metadata": {},
   "source": [
    "#### Применим фреймворк ICE для приоритизации гипотез. Отсортируем их по убыванию приоритета.\n"
   ]
  },
  {
   "cell_type": "markdown",
   "metadata": {},
   "source": [
    "$$ICE = \\frac{Impact * Confidence}{Efforts}$$"
   ]
  },
  {
   "cell_type": "markdown",
   "metadata": {},
   "source": [
    "ICE (от англ. impact, confidence, effort / ease «влияние, уверенность, усилия / простота»)"
   ]
  },
  {
   "cell_type": "code",
   "execution_count": 5,
   "metadata": {},
   "outputs": [
    {
     "data": {
      "text/html": [
       "<div>\n",
       "<style scoped>\n",
       "    .dataframe tbody tr th:only-of-type {\n",
       "        vertical-align: middle;\n",
       "    }\n",
       "\n",
       "    .dataframe tbody tr th {\n",
       "        vertical-align: top;\n",
       "    }\n",
       "\n",
       "    .dataframe thead th {\n",
       "        text-align: right;\n",
       "    }\n",
       "</style>\n",
       "<table border=\"1\" class=\"dataframe\">\n",
       "  <thead>\n",
       "    <tr style=\"text-align: right;\">\n",
       "      <th></th>\n",
       "      <th>hypothesis</th>\n",
       "      <th>reach</th>\n",
       "      <th>impact</th>\n",
       "      <th>confidence</th>\n",
       "      <th>efforts</th>\n",
       "      <th>ICE</th>\n",
       "    </tr>\n",
       "  </thead>\n",
       "  <tbody>\n",
       "    <tr>\n",
       "      <th>8</th>\n",
       "      <td>Запустить акцию, дающую скидку на товар в день рождения</td>\n",
       "      <td>1</td>\n",
       "      <td>9</td>\n",
       "      <td>9</td>\n",
       "      <td>5</td>\n",
       "      <td>16.200000</td>\n",
       "    </tr>\n",
       "    <tr>\n",
       "      <th>0</th>\n",
       "      <td>Добавить два новых канала привлечения трафика, что позволит привлекать на 30% больше пользователей</td>\n",
       "      <td>3</td>\n",
       "      <td>10</td>\n",
       "      <td>8</td>\n",
       "      <td>6</td>\n",
       "      <td>13.333333</td>\n",
       "    </tr>\n",
       "    <tr>\n",
       "      <th>7</th>\n",
       "      <td>Добавить форму подписки на все основные страницы, чтобы собрать базу клиентов для email-рассылок</td>\n",
       "      <td>10</td>\n",
       "      <td>7</td>\n",
       "      <td>8</td>\n",
       "      <td>5</td>\n",
       "      <td>11.200000</td>\n",
       "    </tr>\n",
       "    <tr>\n",
       "      <th>6</th>\n",
       "      <td>Показать на главной странице баннеры с актуальными акциями и распродажами, чтобы увеличить конверсию</td>\n",
       "      <td>5</td>\n",
       "      <td>3</td>\n",
       "      <td>8</td>\n",
       "      <td>3</td>\n",
       "      <td>8.000000</td>\n",
       "    </tr>\n",
       "    <tr>\n",
       "      <th>2</th>\n",
       "      <td>Добавить блоки рекомендаций товаров на сайт интернет магазина, чтобы повысить конверсию и средний чек заказа</td>\n",
       "      <td>8</td>\n",
       "      <td>3</td>\n",
       "      <td>7</td>\n",
       "      <td>3</td>\n",
       "      <td>7.000000</td>\n",
       "    </tr>\n",
       "    <tr>\n",
       "      <th>1</th>\n",
       "      <td>Запустить собственную службу доставки, что сократит срок доставки заказов</td>\n",
       "      <td>2</td>\n",
       "      <td>5</td>\n",
       "      <td>4</td>\n",
       "      <td>10</td>\n",
       "      <td>2.000000</td>\n",
       "    </tr>\n",
       "    <tr>\n",
       "      <th>5</th>\n",
       "      <td>Добавить страницу отзывов клиентов о магазине, что позволит увеличить количество заказов</td>\n",
       "      <td>3</td>\n",
       "      <td>2</td>\n",
       "      <td>2</td>\n",
       "      <td>3</td>\n",
       "      <td>1.333333</td>\n",
       "    </tr>\n",
       "    <tr>\n",
       "      <th>3</th>\n",
       "      <td>Изменить структура категорий, что увеличит конверсию, т.к. пользователи быстрее найдут нужный товар</td>\n",
       "      <td>8</td>\n",
       "      <td>3</td>\n",
       "      <td>3</td>\n",
       "      <td>8</td>\n",
       "      <td>1.125000</td>\n",
       "    </tr>\n",
       "    <tr>\n",
       "      <th>4</th>\n",
       "      <td>Изменить цвет фона главной страницы, чтобы увеличить вовлеченность пользователей</td>\n",
       "      <td>3</td>\n",
       "      <td>1</td>\n",
       "      <td>1</td>\n",
       "      <td>1</td>\n",
       "      <td>1.000000</td>\n",
       "    </tr>\n",
       "  </tbody>\n",
       "</table>\n",
       "</div>"
      ],
      "text/plain": [
       "                                                                                                     hypothesis  \\\n",
       "8                                                       Запустить акцию, дающую скидку на товар в день рождения   \n",
       "0            Добавить два новых канала привлечения трафика, что позволит привлекать на 30% больше пользователей   \n",
       "7              Добавить форму подписки на все основные страницы, чтобы собрать базу клиентов для email-рассылок   \n",
       "6          Показать на главной странице баннеры с актуальными акциями и распродажами, чтобы увеличить конверсию   \n",
       "2  Добавить блоки рекомендаций товаров на сайт интернет магазина, чтобы повысить конверсию и средний чек заказа   \n",
       "1                                     Запустить собственную службу доставки, что сократит срок доставки заказов   \n",
       "5                      Добавить страницу отзывов клиентов о магазине, что позволит увеличить количество заказов   \n",
       "3           Изменить структура категорий, что увеличит конверсию, т.к. пользователи быстрее найдут нужный товар   \n",
       "4                              Изменить цвет фона главной страницы, чтобы увеличить вовлеченность пользователей   \n",
       "\n",
       "   reach  impact  confidence  efforts        ICE  \n",
       "8      1       9           9        5  16.200000  \n",
       "0      3      10           8        6  13.333333  \n",
       "7     10       7           8        5  11.200000  \n",
       "6      5       3           8        3   8.000000  \n",
       "2      8       3           7        3   7.000000  \n",
       "1      2       5           4       10   2.000000  \n",
       "5      3       2           2        3   1.333333  \n",
       "3      8       3           3        8   1.125000  \n",
       "4      3       1           1        1   1.000000  "
      ]
     },
     "execution_count": 5,
     "metadata": {},
     "output_type": "execute_result"
    }
   ],
   "source": [
    "#создадим и отсортируем по новому столбцу ICE \n",
    "data['ICE'] = (data['impact'] * data['confidence'])/data['efforts']\n",
    "data.sort_values(by='ICE', ascending=False)"
   ]
  },
  {
   "cell_type": "markdown",
   "metadata": {},
   "source": [
    "Наиболее песпективные гипотезы по ICE: 8,0 и 7."
   ]
  },
  {
   "cell_type": "markdown",
   "metadata": {},
   "source": [
    "#### Применим фреймворк RICE для приоритизации гипотез. Отсортируем их по убыванию приоритета.\n"
   ]
  },
  {
   "cell_type": "markdown",
   "metadata": {},
   "source": [
    "$$RICE = \\frac{Rearch * Impact * Confidence}{Efforts}$$"
   ]
  },
  {
   "cell_type": "markdown",
   "metadata": {},
   "source": [
    "Метод RICE дополнен (reach, «охват»), скольких пользователей затронет изменение "
   ]
  },
  {
   "cell_type": "code",
   "execution_count": 8,
   "metadata": {},
   "outputs": [
    {
     "data": {
      "text/html": [
       "<div>\n",
       "<style scoped>\n",
       "    .dataframe tbody tr th:only-of-type {\n",
       "        vertical-align: middle;\n",
       "    }\n",
       "\n",
       "    .dataframe tbody tr th {\n",
       "        vertical-align: top;\n",
       "    }\n",
       "\n",
       "    .dataframe thead th {\n",
       "        text-align: right;\n",
       "    }\n",
       "</style>\n",
       "<table border=\"1\" class=\"dataframe\">\n",
       "  <thead>\n",
       "    <tr style=\"text-align: right;\">\n",
       "      <th></th>\n",
       "      <th>hypothesis</th>\n",
       "      <th>reach</th>\n",
       "      <th>impact</th>\n",
       "      <th>confidence</th>\n",
       "      <th>efforts</th>\n",
       "      <th>ICE</th>\n",
       "      <th>RICE</th>\n",
       "    </tr>\n",
       "  </thead>\n",
       "  <tbody>\n",
       "    <tr>\n",
       "      <th>7</th>\n",
       "      <td>Добавить форму подписки на все основные страницы, чтобы собрать базу клиентов для email-рассылок</td>\n",
       "      <td>10</td>\n",
       "      <td>7</td>\n",
       "      <td>8</td>\n",
       "      <td>5</td>\n",
       "      <td>11.200000</td>\n",
       "      <td>112.0</td>\n",
       "    </tr>\n",
       "    <tr>\n",
       "      <th>2</th>\n",
       "      <td>Добавить блоки рекомендаций товаров на сайт интернет магазина, чтобы повысить конверсию и средний чек заказа</td>\n",
       "      <td>8</td>\n",
       "      <td>3</td>\n",
       "      <td>7</td>\n",
       "      <td>3</td>\n",
       "      <td>7.000000</td>\n",
       "      <td>56.0</td>\n",
       "    </tr>\n",
       "    <tr>\n",
       "      <th>0</th>\n",
       "      <td>Добавить два новых канала привлечения трафика, что позволит привлекать на 30% больше пользователей</td>\n",
       "      <td>3</td>\n",
       "      <td>10</td>\n",
       "      <td>8</td>\n",
       "      <td>6</td>\n",
       "      <td>13.333333</td>\n",
       "      <td>40.0</td>\n",
       "    </tr>\n",
       "    <tr>\n",
       "      <th>6</th>\n",
       "      <td>Показать на главной странице баннеры с актуальными акциями и распродажами, чтобы увеличить конверсию</td>\n",
       "      <td>5</td>\n",
       "      <td>3</td>\n",
       "      <td>8</td>\n",
       "      <td>3</td>\n",
       "      <td>8.000000</td>\n",
       "      <td>40.0</td>\n",
       "    </tr>\n",
       "    <tr>\n",
       "      <th>8</th>\n",
       "      <td>Запустить акцию, дающую скидку на товар в день рождения</td>\n",
       "      <td>1</td>\n",
       "      <td>9</td>\n",
       "      <td>9</td>\n",
       "      <td>5</td>\n",
       "      <td>16.200000</td>\n",
       "      <td>16.2</td>\n",
       "    </tr>\n",
       "    <tr>\n",
       "      <th>3</th>\n",
       "      <td>Изменить структура категорий, что увеличит конверсию, т.к. пользователи быстрее найдут нужный товар</td>\n",
       "      <td>8</td>\n",
       "      <td>3</td>\n",
       "      <td>3</td>\n",
       "      <td>8</td>\n",
       "      <td>1.125000</td>\n",
       "      <td>9.0</td>\n",
       "    </tr>\n",
       "    <tr>\n",
       "      <th>1</th>\n",
       "      <td>Запустить собственную службу доставки, что сократит срок доставки заказов</td>\n",
       "      <td>2</td>\n",
       "      <td>5</td>\n",
       "      <td>4</td>\n",
       "      <td>10</td>\n",
       "      <td>2.000000</td>\n",
       "      <td>4.0</td>\n",
       "    </tr>\n",
       "    <tr>\n",
       "      <th>5</th>\n",
       "      <td>Добавить страницу отзывов клиентов о магазине, что позволит увеличить количество заказов</td>\n",
       "      <td>3</td>\n",
       "      <td>2</td>\n",
       "      <td>2</td>\n",
       "      <td>3</td>\n",
       "      <td>1.333333</td>\n",
       "      <td>4.0</td>\n",
       "    </tr>\n",
       "    <tr>\n",
       "      <th>4</th>\n",
       "      <td>Изменить цвет фона главной страницы, чтобы увеличить вовлеченность пользователей</td>\n",
       "      <td>3</td>\n",
       "      <td>1</td>\n",
       "      <td>1</td>\n",
       "      <td>1</td>\n",
       "      <td>1.000000</td>\n",
       "      <td>3.0</td>\n",
       "    </tr>\n",
       "  </tbody>\n",
       "</table>\n",
       "</div>"
      ],
      "text/plain": [
       "                                                                                                     hypothesis  \\\n",
       "7              Добавить форму подписки на все основные страницы, чтобы собрать базу клиентов для email-рассылок   \n",
       "2  Добавить блоки рекомендаций товаров на сайт интернет магазина, чтобы повысить конверсию и средний чек заказа   \n",
       "0            Добавить два новых канала привлечения трафика, что позволит привлекать на 30% больше пользователей   \n",
       "6          Показать на главной странице баннеры с актуальными акциями и распродажами, чтобы увеличить конверсию   \n",
       "8                                                       Запустить акцию, дающую скидку на товар в день рождения   \n",
       "3           Изменить структура категорий, что увеличит конверсию, т.к. пользователи быстрее найдут нужный товар   \n",
       "1                                     Запустить собственную службу доставки, что сократит срок доставки заказов   \n",
       "5                      Добавить страницу отзывов клиентов о магазине, что позволит увеличить количество заказов   \n",
       "4                              Изменить цвет фона главной страницы, чтобы увеличить вовлеченность пользователей   \n",
       "\n",
       "   reach  impact  confidence  efforts        ICE   RICE  \n",
       "7     10       7           8        5  11.200000  112.0  \n",
       "2      8       3           7        3   7.000000   56.0  \n",
       "0      3      10           8        6  13.333333   40.0  \n",
       "6      5       3           8        3   8.000000   40.0  \n",
       "8      1       9           9        5  16.200000   16.2  \n",
       "3      8       3           3        8   1.125000    9.0  \n",
       "1      2       5           4       10   2.000000    4.0  \n",
       "5      3       2           2        3   1.333333    4.0  \n",
       "4      3       1           1        1   1.000000    3.0  "
      ]
     },
     "execution_count": 8,
     "metadata": {},
     "output_type": "execute_result"
    }
   ],
   "source": [
    "#создадим и отсортируем по новому столбцу RICE\n",
    "data['RICE'] = (data['reach']*data['impact'] * data['confidence'])/data['efforts']\n",
    "data.sort_values(by='RICE', ascending=False)"
   ]
  },
  {
   "cell_type": "markdown",
   "metadata": {},
   "source": [
    "#### Укажем, как изменилась приоритизация гипотез при применении RICE вместо ICE.\n"
   ]
  },
  {
   "attachments": {},
   "cell_type": "markdown",
   "metadata": {},
   "source": [
    "Перспективны гипотезы № 7, 2, 0 и 6. Отметим гипотезу 7 с показателем RICE превосходящим вдвое следующую гипотезу 2.\\\n",
    "Причина в высоком параметре Reach - охват пользователей, высок и  confidence безусловно важнейшие показатели приоритета гипотез."
   ]
  },
  {
   "attachments": {},
   "cell_type": "markdown",
   "metadata": {},
   "source": [
    "\"Добавить форму подписки на все основные страницы сайта, чтобы собрать базу клиентов для email-рассылок\" технически несложно -\\\n",
    "потребуется максимум 2 часа работы программиста для создания формы на конструкторе и еще 2 на адаптацию к главным страницам сайта,\\\n",
    "итого около 4 часов.\n",
    "Никаких изменений в операционных процессах не потребуется, форма будет добавлена на сайт в режиме реального времени.\\\n",
    "Учтем высочайший показатель охвата, высокую  уверенность и силу влияния.   \n",
    "Выбираем для эксперимента гипотезу №7, несомненно самую оптимальную для проведения теста."
   ]
  },
  {
   "cell_type": "markdown",
   "metadata": {},
   "source": [
    "###  Анализ A/B-теста"
   ]
  },
  {
   "cell_type": "markdown",
   "metadata": {},
   "source": [
    "Мы провели A/B-тест и получили результаты, которые описаны в файлах orders.csv и visitors.csv.\n"
   ]
  },
  {
   "cell_type": "markdown",
   "metadata": {},
   "source": [
    "Файл /datasets/orders.csv.\\\n",
    "transactionId — идентификатор заказа;\\\n",
    "visitorId — идентификатор пользователя, совершившего заказ;\\\n",
    "date — дата, когда был совершён заказ;\\\n",
    "revenue — выручка заказа;\\\n",
    "group — группа A/B-теста, в которую попал заказ."
   ]
  },
  {
   "cell_type": "markdown",
   "metadata": {},
   "source": [
    "Файл /datasets/visitors.csv.\\\n",
    "date — дата;\\\n",
    "group — группа A/B-теста;\\\n",
    "visitors — количество пользователей в указанную дату в указанной группе A/B-теста\n"
   ]
  },
  {
   "cell_type": "code",
   "execution_count": 11,
   "metadata": {},
   "outputs": [],
   "source": [
    "#прочтем данные из файлов с результатами  A/B-тестирования, переведем даты в нужный формат\n",
    "try:\n",
    "   orders = pd.read_csv('/datasets/orders.csv', sep=',')\n",
    "except:\n",
    "   orders = pd.read_csv('https://code.s3.yandex.net/datasets/orders.csv', sep=',')\n",
    "   orders['date'] = orders['date'].map(\n",
    "    lambda x: dt.datetime.strptime(x, '%Y-%m-%d')\n",
    ")\n",
    "\n",
    "try:\n",
    "   visitors = pd.read_csv('/datasets/visitors.csv', sep=',')\n",
    "except:\n",
    "   visitors = pd.read_csv('https://code.s3.yandex.net/datasets/visitors.csv', sep=',')\n",
    "   visitors['date'] = visitors['date'].map(\n",
    "   lambda x: dt.datetime.strptime(x, '%Y-%m-%d')\n",
    ")"
   ]
  },
  {
   "cell_type": "code",
   "execution_count": 9,
   "metadata": {
    "scrolled": true
   },
   "outputs": [
    {
     "name": "stdout",
     "output_type": "stream",
     "text": [
      "<class 'pandas.core.frame.DataFrame'>\n",
      "RangeIndex: 1197 entries, 0 to 1196\n",
      "Data columns (total 5 columns):\n",
      " #   Column         Non-Null Count  Dtype         \n",
      "---  ------         --------------  -----         \n",
      " 0   transactionId  1197 non-null   int64         \n",
      " 1   visitorId      1197 non-null   int64         \n",
      " 2   date           1197 non-null   datetime64[ns]\n",
      " 3   revenue        1197 non-null   int64         \n",
      " 4   group          1197 non-null   object        \n",
      "dtypes: datetime64[ns](1), int64(3), object(1)\n",
      "memory usage: 46.9+ KB\n"
     ]
    }
   ],
   "source": [
    "orders.info()"
   ]
  },
  {
   "cell_type": "code",
   "execution_count": 12,
   "metadata": {},
   "outputs": [],
   "source": [
    "#приведем названия столбцов к нижнему регистру\n",
    "orders.columns = orders.columns.str.lower()"
   ]
  },
  {
   "cell_type": "code",
   "execution_count": 13,
   "metadata": {},
   "outputs": [
    {
     "data": {
      "text/html": [
       "<div>\n",
       "<style scoped>\n",
       "    .dataframe tbody tr th:only-of-type {\n",
       "        vertical-align: middle;\n",
       "    }\n",
       "\n",
       "    .dataframe tbody tr th {\n",
       "        vertical-align: top;\n",
       "    }\n",
       "\n",
       "    .dataframe thead th {\n",
       "        text-align: right;\n",
       "    }\n",
       "</style>\n",
       "<table border=\"1\" class=\"dataframe\">\n",
       "  <thead>\n",
       "    <tr style=\"text-align: right;\">\n",
       "      <th></th>\n",
       "      <th>transactionid</th>\n",
       "      <th>visitorid</th>\n",
       "      <th>date</th>\n",
       "      <th>revenue</th>\n",
       "      <th>group</th>\n",
       "    </tr>\n",
       "  </thead>\n",
       "  <tbody>\n",
       "    <tr>\n",
       "      <th>0</th>\n",
       "      <td>3667963787</td>\n",
       "      <td>3312258926</td>\n",
       "      <td>2019-08-15</td>\n",
       "      <td>1650</td>\n",
       "      <td>B</td>\n",
       "    </tr>\n",
       "    <tr>\n",
       "      <th>1</th>\n",
       "      <td>2804400009</td>\n",
       "      <td>3642806036</td>\n",
       "      <td>2019-08-15</td>\n",
       "      <td>730</td>\n",
       "      <td>B</td>\n",
       "    </tr>\n",
       "    <tr>\n",
       "      <th>2</th>\n",
       "      <td>2961555356</td>\n",
       "      <td>4069496402</td>\n",
       "      <td>2019-08-15</td>\n",
       "      <td>400</td>\n",
       "      <td>A</td>\n",
       "    </tr>\n",
       "    <tr>\n",
       "      <th>3</th>\n",
       "      <td>3797467345</td>\n",
       "      <td>1196621759</td>\n",
       "      <td>2019-08-15</td>\n",
       "      <td>9759</td>\n",
       "      <td>B</td>\n",
       "    </tr>\n",
       "    <tr>\n",
       "      <th>4</th>\n",
       "      <td>2282983706</td>\n",
       "      <td>2322279887</td>\n",
       "      <td>2019-08-15</td>\n",
       "      <td>2308</td>\n",
       "      <td>B</td>\n",
       "    </tr>\n",
       "  </tbody>\n",
       "</table>\n",
       "</div>"
      ],
      "text/plain": [
       "   transactionid   visitorid       date  revenue group\n",
       "0     3667963787  3312258926 2019-08-15     1650     B\n",
       "1     2804400009  3642806036 2019-08-15      730     B\n",
       "2     2961555356  4069496402 2019-08-15      400     A\n",
       "3     3797467345  1196621759 2019-08-15     9759     B\n",
       "4     2282983706  2322279887 2019-08-15     2308     B"
      ]
     },
     "execution_count": 13,
     "metadata": {},
     "output_type": "execute_result"
    }
   ],
   "source": [
    "orders.head()"
   ]
  },
  {
   "cell_type": "code",
   "execution_count": 15,
   "metadata": {},
   "outputs": [
    {
     "name": "stdout",
     "output_type": "stream",
     "text": [
      "<class 'pandas.core.frame.DataFrame'>\n",
      "RangeIndex: 62 entries, 0 to 61\n",
      "Data columns (total 3 columns):\n",
      " #   Column    Non-Null Count  Dtype         \n",
      "---  ------    --------------  -----         \n",
      " 0   date      62 non-null     datetime64[ns]\n",
      " 1   group     62 non-null     object        \n",
      " 2   visitors  62 non-null     int64         \n",
      "dtypes: datetime64[ns](1), int64(1), object(1)\n",
      "memory usage: 1.6+ KB\n"
     ]
    }
   ],
   "source": [
    "visitors.info()"
   ]
  },
  {
   "cell_type": "code",
   "execution_count": 16,
   "metadata": {},
   "outputs": [
    {
     "data": {
      "text/html": [
       "<div>\n",
       "<style scoped>\n",
       "    .dataframe tbody tr th:only-of-type {\n",
       "        vertical-align: middle;\n",
       "    }\n",
       "\n",
       "    .dataframe tbody tr th {\n",
       "        vertical-align: top;\n",
       "    }\n",
       "\n",
       "    .dataframe thead th {\n",
       "        text-align: right;\n",
       "    }\n",
       "</style>\n",
       "<table border=\"1\" class=\"dataframe\">\n",
       "  <thead>\n",
       "    <tr style=\"text-align: right;\">\n",
       "      <th></th>\n",
       "      <th>date</th>\n",
       "      <th>group</th>\n",
       "      <th>visitors</th>\n",
       "    </tr>\n",
       "  </thead>\n",
       "  <tbody>\n",
       "    <tr>\n",
       "      <th>0</th>\n",
       "      <td>2019-08-01</td>\n",
       "      <td>A</td>\n",
       "      <td>719</td>\n",
       "    </tr>\n",
       "    <tr>\n",
       "      <th>1</th>\n",
       "      <td>2019-08-02</td>\n",
       "      <td>A</td>\n",
       "      <td>619</td>\n",
       "    </tr>\n",
       "    <tr>\n",
       "      <th>2</th>\n",
       "      <td>2019-08-03</td>\n",
       "      <td>A</td>\n",
       "      <td>507</td>\n",
       "    </tr>\n",
       "    <tr>\n",
       "      <th>3</th>\n",
       "      <td>2019-08-04</td>\n",
       "      <td>A</td>\n",
       "      <td>717</td>\n",
       "    </tr>\n",
       "    <tr>\n",
       "      <th>4</th>\n",
       "      <td>2019-08-05</td>\n",
       "      <td>A</td>\n",
       "      <td>756</td>\n",
       "    </tr>\n",
       "  </tbody>\n",
       "</table>\n",
       "</div>"
      ],
      "text/plain": [
       "        date group  visitors\n",
       "0 2019-08-01     A       719\n",
       "1 2019-08-02     A       619\n",
       "2 2019-08-03     A       507\n",
       "3 2019-08-04     A       717\n",
       "4 2019-08-05     A       756"
      ]
     },
     "execution_count": 16,
     "metadata": {},
     "output_type": "execute_result"
    }
   ],
   "source": [
    "visitors.head()"
   ]
  },
  {
   "cell_type": "markdown",
   "metadata": {},
   "source": [
    "Проверим пропуски в значениях. Обратимся к датафреймам по очереди"
   ]
  },
  {
   "cell_type": "code",
   "execution_count": 17,
   "metadata": {},
   "outputs": [
    {
     "data": {
      "text/plain": [
       "transactionid    0\n",
       "visitorid        0\n",
       "date             0\n",
       "revenue          0\n",
       "group            0\n",
       "dtype: int64"
      ]
     },
     "execution_count": 17,
     "metadata": {},
     "output_type": "execute_result"
    }
   ],
   "source": [
    "orders.isnull().sum()"
   ]
  },
  {
   "cell_type": "code",
   "execution_count": 18,
   "metadata": {},
   "outputs": [
    {
     "data": {
      "text/plain": [
       "date        0\n",
       "group       0\n",
       "visitors    0\n",
       "dtype: int64"
      ]
     },
     "execution_count": 18,
     "metadata": {},
     "output_type": "execute_result"
    }
   ],
   "source": [
    "visitors.isnull().sum()"
   ]
  },
  {
   "cell_type": "markdown",
   "metadata": {},
   "source": [
    "Пропусков нет, проверим на дубликаты"
   ]
  },
  {
   "cell_type": "code",
   "execution_count": 19,
   "metadata": {},
   "outputs": [
    {
     "data": {
      "text/plain": [
       "0"
      ]
     },
     "execution_count": 19,
     "metadata": {},
     "output_type": "execute_result"
    }
   ],
   "source": [
    "orders.duplicated().sum()"
   ]
  },
  {
   "cell_type": "code",
   "execution_count": 20,
   "metadata": {},
   "outputs": [
    {
     "data": {
      "text/plain": [
       "0"
      ]
     },
     "execution_count": 20,
     "metadata": {},
     "output_type": "execute_result"
    }
   ],
   "source": [
    "visitors.duplicated().sum()"
   ]
  },
  {
   "cell_type": "markdown",
   "metadata": {},
   "source": [
    "Отлично, дубликатов нет"
   ]
  },
  {
   "cell_type": "code",
   "execution_count": 21,
   "metadata": {},
   "outputs": [
    {
     "data": {
      "text/html": [
       "<div>\n",
       "<style scoped>\n",
       "    .dataframe tbody tr th:only-of-type {\n",
       "        vertical-align: middle;\n",
       "    }\n",
       "\n",
       "    .dataframe tbody tr th {\n",
       "        vertical-align: top;\n",
       "    }\n",
       "\n",
       "    .dataframe thead th {\n",
       "        text-align: right;\n",
       "    }\n",
       "</style>\n",
       "<table border=\"1\" class=\"dataframe\">\n",
       "  <thead>\n",
       "    <tr style=\"text-align: right;\">\n",
       "      <th></th>\n",
       "      <th>visitorid</th>\n",
       "    </tr>\n",
       "    <tr>\n",
       "      <th>group</th>\n",
       "      <th></th>\n",
       "    </tr>\n",
       "  </thead>\n",
       "  <tbody>\n",
       "    <tr>\n",
       "      <th>A</th>\n",
       "      <td>503</td>\n",
       "    </tr>\n",
       "    <tr>\n",
       "      <th>B</th>\n",
       "      <td>586</td>\n",
       "    </tr>\n",
       "  </tbody>\n",
       "</table>\n",
       "</div>"
      ],
      "text/plain": [
       "       visitorid\n",
       "group           \n",
       "A            503\n",
       "B            586"
      ]
     },
     "execution_count": 21,
     "metadata": {},
     "output_type": "execute_result"
    }
   ],
   "source": [
    "#выведем количество уникальных пользователей по каждой группе\n",
    "orders.groupby('group').agg({'visitorid':'nunique'})"
   ]
  },
  {
   "cell_type": "markdown",
   "metadata": {},
   "source": [
    "Посчитаем дубликаты пользователей в группах тестирования"
   ]
  },
  {
   "cell_type": "code",
   "execution_count": 22,
   "metadata": {},
   "outputs": [
    {
     "data": {
      "text/plain": [
       "group    58\n",
       "dtype: int64"
      ]
     },
     "execution_count": 22,
     "metadata": {},
     "output_type": "execute_result"
    }
   ],
   "source": [
    "orders.groupby('visitorid').agg({'group':'nunique'}).query('group>1').count()"
   ]
  },
  {
   "cell_type": "code",
   "execution_count": 23,
   "metadata": {},
   "outputs": [],
   "source": [
    "#запишем дубликаты в группах в переменную\n",
    "od = orders.groupby('visitorid').agg({'group':'nunique'}).query('group>1')"
   ]
  },
  {
   "cell_type": "code",
   "execution_count": 24,
   "metadata": {},
   "outputs": [
    {
     "data": {
      "text/plain": [
       "(1197, 5)"
      ]
     },
     "execution_count": 24,
     "metadata": {},
     "output_type": "execute_result"
    }
   ],
   "source": [
    "orders.shape"
   ]
  },
  {
   "cell_type": "code",
   "execution_count": 22,
   "metadata": {},
   "outputs": [],
   "source": [
    "#перезапишем orders без дубликатов\n",
    "orders = orders.query('visitorid not in @od.index')"
   ]
  },
  {
   "cell_type": "code",
   "execution_count": 25,
   "metadata": {},
   "outputs": [
    {
     "data": {
      "text/plain": [
       "(1197, 5)"
      ]
     },
     "execution_count": 25,
     "metadata": {},
     "output_type": "execute_result"
    }
   ],
   "source": [
    "orders.shape"
   ]
  },
  {
   "cell_type": "markdown",
   "metadata": {},
   "source": [
    "Набор данных достаточен. Данные прошли предобработку и соответствуют необходимому уровню качества для дальнейшего интеллектуального анализа и проверке гипотез."
   ]
  },
  {
   "cell_type": "markdown",
   "metadata": {},
   "source": [
    "#### Построим график кумулятивной выручки по группам. Сделаем выводы и предположения.\n",
    "\n"
   ]
  },
  {
   "cell_type": "markdown",
   "metadata": {},
   "source": [
    "Чтобы построить графики, нужно собрать кумулятивные данные. "
   ]
  },
  {
   "cell_type": "code",
   "execution_count": 26,
   "metadata": {},
   "outputs": [],
   "source": [
    "#создадим массив уникальных пар значений дат и групп теста\n",
    "datesGroups = orders[['date','group']].drop_duplicates()"
   ]
  },
  {
   "cell_type": "code",
   "execution_count": 28,
   "metadata": {},
   "outputs": [],
   "source": [
    "#получим агрегированные кумулятивные по дням данные о заказах\n",
    "ordersAggregated = datesGroups.apply(\n",
    "    lambda x: orders[\n",
    "        np.logical_and(\n",
    "            orders['date'] <= x['date'], orders['group'] == x['group']\n",
    "        )\n",
    "    ].agg(\n",
    "        {\n",
    "            'date': 'max',\n",
    "            'group': 'max',\n",
    "            'transactionid': 'nunique',\n",
    "            'visitorid': 'nunique',\n",
    "            'revenue': 'sum',\n",
    "        }\n",
    "    ),\n",
    "    axis=1,\n",
    ").sort_values(by=['date', 'group'])"
   ]
  },
  {
   "cell_type": "code",
   "execution_count": 29,
   "metadata": {},
   "outputs": [],
   "source": [
    "#получим агрегированные кумулятивные по дням данные о посетителях интернет-магазина\n",
    "visitorsAggregated = datesGroups.apply(\n",
    "    lambda x: visitors[\n",
    "        np.logical_and(\n",
    "            visitors['date'] <= x['date'], visitors['group'] == x['group']\n",
    "        )\n",
    "    ].agg({'date': 'max', 'group': 'max', 'visitors': 'sum'}),\n",
    "    axis=1,\n",
    ").sort_values(by=['date', 'group'])"
   ]
  },
  {
   "cell_type": "markdown",
   "metadata": {},
   "source": [
    "Объявим датафрейм cumulativeData со столбцами:"
   ]
  },
  {
   "cell_type": "markdown",
   "metadata": {},
   "source": [
    "date — дата;\\\n",
    "group — группа A/B-теста (A или B);\\\n",
    "orders — кумулятивное количество заказов на указанную дату в указанной группе;\\\n",
    "buyers — кумулятивное количество пользователей, совершивших хотя бы один заказ, на указанную дату в указанной группе;\\\n",
    "revenue — кумулятивная выручка на указанную дату в указанной группе (средний чек);\\\n",
    "visitors — кумулятивное количество посетителей интернет-магазина на указанную дату в определённой группе.\n"
   ]
  },
  {
   "cell_type": "code",
   "execution_count": 30,
   "metadata": {},
   "outputs": [],
   "source": [
    "#объединим кумулятивные данные в одной таблице и присвоим ее столбцам названия\n",
    "cumulativeData = ordersAggregated.merge(\n",
    "    visitorsAggregated, left_on=['date', 'group'], right_on=['date', 'group']\n",
    ")\n",
    "cumulativeData.columns = [\n",
    "    'date',\n",
    "    'group',\n",
    "    'orders',\n",
    "    'buyers',\n",
    "    'revenue',\n",
    "    'visitors',\n",
    "]"
   ]
  },
  {
   "cell_type": "code",
   "execution_count": 31,
   "metadata": {},
   "outputs": [],
   "source": [
    "#Объявим переменные cumulativeRevenueA и cumulativeRevenueB, в которых сохраним данные о датах, выручке и числе заказов\n",
    "cumulativeRevenueA = cumulativeData[cumulativeData['group']=='A'][['date','revenue', 'orders']]\n",
    "cumulativeRevenueB = cumulativeData[cumulativeData['group']=='B'][['date','revenue', 'orders']]"
   ]
  },
  {
   "cell_type": "code",
   "execution_count": 32,
   "metadata": {},
   "outputs": [
    {
     "data": {
      "image/png": "[encoded data removed]",
      "text/plain": [
       "<Figure size 1000x800 with 1 Axes>"
      ]
     },
     "metadata": {},
     "output_type": "display_data"
    }
   ],
   "source": [
    "#строим график кумулятивной выручки групп А и В\n",
    "plt.plot(cumulativeRevenueA['date'], cumulativeRevenueA['revenue'], label='A')\n",
    "plt.plot(cumulativeRevenueB['date'], cumulativeRevenueB['revenue'], label='B')\n",
    "plt.legend();"
   ]
  },
  {
   "cell_type": "markdown",
   "metadata": {},
   "source": [
    "До середины теста выручка обеих групп почти равномерно увеличивается с небольшим преимуществом сегмента В. Далее идет резкий рост выручки В, это может означать о всплеске числа заказов, либо о появлении очень дорогих заказов в выборке. Скорее всего, аномальные заказы влияют на результаты."
   ]
  },
  {
   "cell_type": "markdown",
   "metadata": {},
   "source": [
    "#### Построим график кумулятивного среднего чека по группам.\n",
    "\n"
   ]
  },
  {
   "cell_type": "code",
   "execution_count": 33,
   "metadata": {},
   "outputs": [
    {
     "data": {
      "image/png": "[encoded data removed]",
      "text/plain": [
       "<Figure size 1000x800 with 1 Axes>"
      ]
     },
     "metadata": {},
     "output_type": "display_data"
    }
   ],
   "source": [
    "plt.plot(cumulativeRevenueA['date'], cumulativeRevenueA['revenue']/cumulativeRevenueA['orders'], label='A')\n",
    "plt.plot(cumulativeRevenueB['date'], cumulativeRevenueB['revenue']/cumulativeRevenueB['orders'], label='B')\n",
    "plt.legend();"
   ]
  },
  {
   "cell_type": "markdown",
   "metadata": {},
   "source": [
    "Кумулятивное значение среднего чека по сегментам продолжает колебаться. Принимать решения нет смысла. Продолжим исследования."
   ]
  },
  {
   "cell_type": "markdown",
   "metadata": {},
   "source": [
    "#### Построим график относительного изменения кумулятивного среднего чека группы B к группе A.\n",
    "\n"
   ]
  },
  {
   "cell_type": "code",
   "execution_count": 34,
   "metadata": {},
   "outputs": [],
   "source": [
    "# собираем данные в одном датафрейме\n",
    "mergedCumulativeRevenue = cumulativeRevenueA.merge(\n",
    "   cumulativeRevenueB, left_on='date', right_on='date', how='left', suffixes=['A', 'B']\n",
    ")"
   ]
  },
  {
   "cell_type": "code",
   "execution_count": 35,
   "metadata": {},
   "outputs": [
    {
     "data": {
      "image/png": "[encoded data removed]",
      "text/plain": [
       "<Figure size 1000x800 with 1 Axes>"
      ]
     },
     "metadata": {},
     "output_type": "display_data"
    }
   ],
   "source": [
    "# cтроим отношение средних чеков\n",
    "plt.plot(mergedCumulativeRevenue['date'],\n",
    "(\n",
    "        mergedCumulativeRevenue['revenueB']/\n",
    "        mergedCumulativeRevenue['ordersB'])/\n",
    "        (mergedCumulativeRevenue['revenueA']/\n",
    "        mergedCumulativeRevenue['ordersA'])-1\n",
    ")\n",
    "# добавляем ось X\n",
    "plt.axhline(y=0, color='black', linestyle='--');"
   ]
  },
  {
   "cell_type": "markdown",
   "metadata": {},
   "source": [
    "В нескольких точках графика результаты теста значительно и резко менялись, видим \"скачки\" в несколько дат. Видимо, именно тогда совершены аномальные заказы."
   ]
  },
  {
   "cell_type": "markdown",
   "metadata": {},
   "source": [
    "#### Построим график кумулятивного среднего количества заказов на посетителя по группам.\n",
    "\n"
   ]
  },
  {
   "cell_type": "code",
   "execution_count": 37,
   "metadata": {},
   "outputs": [
    {
     "data": {
      "image/png": "[encoded data removed]",
      "text/plain": [
       "<Figure size 1000x800 with 1 Axes>"
      ]
     },
     "metadata": {},
     "output_type": "display_data"
    }
   ],
   "source": [
    "# считаем кумулятивное среднее количество заказов на посетителя\n",
    "cumulativeData['avgcumorduser'] = cumulativeData['orders']/cumulativeData['visitors']\n",
    "# отделяем данные по группе A\n",
    "cumulativeDataA = cumulativeData[cumulativeData['group']=='A']\n",
    "# отделяем данные по группе B\n",
    "cumulativeDataB = cumulativeData[cumulativeData['group']=='B']\n",
    "# строим графики\n",
    "plt.plot(cumulativeDataA['date'], cumulativeDataA['avgcumorduser'], label='A')\n",
    "plt.plot(cumulativeDataB['date'], cumulativeDataB['avgcumorduser'], label='B')\n",
    "plt.legend();"
   ]
  },
  {
   "cell_type": "markdown",
   "metadata": {},
   "source": [
    "Есть всплески и падения, особенно в начале теста, указывающие на аномалии. Далее видим некоторую симметрию и превосходство группы В."
   ]
  },
  {
   "cell_type": "markdown",
   "metadata": {},
   "source": [
    "#### Построим график относительного изменения кумулятивного среднего количества заказов на посетителя группы B к A. \n",
    "\n"
   ]
  },
  {
   "cell_type": "code",
   "execution_count": 38,
   "metadata": {},
   "outputs": [
    {
     "data": {
      "image/png": "[encoded data removed]",
      "text/plain": [
       "<Figure size 1000x800 with 1 Axes>"
      ]
     },
     "metadata": {},
     "output_type": "display_data"
    }
   ],
   "source": [
    "mergedCumulativeConv = cumulativeDataA[['date','avgcumorduser']].merge(cumulativeDataB[['date','avgcumorduser']], left_on='date', right_on='date', how='left', suffixes=['A', 'B'])\n",
    "\n",
    "plt.plot(mergedCumulativeConv['date'], mergedCumulativeConv['avgcumorduserB']/mergedCumulativeConv['avgcumorduserA']-1, label=\"Относительный прирост кумулятивного среднего количества заказов на посетителя группы B к A\")\n",
    "plt.legend()\n",
    "plt.axhline(y=0, color='black', linestyle='--');"
   ]
  },
  {
   "cell_type": "markdown",
   "metadata": {},
   "source": [
    "В начале теста группа В уступала, затем следует \"скачёк\", падение и уверенный рост с колебаниями и превосходством над группой А. Видимо именно в \"скачки\" совершены аномальные заказы."
   ]
  },
  {
   "cell_type": "markdown",
   "metadata": {},
   "source": [
    "#### Построим точечный график количества заказов по пользователям.\n"
   ]
  },
  {
   "cell_type": "code",
   "execution_count": 39,
   "metadata": {},
   "outputs": [],
   "source": [
    "#Подсчитаем количество заказов по пользователям\n",
    "ordersByUsers = (\n",
    "    orders.groupby('visitorid', as_index=False)\n",
    "    .agg({'transactionid': 'nunique'})\n",
    ")\n",
    "ordersByUsers.columns = ['visitorid', 'orders']"
   ]
  },
  {
   "cell_type": "code",
   "execution_count": 40,
   "metadata": {},
   "outputs": [
    {
     "data": {
      "image/png": "[encoded data removed]",
      "text/plain": [
       "<Figure size 1000x800 with 1 Axes>"
      ]
     },
     "metadata": {},
     "output_type": "display_data"
    }
   ],
   "source": [
    "#Построим точечную диаграмму числа заказов на одного пользователя\n",
    "x_values = pd.Series(range(0,len(ordersByUsers['orders'])))\n",
    "plt.scatter(x_values, ordersByUsers['orders']);"
   ]
  },
  {
   "cell_type": "markdown",
   "metadata": {},
   "source": [
    "Большинство пользователей заказывали только один раз, велика доля пользователей с 2 заказами. С 3 встречаются гораздо реже. Точная доля неясна, посчитаем выборочные перцентили количества заказов на одного пользователя."
   ]
  },
  {
   "cell_type": "markdown",
   "metadata": {},
   "source": [
    "#### Посчитаем 95-й и 99-й перцентили количества заказов на пользователя. Выберем границу для определения аномальных пользователей.\n"
   ]
  },
  {
   "cell_type": "code",
   "execution_count": 41,
   "metadata": {},
   "outputs": [
    {
     "data": {
      "text/plain": [
       "array([2., 4.])"
      ]
     },
     "execution_count": 41,
     "metadata": {},
     "output_type": "execute_result"
    }
   ],
   "source": [
    "np.percentile(ordersByUsers['orders'], [ 95, 99])"
   ]
  },
  {
   "cell_type": "markdown",
   "metadata": {},
   "source": [
    "Не более 5% пользователей делают больше 2х заказов. Это и будет граница количества аномальных заказов."
   ]
  },
  {
   "cell_type": "markdown",
   "metadata": {},
   "source": [
    "#### Построим точечный график стоимостей заказов.\n",
    "\n"
   ]
  },
  {
   "cell_type": "code",
   "execution_count": 42,
   "metadata": {},
   "outputs": [
    {
     "data": {
      "image/png": "[encoded data removed]",
      "text/plain": [
       "<Figure size 1000x800 with 1 Axes>"
      ]
     },
     "metadata": {},
     "output_type": "display_data"
    }
   ],
   "source": [
    "#Построим точечную диаграмму стоимостей заказов\n",
    "x_values = pd.Series(range(0,len(orders['revenue'])))\n",
    "plt.scatter(x_values, orders['revenue']);"
   ]
  },
  {
   "cell_type": "markdown",
   "metadata": {},
   "source": [
    "Предположения подтверждаются: видим аномально дорогие заказы выше 200000 и 1 200000!"
   ]
  },
  {
   "cell_type": "markdown",
   "metadata": {},
   "source": [
    "#### Посчитаем 95-й и 99-й перцентили стоимости заказов. Выберем границу для определения аномальных заказов.\n",
    "\n"
   ]
  },
  {
   "cell_type": "code",
   "execution_count": 43,
   "metadata": {},
   "outputs": [
    {
     "data": {
      "text/plain": [
       "array([28000. , 58233.2])"
      ]
     },
     "execution_count": 43,
     "metadata": {},
     "output_type": "execute_result"
    }
   ],
   "source": [
    "np.percentile(orders['revenue'], [ 95, 99])"
   ]
  },
  {
   "cell_type": "markdown",
   "metadata": {},
   "source": [
    "Не более 5% заказов дороже 26785 и не более 1% дороже 53904. Дорогие заказы искажают результаты тестирования, при этом они редкость, попавшие  исключительно случайно. Исключим заказы дороже 30000."
   ]
  },
  {
   "cell_type": "markdown",
   "metadata": {},
   "source": [
    "#### Посчитаем статистическую значимость различий в среднем количестве заказов на посетителя между группами  по «сырым» данным.\n",
    "\n"
   ]
  },
  {
   "cell_type": "markdown",
   "metadata": {},
   "source": [
    "Сформулируем гипотезы:\\\n",
    "Нулевая: различий в среднем количестве заказов между группами нет.\\\n",
    "Альтернативная: различия в среднем между группами есть."
   ]
  },
  {
   "cell_type": "markdown",
   "metadata": {},
   "source": [
    "Подготовим данные отдельно по группам теста"
   ]
  },
  {
   "cell_type": "markdown",
   "metadata": {},
   "source": [
    "date — дата;\\\n",
    "ordersPerDateA — количество заказов в выбранную дату в группе A;\\\n",
    "revenuePerDateA — суммарная выручка в выбранную дату в группе A;\\\n",
    "ordersPerDateB — количество заказов в выбранную дату в группе B;\\\n",
    "revenuePerDateB — суммарная выручка в выбранную дату в группе B;\\\n",
    "ordersCummulativeA — суммарное число заказов до выбранной даты включительно в группе A;\\\n",
    "revenueCummulativeA — суммарная выручка до выбранной даты включительно в группе A;\\\n",
    "ordersCummulativeB — суммарное количество заказов до выбранной даты включительно в группе B;\\\n",
    "revenueCummulativeB — суммарная выручка до выбранной даты включительно в группе B;\\\n",
    "visitorsPerDateA — количество пользователей в выбранную дату в группе A;\\\n",
    "visitorsPerDateB — количество пользователей в выбранную дату в группе B;\\\n",
    "visitorsCummulativeA  — количество пользователей до выбранной даты включительно в группе A;\\\n",
    "visitorsCummulativeB — количество пользователей до выбранной даты включительно в группе B"
   ]
  },
  {
   "cell_type": "code",
   "execution_count": 40,
   "metadata": {},
   "outputs": [],
   "source": [
    "#ежедневно пользователей\n",
    "visitorsADaily = visitors[visitors['group'] == 'A'][['date', 'visitors']]\n",
    "visitorsADaily.columns = ['date', 'visitorsPerDateA']\n",
    "\n",
    "visitorsACummulative = visitorsADaily.apply(\n",
    "    lambda x: visitorsADaily[visitorsADaily['date'] <= x['date']].agg(\n",
    "        {'date': 'max', 'visitorsPerDateA': 'sum'}\n",
    "    ),\n",
    "    axis=1,\n",
    ")\n",
    "#ежедневно пользователей с накоплением\n",
    "visitorsACummulative.columns = ['date', 'visitorsCummulativeA']\n",
    "\n",
    "visitorsBDaily = visitors[visitors['group'] == 'B'][['date', 'visitors']]\n",
    "visitorsBDaily.columns = ['date', 'visitorsPerDateB']\n",
    "\n",
    "visitorsBCummulative = visitorsBDaily.apply(\n",
    "    lambda x: visitorsBDaily[visitorsBDaily['date'] <= x['date']].agg(\n",
    "        {'date': 'max', 'visitorsPerDateB': 'sum'}\n",
    "    ),\n",
    "    axis=1,\n",
    ")\n",
    "visitorsBCummulative.columns = ['date', 'visitorsCummulativeB']"
   ]
  },
  {
   "cell_type": "code",
   "execution_count": 41,
   "metadata": {},
   "outputs": [],
   "source": [
    "#ежедневно заказов\n",
    "ordersADaily = (\n",
    "    orders[orders['group'] == 'A'][['date', 'transactionid', 'visitorid', 'revenue']]\n",
    "    .groupby('date', as_index=False)\n",
    "    .agg({'transactionid': pd.Series.nunique, 'revenue': 'sum'})\n",
    ")\n",
    "ordersADaily.columns = ['date', 'ordersPerDateA', 'revenuePerDateA']\n",
    "#ежедневно заказов с накоплением\n",
    "ordersACummulative = ordersADaily.apply(\n",
    "    lambda x: ordersADaily[ordersADaily['date'] <= x['date']].agg(\n",
    "        {'date': 'max', 'ordersPerDateA': 'sum', 'revenuePerDateA': 'sum'}\n",
    "    ),\n",
    "    axis=1,\n",
    ").sort_values(by=['date'])\n",
    "ordersACummulative.columns = [\n",
    "    'date',\n",
    "    'ordersCummulativeA',\n",
    "    'revenueCummulativeA',\n",
    "]\n",
    "\n",
    "ordersBDaily = (\n",
    "    orders[orders['group'] == 'B'][['date', 'transactionid', 'visitorid', 'revenue']]\n",
    "    .groupby('date', as_index=False)\n",
    "    .agg({'transactionid': pd.Series.nunique, 'revenue': 'sum'})\n",
    ")\n",
    "ordersBDaily.columns = ['date', 'ordersPerDateB', 'revenuePerDateB']\n",
    "\n",
    "ordersBCummulative = ordersBDaily.apply(\n",
    "    lambda x: ordersBDaily[ordersBDaily['date'] <= x['date']].agg(\n",
    "        {'date': 'max', 'ordersPerDateB': 'sum', 'revenuePerDateB': 'sum'}\n",
    "    ),\n",
    "    axis=1,\n",
    ").sort_values(by=['date'])\n",
    "ordersBCummulative.columns = [\n",
    "    'date',\n",
    "    'ordersCummulativeB',\n",
    "    'revenueCummulativeB',\n",
    "]"
   ]
  },
  {
   "cell_type": "code",
   "execution_count": 42,
   "metadata": {},
   "outputs": [],
   "source": [
    "#объединим полученные данные\n",
    "df = (\n",
    "    ordersADaily.merge(\n",
    "        ordersBDaily, left_on='date', right_on='date', how='left'\n",
    "    )\n",
    "    .merge(ordersACummulative, left_on='date', right_on='date', how='left')\n",
    "    .merge(ordersBCummulative, left_on='date', right_on='date', how='left')\n",
    "    .merge(visitorsADaily, left_on='date', right_on='date', how='left')\n",
    "    .merge(visitorsBDaily, left_on='date', right_on='date', how='left')\n",
    "    .merge(visitorsACummulative, left_on='date', right_on='date', how='left')\n",
    "    .merge(visitorsBCummulative, left_on='date', right_on='date', how='left')\n",
    ")"
   ]
  },
  {
   "cell_type": "code",
   "execution_count": 43,
   "metadata": {},
   "outputs": [
    {
     "data": {
      "text/html": [
       "<div>\n",
       "<style scoped>\n",
       "    .dataframe tbody tr th:only-of-type {\n",
       "        vertical-align: middle;\n",
       "    }\n",
       "\n",
       "    .dataframe tbody tr th {\n",
       "        vertical-align: top;\n",
       "    }\n",
       "\n",
       "    .dataframe thead th {\n",
       "        text-align: right;\n",
       "    }\n",
       "</style>\n",
       "<table border=\"1\" class=\"dataframe\">\n",
       "  <thead>\n",
       "    <tr style=\"text-align: right;\">\n",
       "      <th></th>\n",
       "      <th>date</th>\n",
       "      <th>ordersPerDateA</th>\n",
       "      <th>revenuePerDateA</th>\n",
       "      <th>ordersPerDateB</th>\n",
       "      <th>revenuePerDateB</th>\n",
       "      <th>ordersCummulativeA</th>\n",
       "      <th>revenueCummulativeA</th>\n",
       "      <th>ordersCummulativeB</th>\n",
       "      <th>revenueCummulativeB</th>\n",
       "      <th>visitorsPerDateA</th>\n",
       "      <th>visitorsPerDateB</th>\n",
       "      <th>visitorsCummulativeA</th>\n",
       "      <th>visitorsCummulativeB</th>\n",
       "    </tr>\n",
       "  </thead>\n",
       "  <tbody>\n",
       "    <tr>\n",
       "      <th>0</th>\n",
       "      <td>2019-08-01</td>\n",
       "      <td>23</td>\n",
       "      <td>142779</td>\n",
       "      <td>17</td>\n",
       "      <td>59758</td>\n",
       "      <td>23</td>\n",
       "      <td>142779</td>\n",
       "      <td>17</td>\n",
       "      <td>59758</td>\n",
       "      <td>719</td>\n",
       "      <td>713</td>\n",
       "      <td>719</td>\n",
       "      <td>713</td>\n",
       "    </tr>\n",
       "    <tr>\n",
       "      <th>1</th>\n",
       "      <td>2019-08-02</td>\n",
       "      <td>19</td>\n",
       "      <td>91602</td>\n",
       "      <td>23</td>\n",
       "      <td>162043</td>\n",
       "      <td>42</td>\n",
       "      <td>234381</td>\n",
       "      <td>40</td>\n",
       "      <td>221801</td>\n",
       "      <td>619</td>\n",
       "      <td>581</td>\n",
       "      <td>1338</td>\n",
       "      <td>1294</td>\n",
       "    </tr>\n",
       "    <tr>\n",
       "      <th>2</th>\n",
       "      <td>2019-08-03</td>\n",
       "      <td>24</td>\n",
       "      <td>112473</td>\n",
       "      <td>14</td>\n",
       "      <td>67049</td>\n",
       "      <td>66</td>\n",
       "      <td>346854</td>\n",
       "      <td>54</td>\n",
       "      <td>288850</td>\n",
       "      <td>507</td>\n",
       "      <td>509</td>\n",
       "      <td>1845</td>\n",
       "      <td>1803</td>\n",
       "    </tr>\n",
       "    <tr>\n",
       "      <th>3</th>\n",
       "      <td>2019-08-04</td>\n",
       "      <td>11</td>\n",
       "      <td>41176</td>\n",
       "      <td>14</td>\n",
       "      <td>96890</td>\n",
       "      <td>77</td>\n",
       "      <td>388030</td>\n",
       "      <td>68</td>\n",
       "      <td>385740</td>\n",
       "      <td>717</td>\n",
       "      <td>770</td>\n",
       "      <td>2562</td>\n",
       "      <td>2573</td>\n",
       "    </tr>\n",
       "    <tr>\n",
       "      <th>4</th>\n",
       "      <td>2019-08-05</td>\n",
       "      <td>22</td>\n",
       "      <td>86383</td>\n",
       "      <td>21</td>\n",
       "      <td>89908</td>\n",
       "      <td>99</td>\n",
       "      <td>474413</td>\n",
       "      <td>89</td>\n",
       "      <td>475648</td>\n",
       "      <td>756</td>\n",
       "      <td>707</td>\n",
       "      <td>3318</td>\n",
       "      <td>3280</td>\n",
       "    </tr>\n",
       "  </tbody>\n",
       "</table>\n",
       "</div>"
      ],
      "text/plain": [
       "        date  ordersPerDateA  revenuePerDateA  ordersPerDateB  \\\n",
       "0 2019-08-01              23           142779              17   \n",
       "1 2019-08-02              19            91602              23   \n",
       "2 2019-08-03              24           112473              14   \n",
       "3 2019-08-04              11            41176              14   \n",
       "4 2019-08-05              22            86383              21   \n",
       "\n",
       "   revenuePerDateB  ordersCummulativeA  revenueCummulativeA  \\\n",
       "0            59758                  23               142779   \n",
       "1           162043                  42               234381   \n",
       "2            67049                  66               346854   \n",
       "3            96890                  77               388030   \n",
       "4            89908                  99               474413   \n",
       "\n",
       "   ordersCummulativeB  revenueCummulativeB  visitorsPerDateA  \\\n",
       "0                  17                59758               719   \n",
       "1                  40               221801               619   \n",
       "2                  54               288850               507   \n",
       "3                  68               385740               717   \n",
       "4                  89               475648               756   \n",
       "\n",
       "   visitorsPerDateB  visitorsCummulativeA  visitorsCummulativeB  \n",
       "0               713                   719                   713  \n",
       "1               581                  1338                  1294  \n",
       "2               509                  1845                  1803  \n",
       "3               770                  2562                  2573  \n",
       "4               707                  3318                  3280  "
      ]
     },
     "execution_count": 43,
     "metadata": {},
     "output_type": "execute_result"
    }
   ],
   "source": [
    "df.head()"
   ]
  },
  {
   "cell_type": "markdown",
   "metadata": {},
   "source": [
    "Посчитаем статистическую значимость различия в среднем количестве заказов между группами."
   ]
  },
  {
   "cell_type": "code",
   "execution_count": 44,
   "metadata": {},
   "outputs": [],
   "source": [
    "#создадим переменные\n",
    "ordersByUsersA = (\n",
    "    orders[orders['group'] == 'A']\n",
    "    .groupby('visitorid', as_index=False)\n",
    "    .agg({'transactionid': pd.Series.nunique})\n",
    ")\n",
    "ordersByUsersA.columns = ['visitorid', 'orders']\n",
    "\n",
    "ordersByUsersB = (\n",
    "    orders[orders['group'] == 'B']\n",
    "    .groupby('visitorid', as_index=False)\n",
    "    .agg({'transactionid': pd.Series.nunique})\n",
    ")\n",
    "ordersByUsersB.columns = ['visitorid', 'orders']"
   ]
  },
  {
   "cell_type": "markdown",
   "metadata": {},
   "source": [
    "Объявим переменные sampleA и sampleB, в которых пользователям из разных групп будет соответствовать количество заказов"
   ]
  },
  {
   "cell_type": "markdown",
   "metadata": {},
   "source": [
    "Переменная sample должна состоять из двух частей:\\\n",
    "Список с количеством заказов для каждого из пользователей: ordersByUsers['orders'].\\\n",
    "Нули для пользователей, которые ничего не заказывали. Их количество равно разнице между суммой посетителей и количеством записей о заказах: data['visitorsPerDateA'].sum() - len(ordersByUsersA['orders'])."
   ]
  },
  {
   "cell_type": "code",
   "execution_count": 45,
   "metadata": {},
   "outputs": [],
   "source": [
    "#создадим объект pd.Series нужной длины, список индексов функцией np.arange()\n",
    "#pd.Series(0, index=np.arange(df['visitorsPerDateA'].sum() - len(ordersByUsersA['orders'])), name='orders') "
   ]
  },
  {
   "cell_type": "code",
   "execution_count": 46,
   "metadata": {},
   "outputs": [],
   "source": [
    "#последовательности объединим по строкам функцией pd.concat()\n",
    "sampleA = pd.concat(\n",
    "    [\n",
    "        ordersByUsersA['orders'],\n",
    "        pd.Series(\n",
    "            0,\n",
    "            index=np.arange(\n",
    "                df['visitorsPerDateA'].sum() - len(ordersByUsersA['orders'])\n",
    "            ),\n",
    "            name='orders',\n",
    "        ),\n",
    "    ],\n",
    "    axis=0,\n",
    ")\n",
    "sampleB = pd.concat(\n",
    "    [\n",
    "        ordersByUsersB['orders'],\n",
    "        pd.Series(\n",
    "            0,\n",
    "            index=np.arange(\n",
    "                df['visitorsPerDateB'].sum() - len(ordersByUsersB['orders'])\n",
    "            ),\n",
    "            name='orders',\n",
    "        ),\n",
    "    ],\n",
    "    axis=0,\n",
    ")"
   ]
  },
  {
   "cell_type": "code",
   "execution_count": 47,
   "metadata": {},
   "outputs": [
    {
     "data": {
      "text/plain": [
       "'0.011'"
      ]
     },
     "execution_count": 47,
     "metadata": {},
     "output_type": "execute_result"
    }
   ],
   "source": [
    "#применим критерий Манна-Уитни и округлим p-value\n",
    "\"{0:.3f}\".format(stats.mannwhitneyu(sampleA, sampleB)[1], alternative=\"two-sided\")"
   ]
  },
  {
   "cell_type": "code",
   "execution_count": 48,
   "metadata": {},
   "outputs": [
    {
     "data": {
      "text/plain": [
       "'0.160'"
      ]
     },
     "execution_count": 48,
     "metadata": {},
     "output_type": "execute_result"
    }
   ],
   "source": [
    "#относительный прирост среднего числа заказов группы B к группе A\n",
    "\"{0:.3f}\".format(sampleB.mean() / sampleA.mean() - 1)"
   ]
  },
  {
   "cell_type": "markdown",
   "metadata": {},
   "source": [
    "Вывод: p-value (0.011 < 0.05) меньше статистической значимости,\\\n",
    "следовательно, нулевую гипотезу о том, что значимых различий в среднем числе заказов между группами нет, отвергаем.\\\n",
    "Различия в среднем числе заказов между группами есть.\\\n",
    "Относительный выигрыш группы B равен 16%"
   ]
  },
  {
   "cell_type": "markdown",
   "metadata": {},
   "source": [
    "#### Посчитаем статистическую значимость различий в среднем чеке заказа между группами по «сырым» данным. \n",
    "\n"
   ]
  },
  {
   "cell_type": "markdown",
   "metadata": {},
   "source": [
    "Сформулируем гипотезы:\\\n",
    "Нулевая: различий в среднем чеке заказа между группами нет.\\\n",
    "Альтернативная: различия в среднем чеке между группами есть."
   ]
  },
  {
   "cell_type": "code",
   "execution_count": 49,
   "metadata": {},
   "outputs": [
    {
     "data": {
      "text/plain": [
       "'0.829'"
      ]
     },
     "execution_count": 49,
     "metadata": {},
     "output_type": "execute_result"
    }
   ],
   "source": [
    "'{0:.3f}'.format(stats.mannwhitneyu(orders[orders['group']=='A']['revenue'], orders[orders['group']=='B']['revenue'], alternative=\"two-sided\")[1])"
   ]
  },
  {
   "cell_type": "code",
   "execution_count": 50,
   "metadata": {},
   "outputs": [
    {
     "data": {
      "text/plain": [
       "'0.287'"
      ]
     },
     "execution_count": 50,
     "metadata": {},
     "output_type": "execute_result"
    }
   ],
   "source": [
    "'{0:.3f}'.format(orders[orders['group']=='B']['revenue'].mean()/orders[orders['group']=='A']['revenue'].mean()-1)"
   ]
  },
  {
   "cell_type": "markdown",
   "metadata": {},
   "source": [
    "Вывод: p-value (0.829 > 0.05) , больше стасистической значимости,\n",
    "следовательно, нулевую гипотезу о том, что значимых различий в среднем чеке заказа между группами нет, не отвергаем.\n",
    "Хотя средний чек группы B больше на 28.7% чека группы А."
   ]
  },
  {
   "cell_type": "markdown",
   "metadata": {},
   "source": [
    "#### Посчитаем статистическую значимость различий в среднем количестве заказов на посетителя между группами по «очищенным» данным.\n"
   ]
  },
  {
   "cell_type": "markdown",
   "metadata": {},
   "source": [
    "Сформулируем гипотезы по очищенным данным:\\\n",
    "Нулевая: различий в среднем количестве заказов между группами нет.\\\n",
    "Альтернативная: различия в среднем между группами есть.\\\n",
    "Статистическая значимость = 0.05"
   ]
  },
  {
   "cell_type": "markdown",
   "metadata": {},
   "source": [
    "В пунктах 3.7 и 3.9 мы считали 95 и 99 перцентили и приняли аномальное количество заказов на одного пользователя больше двух, аномальный средний чек больше 30000. "
   ]
  },
  {
   "cell_type": "code",
   "execution_count": 51,
   "metadata": {},
   "outputs": [],
   "source": [
    "#сделаем срез пользователей с числом заказов больше 2 — usersWithManyOrders\n",
    "usersWithManyOrders = pd.concat(\n",
    "    [\n",
    "        ordersByUsersA[ordersByUsersA['orders'] > 2]['visitorid'],\n",
    "        ordersByUsersB[ordersByUsersB['orders'] > 2]['visitorid'],\n",
    "    ],\n",
    "    axis=0,\n",
    ")\n",
    "#срез пользователей, совершивших заказы дороже 30 000 — usersWithExpensiveOrders\n",
    "usersWithExpensiveOrders = orders[orders['revenue'] > 20000]['visitorid']"
   ]
  },
  {
   "cell_type": "code",
   "execution_count": 52,
   "metadata": {},
   "outputs": [],
   "source": [
    "#и объединим по строкам функцией pd.concat()\n",
    "abnormalUsers = (\n",
    "    pd.concat([usersWithManyOrders, usersWithExpensiveOrders], axis=0)\n",
    "    .drop_duplicates()\n",
    "    .sort_values()\n",
    ")"
   ]
  },
  {
   "cell_type": "code",
   "execution_count": 53,
   "metadata": {},
   "outputs": [
    {
     "data": {
      "text/plain": [
       "568     113298937\n",
       "1099    148427295\n",
       "461     154576532\n",
       "928     204675465\n",
       "33      249864742\n",
       "Name: visitorid, dtype: int64"
      ]
     },
     "execution_count": 53,
     "metadata": {},
     "output_type": "execute_result"
    }
   ],
   "source": [
    "#выведем аномальных пользователей\n",
    "abnormalUsers.head()"
   ]
  },
  {
   "cell_type": "code",
   "execution_count": 54,
   "metadata": {},
   "outputs": [
    {
     "data": {
      "text/plain": [
       "76"
      ]
     },
     "execution_count": 54,
     "metadata": {},
     "output_type": "execute_result"
    }
   ],
   "source": [
    "# всего аномальных пользователей\n",
    "abnormalUsers.shape[0]"
   ]
  },
  {
   "cell_type": "code",
   "execution_count": 55,
   "metadata": {},
   "outputs": [],
   "source": [
    "#подготовим выборки количества заказов по пользователям по группам теста\n",
    "sampleAFiltered = pd.concat(\n",
    "    [\n",
    "        ordersByUsersA[\n",
    "            np.logical_not(ordersByUsersA['visitorid'].isin(abnormalUsers))\n",
    "        ]['orders'],\n",
    "        pd.Series(\n",
    "            0,\n",
    "            index=np.arange(\n",
    "                df['visitorsPerDateA'].sum() - len(ordersByUsersA['orders'])\n",
    "            ),\n",
    "            name='orders',\n",
    "        ),\n",
    "    ],\n",
    "    axis=0,\n",
    ")\n",
    "\n",
    "sampleBFiltered = pd.concat(\n",
    "    [\n",
    "        ordersByUsersB[\n",
    "            np.logical_not(ordersByUsersB['visitorid'].isin(abnormalUsers))\n",
    "        ]['orders'],\n",
    "        pd.Series(\n",
    "            0,\n",
    "            index=np.arange(\n",
    "                df['visitorsPerDateB'].sum() - len(ordersByUsersB['orders'])\n",
    "            ),\n",
    "            name='orders',\n",
    "        ),\n",
    "    ],\n",
    "    axis=0,\n",
    ")"
   ]
  },
  {
   "cell_type": "code",
   "execution_count": 56,
   "metadata": {},
   "outputs": [
    {
     "data": {
      "text/plain": [
       "'0.014'"
      ]
     },
     "execution_count": 56,
     "metadata": {},
     "output_type": "execute_result"
    }
   ],
   "source": [
    "#применим статистический критерий Манна-Уитни\n",
    "'{0:.3f}'.format(stats.mannwhitneyu(sampleAFiltered, sampleBFiltered)[1])"
   ]
  },
  {
   "cell_type": "code",
   "execution_count": 57,
   "metadata": {},
   "outputs": [
    {
     "data": {
      "text/plain": [
       "'0.014'"
      ]
     },
     "execution_count": 57,
     "metadata": {},
     "output_type": "execute_result"
    }
   ],
   "source": [
    "#применим статистический критерий Манна-Уитни  с параметром двустороннего теста\n",
    "'{0:.3f}'.format(stats.mannwhitneyu(sampleAFiltered, sampleBFiltered, alternative=\"two-sided\")[1])"
   ]
  },
  {
   "cell_type": "code",
   "execution_count": 58,
   "metadata": {},
   "outputs": [
    {
     "data": {
      "text/plain": [
       "'0.181'"
      ]
     },
     "execution_count": 58,
     "metadata": {},
     "output_type": "execute_result"
    }
   ],
   "source": [
    "#относительный прирост среднего числа заказов группы B к группе A\n",
    "'{0:.3f}'.format(sampleBFiltered.mean()/sampleAFiltered.mean()-1)"
   ]
  },
  {
   "cell_type": "markdown",
   "metadata": {},
   "source": [
    "Вывод: p-value по сравнению с сырыми данными вырос с 0.011 до 0.014, но остался меньше статистической значимости,\\\n",
    "следовательно, нулевую гипотезу о том, что значимых различий в среднем числе заказов между группами нет, отвергаем.\\\n",
    "Есть различия в среднем числе заказов между группами по очищенным данным.\\\n",
    "Относительный пророст числа заказов группы B к группе А составил 18% "
   ]
  },
  {
   "cell_type": "markdown",
   "metadata": {},
   "source": [
    "#### Посчитаем статистическую значимость различий в среднем чеке заказа между группами по «очищенным» данным. \n",
    "\n"
   ]
  },
  {
   "cell_type": "markdown",
   "metadata": {},
   "source": [
    "Сформулируем гипотезы по чистым данным:\\\n",
    "Нулевая: различий в среднем чеке заказа между группами нет.\\\n",
    "Альтернативная: различия в среднем чеке между группами есть.\\\n",
    "Статистическая значимость = 0.05"
   ]
  },
  {
   "cell_type": "code",
   "execution_count": 59,
   "metadata": {},
   "outputs": [
    {
     "data": {
      "text/plain": [
       "'0.617'"
      ]
     },
     "execution_count": 59,
     "metadata": {},
     "output_type": "execute_result"
    }
   ],
   "source": [
    "'{0:.3f}'.format(\n",
    "        stats.mannwhitneyu(\n",
    "            orders[\n",
    "                np.logical_and(\n",
    "                    orders['group'] == 'A',\n",
    "                    np.logical_not(orders['visitorid'].isin(abnormalUsers))\n",
    "                )\n",
    "            ]['revenue'],\n",
    "            orders[\n",
    "                np.logical_and(\n",
    "                    orders['group'] == 'B',\n",
    "                    np.logical_not(orders['visitorid'].isin(abnormalUsers)),\n",
    "                )\n",
    "            ]['revenue'],\n",
    "        )[1]\n",
    "    )"
   ]
  },
  {
   "cell_type": "code",
   "execution_count": 60,
   "metadata": {},
   "outputs": [
    {
     "data": {
      "text/plain": [
       "'-0.060'"
      ]
     },
     "execution_count": 60,
     "metadata": {},
     "output_type": "execute_result"
    }
   ],
   "source": [
    "\"{0:.3f}\".format(\n",
    "        orders[\n",
    "            np.logical_and(\n",
    "                orders['group'] == 'B',\n",
    "                np.logical_not(orders['visitorid'].isin(abnormalUsers)),\n",
    "            )\n",
    "        ]['revenue'].mean()\n",
    "        / orders[\n",
    "            np.logical_and(\n",
    "                orders['group'] == 'A',\n",
    "                np.logical_not(orders['visitorid'].isin(abnormalUsers)),\n",
    "            )\n",
    "        ]['revenue'].mean()\n",
    "        - 1\n",
    "    )"
   ]
  },
  {
   "cell_type": "markdown",
   "metadata": {},
   "source": [
    "Вывод: P-value уменьшился с 0.829 до 0.617 но остался выше статистической значимости  0.617 > 0.05, следовательно,\\\n",
    "нулевую гипотезу не отвергаем.\\\n",
    "Значимых различий в среднем чеке заказа между группами в чистых данных нет.\\\n",
    "После очистки, разница между сегментами сократилась с 28.7% до -0.06%.\\\n",
    "Устранение аномалий нивелировало разницу в среднем чеке. "
   ]
  },
  {
   "cell_type": "markdown",
   "metadata": {},
   "source": [
    "<div class=\"alert alert-block alert-danger\">\n",
    "<h2> Комментарий ревьюера <a class=\"tocSkip\"></h2>\n",
    "\n",
    "    \n",
    "<b>На доработку🤔:</b> \n",
    "    \n",
    "Несколько важных моментов, которые стоит доработать:\n",
    "    \n",
    "1) нам важно сформулировать по паре гипотез перед каждом из 4 тестов, перед их проведением, у тебя пока есть формулировка гипотез для тестов на неочищенных данных, давай также добавим формулировку гипотез для тестов на очищенных данных.\n",
    "    \n",
    "2) интерпретацию тестов лучше давать более полную, с привязкой к гипотезам (т.е. не \"результат почти не изменился\", а с учетом того, какие это были данные очищенные или не очищенные, что мы тестировали (конверсию, заказы), и какую  гипотезу отвергаем)"
   ]
  },
  {
   "cell_type": "markdown",
   "metadata": {},
   "source": [
    "<div class=\"alert alert-info\">\n",
    "<b>\n",
    "Спасибо, абсолютно правильное замечание, исправил"
   ]
  },
  {
   "cell_type": "markdown",
   "metadata": {},
   "source": [
    "<div class=\"alert alert-success\">\n",
    "<h2> Комментарий ревьюера: вторая итерация ревью <a class=\"tocSkip\"> </h2>\n",
    "\n",
    "<b>Все отлично!👍</b> \n",
    "    \n",
    "Согласна с формулировками гипотез:)\n",
    "\n",
    "</div>"
   ]
  },
  {
   "cell_type": "markdown",
   "metadata": {},
   "source": [
    "<div class=\"alert alert-warning\">\n",
    "    <h2> Комментарий ревьюера <a class=\"tocSkip\"> </h2>\n",
    "    \n",
    "<b>Некоторые замечания и рекомендации💡:</b> \n",
    "    \n",
    "Несколько рекомендацией по этому шагу анализа (носят рекомендательный характер и являются развивающей обратной связью, при желании и возможности можно имплементировать часть (или все) рекомендации, а можно просто взять на вооружение🙌):\n",
    "\n",
    "* есть особенность в реализации теста Манна-Уитни <code>stats.mannwhitneyu</code>, тест имеет параметр <code>alternative</code>, по-умолчанию, он принимает значение <code>None</code> для совместимости, но в таком случае тест выполняет проверку похожую на одностороннюю, что не совсем корректно для нашего теста. Более корректные результаты можно получить, используя <code>alternative=\"two-sided\"</code>\n",
    "    \n",
    "Подробнее о проверках можно почитать вот в этой [статье](http://www.stat.yale.edu/Courses/1997-98/101/sigtest.htm#:~:text=An%20alternative%20hypothesis%20may%20be,the%20direction%20does%20not%20matter.) \n",
    "        \n",
    "В новой версии библиотеки scipy этот аргумент специфицируется по дефолту. В более старых версиях - его важно специфицировать. \n",
    "   \n",
    "* и еще про проблему выбора теста (одностороннего или двустороннего ты можешь почитать по ссылкам ниже):\n",
    "        \n",
    "`A two-tailed test is appropriate if you want to determine if there is any difference between the groups you are comparing. For instance, if you want to see if Group A scored higher or lower than Group B, then you would want to use a two-tailed test. This is because a two-tailed test uses both the positive and negative tails of the distribution. In other words, it tests for the possibility of positive or negative differences.`\n",
    "\n",
    "`A one-tailed test is appropriate if you only want to determine if there is a difference between groups in a specific direction. So, if you are only interested in determining if Group A scored higher than Group B, and you are completely uninterested in possibility of Group A scoring lower than Group B, then you may want to use a one-tailed test.`\n",
    "    \n",
    "Источник: https://www.statisticssolutions.com/should-you-use-a-one-tailed-test-or-a-two-tailed-test-for-your-data-analysis/#:~:text=This%20is%20because%20a%20two,groups%20in%20a%20specific%20direction.\n",
    "    \n",
    "И еще несколько ссылок по этому вопросу:\n",
    "    \n",
    "https://sphweb.bumc.bu.edu/otlt/mph-modules/bs/bs704_nonparametric/bs704_nonparametric4.html\n",
    "    \n",
    "https://stats.idre.ucla.edu/other/mult-pkg/faq/general/faq-what-are-the-differences-between-one-tailed-and-two-tailed-tests/\n",
    "    \n",
    "https://www.statisticshowto.com/probability-and-statistics/hypothesis-testing/one-tailed-test-or-two/\n",
    "        \n",
    "* чтобы аргументировать применение теста Манна-Уитни (один из аргументов - ненормальность распределения), можно проверить выборки на нормальность распределения, с этой задачей справится тест Шапиро:\n",
    "        \n",
    "реализация на Python\n",
    "        \n",
    "https://www.statology.org/shapiro-wilk-test-python/\n",
    "        \n",
    "https://machinelearningmastery.com/a-gentle-introduction-to-normality-tests-in-python/\n",
    "        \n",
    "https://towardsdatascience.com/methods-for-normality-test-with-application-in-python-bb91b49ed0f5"
   ]
  },
  {
   "cell_type": "markdown",
   "metadata": {},
   "source": [
    "#### Остановить тест, зафиксировать победу  группы В.\n"
   ]
  },
  {
   "cell_type": "markdown",
   "metadata": {},
   "source": [
    "Вывод: совместно с отделом маркетинга мы подготовили список из 9 гипотез для увеличения выручки интернет-магазина.\\\n",
    "По результатам приоритизации гипотез была выбрана №7, с показателем RICE превосходящим вдвое следующую гипотезу.\\\n",
    "Безусловно №7 самая оптимальная для проведения теста, показавшая высочайший уровень охвата, высокие уверенность и силу влияния.\\\n",
    "Кроме того \"Добавить форму подписки на все основные страницы сайта, чтобы собрать базу клиентов для email-рассылок \" технически несложно - потребуется максимум 2 часа работы программиста для создания формы на конструкторе и еще 2 на адаптацию к главным страницам сайта, итого около 4 часов.\\\n",
    "Никаких изменений в операционных процессах не потребуется, форма будет добавлена на сайт в режиме реального времени и сразу начнет работать.\n",
    "\n",
    "По результатам анализа A/B-тестирования, после проведения очистки от аномалных значений группа В показала существенное 18% увеличение количества заказов над группой А, при одинаковом среднем чеке.\n",
    "\n",
    "Рекомендуем внедрить форму подписки на все основные страницы сайта, чтобы собрать базу клиентов для email-рассылок ."
   ]
  },
  {
   "cell_type": "markdown",
   "metadata": {},
   "source": [
    "<div style=\"border:solid Chocolate 2px; padding: 40px\">\n",
    "\n",
    "**Общий вывод по проекту**\n",
    "\n",
    "Андрей, спасибо за твой проект! Ты приложил много усилий, чтобы довести его до конца, все задачи в рамках проекта тебе удалось успешно решить, это видно невооруженным глазом, отличная работа! У меня есть несколько рекомендаций, над которыми стоит поработать.\n",
    "\n",
    "**Отмечу отдельные положительные моменты проекта🙂**:\n",
    "* На разных шагах проекта ты предлагал очень интересные решения и методы для их реализации. Хорошая работа!\n",
    "* Ты активно работал с визуализацией, хорошо, что ты используешь графики в работе над проектами!\n",
    "* тест для проверки гипотез выбран верно, интерпретация результатов теста также корректна:)\n",
    "* Проект в целом хорошо структурирован и оформлен, это плюс:)\n",
    "\n",
    "    \n",
    "**На что стоит обратить внимание:🙂**:\n",
    "\n",
    "* Важно сформулировать гипотезы перед проведением каждого из тестов.\n",
    "* Стоит скорректировать графики.\n",
    "* Можно поработать над остальными комментариями в желтых блоках.\n",
    "    \n",
    "\n",
    "    \n",
    "**Желаю удачи и жду твой проект на повторное ревью!**😉\n",
    "    \n",
    "![gif](https://media.giphy.com/media/l41Yh1olOKd1Tgbw4/giphy.gif)"
   ]
  },
  {
   "cell_type": "markdown",
   "metadata": {},
   "source": [
    "<div style=\"border:solid Chocolate 2px; padding: 40px\">\n",
    "\n",
    "**Общий вывод по проекту: вторая итерация ревью**\n",
    "\n",
    "Андрей, спасибо, что прислал проект с доработками! Основные моменты скорректированы, хорошая работа! \n",
    "    \n",
    "Спешу тебе сообщить, что твой проект принят и ты можешь перейти на следующий спринт🐱‍🏍\n",
    "    \n",
    "Желаю тебе крутых и интересных проектов на следующих спринтах🙌"
   ]
  },
  {
   "cell_type": "code",
   "execution_count": null,
   "metadata": {},
   "outputs": [],
   "source": []
  }
 ],
 "metadata": {
  "ExecuteTimeLog": [
   {
    "duration": 46,
    "start_time": "2023-01-24T17:58:43.878Z"
   },
   {
    "duration": 70,
    "start_time": "2023-01-24T17:59:23.636Z"
   },
   {
    "duration": 782,
    "start_time": "2023-01-24T18:00:17.389Z"
   },
   {
    "duration": 87,
    "start_time": "2023-01-24T18:00:19.063Z"
   },
   {
    "duration": 10,
    "start_time": "2023-01-24T18:00:59.022Z"
   },
   {
    "duration": 5,
    "start_time": "2023-01-24T18:01:24.315Z"
   },
   {
    "duration": 8,
    "start_time": "2023-01-24T18:01:55.655Z"
   },
   {
    "duration": 11,
    "start_time": "2023-01-24T18:02:18.417Z"
   },
   {
    "duration": 9,
    "start_time": "2023-01-24T18:04:55.811Z"
   },
   {
    "duration": 8,
    "start_time": "2023-01-24T18:05:08.023Z"
   },
   {
    "duration": 8,
    "start_time": "2023-01-24T18:06:09.398Z"
   },
   {
    "duration": 8,
    "start_time": "2023-01-24T18:06:25.999Z"
   },
   {
    "duration": 1451,
    "start_time": "2023-01-25T05:10:27.737Z"
   },
   {
    "duration": 0,
    "start_time": "2023-01-25T05:10:29.190Z"
   },
   {
    "duration": 0,
    "start_time": "2023-01-25T05:10:29.191Z"
   },
   {
    "duration": 4,
    "start_time": "2023-01-25T05:11:00.070Z"
   },
   {
    "duration": 4,
    "start_time": "2023-01-25T05:26:09.590Z"
   },
   {
    "duration": 63,
    "start_time": "2023-01-25T05:26:10.164Z"
   },
   {
    "duration": 11,
    "start_time": "2023-01-25T05:26:10.693Z"
   },
   {
    "duration": 4,
    "start_time": "2023-01-25T05:33:23.461Z"
   },
   {
    "duration": 23,
    "start_time": "2023-01-25T05:33:24.081Z"
   },
   {
    "duration": 4,
    "start_time": "2023-01-25T05:33:24.709Z"
   },
   {
    "duration": 9,
    "start_time": "2023-01-25T05:33:25.438Z"
   },
   {
    "duration": 11,
    "start_time": "2023-01-25T05:34:49.598Z"
   },
   {
    "duration": 4,
    "start_time": "2023-01-25T05:39:53.227Z"
   },
   {
    "duration": 9,
    "start_time": "2023-01-25T05:39:54.047Z"
   },
   {
    "duration": 15,
    "start_time": "2023-01-25T05:45:25.281Z"
   },
   {
    "duration": 6,
    "start_time": "2023-01-25T05:45:57.633Z"
   },
   {
    "duration": 29,
    "start_time": "2023-01-25T05:45:57.641Z"
   },
   {
    "duration": 11,
    "start_time": "2023-01-25T05:45:57.671Z"
   },
   {
    "duration": 0,
    "start_time": "2023-01-25T05:45:57.684Z"
   },
   {
    "duration": 0,
    "start_time": "2023-01-25T05:45:57.685Z"
   },
   {
    "duration": 11,
    "start_time": "2023-01-25T05:46:05.022Z"
   },
   {
    "duration": 14,
    "start_time": "2023-01-25T05:50:39.880Z"
   },
   {
    "duration": 14,
    "start_time": "2023-01-25T05:50:45.981Z"
   },
   {
    "duration": 4,
    "start_time": "2023-01-25T05:51:03.073Z"
   },
   {
    "duration": 10,
    "start_time": "2023-01-25T05:51:03.962Z"
   },
   {
    "duration": 8,
    "start_time": "2023-01-25T06:08:54.275Z"
   },
   {
    "duration": 8,
    "start_time": "2023-01-25T06:13:48.572Z"
   },
   {
    "duration": 51,
    "start_time": "2023-01-25T08:51:31.880Z"
   },
   {
    "duration": 1303,
    "start_time": "2023-01-25T08:51:45.080Z"
   },
   {
    "duration": 106,
    "start_time": "2023-01-25T08:51:46.385Z"
   },
   {
    "duration": 4,
    "start_time": "2023-01-25T08:51:46.939Z"
   },
   {
    "duration": 12,
    "start_time": "2023-01-25T08:51:48.015Z"
   },
   {
    "duration": 12,
    "start_time": "2023-01-25T08:51:54.641Z"
   },
   {
    "duration": 11,
    "start_time": "2023-01-25T08:52:24.663Z"
   },
   {
    "duration": 8,
    "start_time": "2023-01-25T08:53:11.905Z"
   },
   {
    "duration": 10,
    "start_time": "2023-01-25T08:53:43.309Z"
   },
   {
    "duration": 13,
    "start_time": "2023-01-25T08:54:59.269Z"
   },
   {
    "duration": 11,
    "start_time": "2023-01-25T08:57:55.609Z"
   },
   {
    "duration": 4,
    "start_time": "2023-01-25T08:58:14.432Z"
   },
   {
    "duration": 32,
    "start_time": "2023-01-25T08:58:14.438Z"
   },
   {
    "duration": 3,
    "start_time": "2023-01-25T08:58:14.472Z"
   },
   {
    "duration": 24,
    "start_time": "2023-01-25T08:58:14.477Z"
   },
   {
    "duration": 25,
    "start_time": "2023-01-25T08:58:14.503Z"
   },
   {
    "duration": 17,
    "start_time": "2023-01-25T08:58:14.529Z"
   },
   {
    "duration": 30,
    "start_time": "2023-01-25T08:58:14.548Z"
   },
   {
    "duration": 13,
    "start_time": "2023-01-25T08:59:26.837Z"
   },
   {
    "duration": 13,
    "start_time": "2023-01-25T09:01:53.741Z"
   },
   {
    "duration": 13,
    "start_time": "2023-01-25T09:10:14.321Z"
   },
   {
    "duration": 375,
    "start_time": "2023-01-25T10:48:51.919Z"
   },
   {
    "duration": 61,
    "start_time": "2023-01-25T10:50:03.445Z"
   },
   {
    "duration": 5,
    "start_time": "2023-01-25T10:50:09.471Z"
   },
   {
    "duration": 37,
    "start_time": "2023-01-25T10:50:09.478Z"
   },
   {
    "duration": 3,
    "start_time": "2023-01-25T10:50:09.517Z"
   },
   {
    "duration": 27,
    "start_time": "2023-01-25T10:50:09.522Z"
   },
   {
    "duration": 35,
    "start_time": "2023-01-25T10:50:09.550Z"
   },
   {
    "duration": 38,
    "start_time": "2023-01-25T10:50:09.586Z"
   },
   {
    "duration": 107,
    "start_time": "2023-01-25T10:50:09.626Z"
   },
   {
    "duration": 63,
    "start_time": "2023-01-25T10:59:28.590Z"
   },
   {
    "duration": 9,
    "start_time": "2023-01-25T10:59:52.089Z"
   },
   {
    "duration": 9,
    "start_time": "2023-01-25T11:00:01.788Z"
   },
   {
    "duration": 8,
    "start_time": "2023-01-25T11:00:11.610Z"
   },
   {
    "duration": 9,
    "start_time": "2023-01-25T11:00:23.389Z"
   },
   {
    "duration": 236,
    "start_time": "2023-01-25T11:01:02.852Z"
   },
   {
    "duration": 264,
    "start_time": "2023-01-25T11:01:36.839Z"
   },
   {
    "duration": 5,
    "start_time": "2023-01-25T11:01:50.287Z"
   },
   {
    "duration": 37,
    "start_time": "2023-01-25T11:01:50.294Z"
   },
   {
    "duration": 3,
    "start_time": "2023-01-25T11:01:50.333Z"
   },
   {
    "duration": 28,
    "start_time": "2023-01-25T11:01:50.338Z"
   },
   {
    "duration": 19,
    "start_time": "2023-01-25T11:01:50.367Z"
   },
   {
    "duration": 17,
    "start_time": "2023-01-25T11:01:50.388Z"
   },
   {
    "duration": 243,
    "start_time": "2023-01-25T11:01:50.407Z"
   },
   {
    "duration": 0,
    "start_time": "2023-01-25T11:01:50.652Z"
   },
   {
    "duration": 0,
    "start_time": "2023-01-25T11:01:50.654Z"
   },
   {
    "duration": 63,
    "start_time": "2023-01-25T11:02:05.552Z"
   },
   {
    "duration": 13,
    "start_time": "2023-01-25T11:02:08.931Z"
   },
   {
    "duration": 9,
    "start_time": "2023-01-25T11:02:09.569Z"
   },
   {
    "duration": 7,
    "start_time": "2023-01-25T11:04:52.733Z"
   },
   {
    "duration": 6,
    "start_time": "2023-01-25T11:04:57.564Z"
   },
   {
    "duration": 8,
    "start_time": "2023-01-25T11:07:07.859Z"
   },
   {
    "duration": 5,
    "start_time": "2023-01-25T11:07:08.449Z"
   },
   {
    "duration": 13,
    "start_time": "2023-01-25T11:09:05.113Z"
   },
   {
    "duration": 11,
    "start_time": "2023-01-25T11:09:30.718Z"
   },
   {
    "duration": 53,
    "start_time": "2023-01-25T11:12:40.232Z"
   },
   {
    "duration": 11,
    "start_time": "2023-01-25T11:12:45.297Z"
   },
   {
    "duration": 10,
    "start_time": "2023-01-25T11:13:03.436Z"
   },
   {
    "duration": 10,
    "start_time": "2023-01-25T11:13:08.850Z"
   },
   {
    "duration": 7,
    "start_time": "2023-01-25T11:13:14.652Z"
   },
   {
    "duration": 62,
    "start_time": "2023-01-25T11:13:35.310Z"
   },
   {
    "duration": 13,
    "start_time": "2023-01-25T11:13:36.035Z"
   },
   {
    "duration": 8,
    "start_time": "2023-01-25T11:13:37.012Z"
   },
   {
    "duration": 11,
    "start_time": "2023-01-25T11:13:37.928Z"
   },
   {
    "duration": 9,
    "start_time": "2023-01-25T11:13:38.630Z"
   },
   {
    "duration": 6,
    "start_time": "2023-01-25T11:13:40.892Z"
   },
   {
    "duration": 6,
    "start_time": "2023-01-25T11:13:41.530Z"
   },
   {
    "duration": 6,
    "start_time": "2023-01-25T11:13:43.372Z"
   },
   {
    "duration": 6,
    "start_time": "2023-01-25T11:13:44.019Z"
   },
   {
    "duration": 4,
    "start_time": "2023-01-25T11:20:39.995Z"
   },
   {
    "duration": 15,
    "start_time": "2023-01-25T11:31:16.713Z"
   },
   {
    "duration": 3,
    "start_time": "2023-01-25T11:34:41.126Z"
   },
   {
    "duration": 30,
    "start_time": "2023-01-25T11:34:41.131Z"
   },
   {
    "duration": 3,
    "start_time": "2023-01-25T11:34:41.162Z"
   },
   {
    "duration": 15,
    "start_time": "2023-01-25T11:34:41.167Z"
   },
   {
    "duration": 17,
    "start_time": "2023-01-25T11:34:41.185Z"
   },
   {
    "duration": 16,
    "start_time": "2023-01-25T11:34:41.204Z"
   },
   {
    "duration": 61,
    "start_time": "2023-01-25T11:34:41.221Z"
   },
   {
    "duration": 11,
    "start_time": "2023-01-25T11:34:41.284Z"
   },
   {
    "duration": 8,
    "start_time": "2023-01-25T11:34:41.297Z"
   },
   {
    "duration": 23,
    "start_time": "2023-01-25T11:34:41.306Z"
   },
   {
    "duration": 15,
    "start_time": "2023-01-25T11:34:41.331Z"
   },
   {
    "duration": 10,
    "start_time": "2023-01-25T11:34:41.348Z"
   },
   {
    "duration": 7,
    "start_time": "2023-01-25T11:34:41.360Z"
   },
   {
    "duration": 7,
    "start_time": "2023-01-25T11:34:41.370Z"
   },
   {
    "duration": 11,
    "start_time": "2023-01-25T11:34:41.378Z"
   },
   {
    "duration": 5,
    "start_time": "2023-01-25T11:34:41.391Z"
   },
   {
    "duration": 14,
    "start_time": "2023-01-25T11:34:41.397Z"
   },
   {
    "duration": 9,
    "start_time": "2023-01-25T11:35:46.906Z"
   },
   {
    "duration": 9,
    "start_time": "2023-01-25T11:35:53.272Z"
   },
   {
    "duration": 12,
    "start_time": "2023-01-25T11:37:16.638Z"
   },
   {
    "duration": 31,
    "start_time": "2023-01-25T11:56:09.556Z"
   },
   {
    "duration": 9,
    "start_time": "2023-01-25T11:57:10.246Z"
   },
   {
    "duration": 11,
    "start_time": "2023-01-25T11:57:27.686Z"
   },
   {
    "duration": 10,
    "start_time": "2023-01-25T11:58:25.878Z"
   },
   {
    "duration": 9,
    "start_time": "2023-01-25T11:58:37.853Z"
   },
   {
    "duration": 10,
    "start_time": "2023-01-25T11:59:04.944Z"
   },
   {
    "duration": 10,
    "start_time": "2023-01-25T11:59:11.252Z"
   },
   {
    "duration": 9,
    "start_time": "2023-01-25T11:59:37.617Z"
   },
   {
    "duration": 10,
    "start_time": "2023-01-25T12:00:00.677Z"
   },
   {
    "duration": 8,
    "start_time": "2023-01-25T12:00:35.040Z"
   },
   {
    "duration": 12,
    "start_time": "2023-01-25T12:00:52.424Z"
   },
   {
    "duration": 9,
    "start_time": "2023-01-25T12:03:21.685Z"
   },
   {
    "duration": 8,
    "start_time": "2023-01-25T12:07:11.038Z"
   },
   {
    "duration": 10,
    "start_time": "2023-01-25T12:07:20.084Z"
   },
   {
    "duration": 10,
    "start_time": "2023-01-25T12:08:32.371Z"
   },
   {
    "duration": 10,
    "start_time": "2023-01-25T12:08:51.548Z"
   },
   {
    "duration": 10,
    "start_time": "2023-01-25T12:09:32.236Z"
   },
   {
    "duration": 6,
    "start_time": "2023-01-25T12:09:52.142Z"
   },
   {
    "duration": 7,
    "start_time": "2023-01-25T12:10:24.298Z"
   },
   {
    "duration": 6,
    "start_time": "2023-01-25T12:16:05.468Z"
   },
   {
    "duration": 11,
    "start_time": "2023-01-25T12:17:40.448Z"
   },
   {
    "duration": 5,
    "start_time": "2023-01-25T12:17:55.254Z"
   },
   {
    "duration": 5,
    "start_time": "2023-01-25T12:18:11.589Z"
   },
   {
    "duration": 7,
    "start_time": "2023-01-25T12:22:29.310Z"
   },
   {
    "duration": 6,
    "start_time": "2023-01-25T12:42:22.967Z"
   },
   {
    "duration": 4,
    "start_time": "2023-01-25T14:03:21.805Z"
   },
   {
    "duration": 34,
    "start_time": "2023-01-25T14:03:21.811Z"
   },
   {
    "duration": 3,
    "start_time": "2023-01-25T14:03:21.847Z"
   },
   {
    "duration": 17,
    "start_time": "2023-01-25T14:03:21.852Z"
   },
   {
    "duration": 14,
    "start_time": "2023-01-25T14:03:21.871Z"
   },
   {
    "duration": 24,
    "start_time": "2023-01-25T14:03:21.888Z"
   },
   {
    "duration": 57,
    "start_time": "2023-01-25T14:03:21.914Z"
   },
   {
    "duration": 11,
    "start_time": "2023-01-25T14:03:21.973Z"
   },
   {
    "duration": 9,
    "start_time": "2023-01-25T14:03:21.985Z"
   },
   {
    "duration": 11,
    "start_time": "2023-01-25T14:03:21.995Z"
   },
   {
    "duration": 15,
    "start_time": "2023-01-25T14:03:22.007Z"
   },
   {
    "duration": 12,
    "start_time": "2023-01-25T14:03:22.023Z"
   },
   {
    "duration": 9,
    "start_time": "2023-01-25T14:03:22.037Z"
   },
   {
    "duration": 10,
    "start_time": "2023-01-25T14:03:22.050Z"
   },
   {
    "duration": 9,
    "start_time": "2023-01-25T14:03:22.062Z"
   },
   {
    "duration": 10,
    "start_time": "2023-01-25T14:03:22.073Z"
   },
   {
    "duration": 10,
    "start_time": "2023-01-25T14:03:22.085Z"
   },
   {
    "duration": 198,
    "start_time": "2023-01-25T14:03:22.096Z"
   },
   {
    "duration": 144,
    "start_time": "2023-01-25T14:03:22.296Z"
   },
   {
    "duration": 9,
    "start_time": "2023-01-25T14:03:22.442Z"
   },
   {
    "duration": 11,
    "start_time": "2023-01-25T14:03:22.453Z"
   },
   {
    "duration": 356,
    "start_time": "2023-01-25T14:03:22.466Z"
   },
   {
    "duration": 267,
    "start_time": "2023-01-25T14:03:22.824Z"
   },
   {
    "duration": 172,
    "start_time": "2023-01-25T14:03:23.092Z"
   },
   {
    "duration": 6,
    "start_time": "2023-01-25T14:04:53.348Z"
   },
   {
    "duration": 286,
    "start_time": "2023-01-25T14:04:54.510Z"
   },
   {
    "duration": 4,
    "start_time": "2023-01-25T14:06:49.769Z"
   },
   {
    "duration": 26,
    "start_time": "2023-01-25T14:06:49.775Z"
   },
   {
    "duration": 4,
    "start_time": "2023-01-25T14:06:49.804Z"
   },
   {
    "duration": 32,
    "start_time": "2023-01-25T14:06:49.809Z"
   },
   {
    "duration": 14,
    "start_time": "2023-01-25T14:06:49.844Z"
   },
   {
    "duration": 25,
    "start_time": "2023-01-25T14:06:49.860Z"
   },
   {
    "duration": 274,
    "start_time": "2023-01-25T14:06:49.886Z"
   },
   {
    "duration": 12,
    "start_time": "2023-01-25T14:06:50.161Z"
   },
   {
    "duration": 7,
    "start_time": "2023-01-25T14:06:50.175Z"
   },
   {
    "duration": 17,
    "start_time": "2023-01-25T14:06:50.185Z"
   },
   {
    "duration": 22,
    "start_time": "2023-01-25T14:06:50.204Z"
   },
   {
    "duration": 32,
    "start_time": "2023-01-25T14:06:50.228Z"
   },
   {
    "duration": 16,
    "start_time": "2023-01-25T14:06:50.263Z"
   },
   {
    "duration": 7,
    "start_time": "2023-01-25T14:06:50.283Z"
   },
   {
    "duration": 14,
    "start_time": "2023-01-25T14:06:50.292Z"
   },
   {
    "duration": 10,
    "start_time": "2023-01-25T14:06:50.307Z"
   },
   {
    "duration": 9,
    "start_time": "2023-01-25T14:06:50.319Z"
   },
   {
    "duration": 198,
    "start_time": "2023-01-25T14:06:50.330Z"
   },
   {
    "duration": 141,
    "start_time": "2023-01-25T14:06:50.530Z"
   },
   {
    "duration": 6,
    "start_time": "2023-01-25T14:06:50.673Z"
   },
   {
    "duration": 13,
    "start_time": "2023-01-25T14:06:50.681Z"
   },
   {
    "duration": 309,
    "start_time": "2023-01-25T14:06:50.696Z"
   },
   {
    "duration": 55,
    "start_time": "2023-01-25T14:59:59.355Z"
   },
   {
    "duration": 1368,
    "start_time": "2023-01-25T15:00:03.581Z"
   },
   {
    "duration": 65,
    "start_time": "2023-01-25T15:00:04.951Z"
   },
   {
    "duration": 5,
    "start_time": "2023-01-25T15:00:05.018Z"
   },
   {
    "duration": 24,
    "start_time": "2023-01-25T15:00:05.025Z"
   },
   {
    "duration": 13,
    "start_time": "2023-01-25T15:00:05.052Z"
   },
   {
    "duration": 14,
    "start_time": "2023-01-25T15:00:05.066Z"
   },
   {
    "duration": 168,
    "start_time": "2023-01-25T15:00:05.082Z"
   },
   {
    "duration": 14,
    "start_time": "2023-01-25T15:00:05.251Z"
   },
   {
    "duration": 10,
    "start_time": "2023-01-25T15:00:05.267Z"
   },
   {
    "duration": 24,
    "start_time": "2023-01-25T15:00:05.278Z"
   },
   {
    "duration": 45,
    "start_time": "2023-01-25T15:00:05.304Z"
   },
   {
    "duration": 17,
    "start_time": "2023-01-25T15:00:05.351Z"
   },
   {
    "duration": 12,
    "start_time": "2023-01-25T15:00:05.370Z"
   },
   {
    "duration": 19,
    "start_time": "2023-01-25T15:00:05.385Z"
   },
   {
    "duration": 31,
    "start_time": "2023-01-25T15:00:05.406Z"
   },
   {
    "duration": 6,
    "start_time": "2023-01-25T15:00:05.438Z"
   },
   {
    "duration": 7,
    "start_time": "2023-01-25T15:00:05.445Z"
   },
   {
    "duration": 174,
    "start_time": "2023-01-25T15:00:05.454Z"
   },
   {
    "duration": 126,
    "start_time": "2023-01-25T15:00:05.630Z"
   },
   {
    "duration": 7,
    "start_time": "2023-01-25T15:00:05.757Z"
   },
   {
    "duration": 14,
    "start_time": "2023-01-25T15:00:05.765Z"
   },
   {
    "duration": 376,
    "start_time": "2023-01-25T15:00:05.780Z"
   },
   {
    "duration": 280,
    "start_time": "2023-01-25T15:00:06.158Z"
   },
   {
    "duration": 5,
    "start_time": "2023-01-25T15:03:05.318Z"
   },
   {
    "duration": 37,
    "start_time": "2023-01-25T15:03:05.325Z"
   },
   {
    "duration": 3,
    "start_time": "2023-01-25T15:03:05.364Z"
   },
   {
    "duration": 17,
    "start_time": "2023-01-25T15:03:05.369Z"
   },
   {
    "duration": 15,
    "start_time": "2023-01-25T15:03:05.388Z"
   },
   {
    "duration": 31,
    "start_time": "2023-01-25T15:03:05.405Z"
   },
   {
    "duration": 57,
    "start_time": "2023-01-25T15:03:05.437Z"
   },
   {
    "duration": 9,
    "start_time": "2023-01-25T15:03:05.496Z"
   },
   {
    "duration": 26,
    "start_time": "2023-01-25T15:03:05.506Z"
   },
   {
    "duration": 13,
    "start_time": "2023-01-25T15:03:05.534Z"
   },
   {
    "duration": 21,
    "start_time": "2023-01-25T15:03:05.549Z"
   },
   {
    "duration": 19,
    "start_time": "2023-01-25T15:03:05.572Z"
   },
   {
    "duration": 8,
    "start_time": "2023-01-25T15:03:05.592Z"
   },
   {
    "duration": 26,
    "start_time": "2023-01-25T15:03:05.603Z"
   },
   {
    "duration": 13,
    "start_time": "2023-01-25T15:03:05.630Z"
   },
   {
    "duration": 7,
    "start_time": "2023-01-25T15:03:05.644Z"
   },
   {
    "duration": 7,
    "start_time": "2023-01-25T15:03:05.653Z"
   },
   {
    "duration": 175,
    "start_time": "2023-01-25T15:03:05.662Z"
   },
   {
    "duration": 129,
    "start_time": "2023-01-25T15:03:05.838Z"
   },
   {
    "duration": 6,
    "start_time": "2023-01-25T15:03:05.968Z"
   },
   {
    "duration": 10,
    "start_time": "2023-01-25T15:03:05.976Z"
   },
   {
    "duration": 290,
    "start_time": "2023-01-25T15:03:05.987Z"
   },
   {
    "duration": 272,
    "start_time": "2023-01-25T15:03:06.278Z"
   },
   {
    "duration": 5,
    "start_time": "2023-01-25T15:03:06.552Z"
   },
   {
    "duration": 313,
    "start_time": "2023-01-25T15:03:06.558Z"
   },
   {
    "duration": 206,
    "start_time": "2023-01-25T15:03:06.872Z"
   },
   {
    "duration": 410,
    "start_time": "2023-01-25T15:03:43.621Z"
   },
   {
    "duration": 337,
    "start_time": "2023-01-25T15:03:55.540Z"
   },
   {
    "duration": 4,
    "start_time": "2023-01-25T15:04:37.828Z"
   },
   {
    "duration": 24,
    "start_time": "2023-01-25T15:04:37.834Z"
   },
   {
    "duration": 3,
    "start_time": "2023-01-25T15:04:37.860Z"
   },
   {
    "duration": 11,
    "start_time": "2023-01-25T15:04:37.865Z"
   },
   {
    "duration": 12,
    "start_time": "2023-01-25T15:04:37.879Z"
   },
   {
    "duration": 17,
    "start_time": "2023-01-25T15:04:37.892Z"
   },
   {
    "duration": 75,
    "start_time": "2023-01-25T15:04:37.911Z"
   },
   {
    "duration": 15,
    "start_time": "2023-01-25T15:04:37.988Z"
   },
   {
    "duration": 23,
    "start_time": "2023-01-25T15:04:38.004Z"
   },
   {
    "duration": 14,
    "start_time": "2023-01-25T15:04:38.030Z"
   },
   {
    "duration": 14,
    "start_time": "2023-01-25T15:04:38.046Z"
   },
   {
    "duration": 69,
    "start_time": "2023-01-25T15:04:38.061Z"
   },
   {
    "duration": 12,
    "start_time": "2023-01-25T15:04:38.132Z"
   },
   {
    "duration": 10,
    "start_time": "2023-01-25T15:04:38.147Z"
   },
   {
    "duration": 10,
    "start_time": "2023-01-25T15:04:38.158Z"
   },
   {
    "duration": 5,
    "start_time": "2023-01-25T15:04:38.169Z"
   },
   {
    "duration": 8,
    "start_time": "2023-01-25T15:04:38.175Z"
   },
   {
    "duration": 174,
    "start_time": "2023-01-25T15:04:38.184Z"
   },
   {
    "duration": 122,
    "start_time": "2023-01-25T15:04:38.359Z"
   },
   {
    "duration": 7,
    "start_time": "2023-01-25T15:04:38.482Z"
   },
   {
    "duration": 20,
    "start_time": "2023-01-25T15:04:38.490Z"
   },
   {
    "duration": 281,
    "start_time": "2023-01-25T15:04:38.512Z"
   },
   {
    "duration": 296,
    "start_time": "2023-01-25T15:04:38.795Z"
   },
   {
    "duration": 7,
    "start_time": "2023-01-25T15:04:39.093Z"
   },
   {
    "duration": 385,
    "start_time": "2023-01-25T15:04:39.101Z"
   },
   {
    "duration": 159,
    "start_time": "2023-01-25T15:04:39.488Z"
   },
   {
    "duration": 348,
    "start_time": "2023-01-25T15:46:55.865Z"
   },
   {
    "duration": 97,
    "start_time": "2023-01-25T16:05:46.446Z"
   },
   {
    "duration": 135,
    "start_time": "2023-01-25T16:05:59.820Z"
   },
   {
    "duration": 724,
    "start_time": "2023-01-25T16:06:01.792Z"
   },
   {
    "duration": 229,
    "start_time": "2023-01-25T16:07:16.680Z"
   },
   {
    "duration": 7,
    "start_time": "2023-01-25T16:16:37.442Z"
   },
   {
    "duration": 7,
    "start_time": "2023-01-25T16:16:47.092Z"
   },
   {
    "duration": 11,
    "start_time": "2023-01-25T16:17:05.896Z"
   },
   {
    "duration": 9,
    "start_time": "2023-01-25T16:17:33.680Z"
   },
   {
    "duration": 6,
    "start_time": "2023-01-25T16:18:52.387Z"
   },
   {
    "duration": 7,
    "start_time": "2023-01-25T16:19:22.373Z"
   },
   {
    "duration": 7,
    "start_time": "2023-01-25T16:20:11.456Z"
   },
   {
    "duration": 9,
    "start_time": "2023-01-25T16:20:25.122Z"
   },
   {
    "duration": 7,
    "start_time": "2023-01-25T16:21:12.471Z"
   },
   {
    "duration": 9,
    "start_time": "2023-01-25T16:21:21.717Z"
   },
   {
    "duration": 18,
    "start_time": "2023-01-25T16:31:39.811Z"
   },
   {
    "duration": 236,
    "start_time": "2023-01-25T16:32:12.588Z"
   },
   {
    "duration": 19,
    "start_time": "2023-01-25T16:35:26.331Z"
   },
   {
    "duration": 262,
    "start_time": "2023-01-25T16:35:29.934Z"
   },
   {
    "duration": 7,
    "start_time": "2023-01-25T16:36:30.383Z"
   },
   {
    "duration": 252,
    "start_time": "2023-01-25T16:50:08.872Z"
   },
   {
    "duration": 280,
    "start_time": "2023-01-25T17:07:23.223Z"
   },
   {
    "duration": 280,
    "start_time": "2023-01-25T17:08:54.078Z"
   },
   {
    "duration": 281,
    "start_time": "2023-01-25T17:13:15.425Z"
   },
   {
    "duration": 47,
    "start_time": "2023-01-25T17:28:21.233Z"
   },
   {
    "duration": 378,
    "start_time": "2023-01-25T17:29:11.105Z"
   },
   {
    "duration": 44,
    "start_time": "2023-01-25T17:29:24.146Z"
   },
   {
    "duration": 72,
    "start_time": "2023-01-25T17:29:43.684Z"
   },
   {
    "duration": 332,
    "start_time": "2023-01-25T17:30:36.574Z"
   },
   {
    "duration": 305,
    "start_time": "2023-01-25T17:30:48.635Z"
   },
   {
    "duration": 48,
    "start_time": "2023-01-25T17:31:10.335Z"
   },
   {
    "duration": 53,
    "start_time": "2023-01-25T17:31:31.232Z"
   },
   {
    "duration": 287,
    "start_time": "2023-01-25T17:31:54.459Z"
   },
   {
    "duration": 252,
    "start_time": "2023-01-25T17:32:17.429Z"
   },
   {
    "duration": 280,
    "start_time": "2023-01-25T17:34:32.215Z"
   },
   {
    "duration": 458,
    "start_time": "2023-01-25T17:35:17.188Z"
   },
   {
    "duration": 420,
    "start_time": "2023-01-25T17:35:30.225Z"
   },
   {
    "duration": 14,
    "start_time": "2023-01-25T17:55:31.271Z"
   },
   {
    "duration": 6,
    "start_time": "2023-01-25T17:56:00.986Z"
   },
   {
    "duration": 8,
    "start_time": "2023-01-25T17:56:12.571Z"
   },
   {
    "duration": 7,
    "start_time": "2023-01-25T17:57:23.933Z"
   },
   {
    "duration": 182,
    "start_time": "2023-01-25T17:59:01.275Z"
   },
   {
    "duration": 177,
    "start_time": "2023-01-25T17:59:09.263Z"
   },
   {
    "duration": 20,
    "start_time": "2023-01-25T17:59:45.332Z"
   },
   {
    "duration": 156,
    "start_time": "2023-01-25T18:00:51.967Z"
   },
   {
    "duration": 5,
    "start_time": "2023-01-25T18:13:37.372Z"
   },
   {
    "duration": 3,
    "start_time": "2023-01-25T18:13:49.572Z"
   },
   {
    "duration": 4,
    "start_time": "2023-01-25T18:13:53.028Z"
   },
   {
    "duration": 8,
    "start_time": "2023-01-25T18:13:57.632Z"
   },
   {
    "duration": 4,
    "start_time": "2023-01-25T18:16:15.188Z"
   },
   {
    "duration": 58,
    "start_time": "2023-01-25T18:16:15.194Z"
   },
   {
    "duration": 4,
    "start_time": "2023-01-25T18:16:15.253Z"
   },
   {
    "duration": 15,
    "start_time": "2023-01-25T18:16:15.259Z"
   },
   {
    "duration": 27,
    "start_time": "2023-01-25T18:16:15.275Z"
   },
   {
    "duration": 47,
    "start_time": "2023-01-25T18:16:15.304Z"
   },
   {
    "duration": 82,
    "start_time": "2023-01-25T18:16:15.352Z"
   },
   {
    "duration": 15,
    "start_time": "2023-01-25T18:16:15.436Z"
   },
   {
    "duration": 4,
    "start_time": "2023-01-25T18:16:15.453Z"
   },
   {
    "duration": 18,
    "start_time": "2023-01-25T18:16:15.461Z"
   },
   {
    "duration": 20,
    "start_time": "2023-01-25T18:16:15.481Z"
   },
   {
    "duration": 44,
    "start_time": "2023-01-25T18:16:15.503Z"
   },
   {
    "duration": 22,
    "start_time": "2023-01-25T18:16:15.548Z"
   },
   {
    "duration": 16,
    "start_time": "2023-01-25T18:16:15.572Z"
   },
   {
    "duration": 29,
    "start_time": "2023-01-25T18:16:15.590Z"
   },
   {
    "duration": 28,
    "start_time": "2023-01-25T18:16:15.620Z"
   },
   {
    "duration": 23,
    "start_time": "2023-01-25T18:16:15.650Z"
   },
   {
    "duration": 169,
    "start_time": "2023-01-25T18:16:15.675Z"
   },
   {
    "duration": 188,
    "start_time": "2023-01-25T18:16:15.845Z"
   },
   {
    "duration": 9,
    "start_time": "2023-01-25T18:16:16.035Z"
   },
   {
    "duration": 16,
    "start_time": "2023-01-25T18:16:16.045Z"
   },
   {
    "duration": 300,
    "start_time": "2023-01-25T18:16:16.063Z"
   },
   {
    "duration": 405,
    "start_time": "2023-01-25T18:16:16.364Z"
   },
   {
    "duration": 14,
    "start_time": "2023-01-25T18:16:16.771Z"
   },
   {
    "duration": 528,
    "start_time": "2023-01-25T18:16:16.787Z"
   },
   {
    "duration": 445,
    "start_time": "2023-01-25T18:16:17.317Z"
   },
   {
    "duration": 497,
    "start_time": "2023-01-25T18:16:17.764Z"
   },
   {
    "duration": 8,
    "start_time": "2023-01-25T18:16:18.265Z"
   },
   {
    "duration": 184,
    "start_time": "2023-01-25T18:16:18.275Z"
   },
   {
    "duration": 9,
    "start_time": "2023-01-25T18:16:18.462Z"
   },
   {
    "duration": 12,
    "start_time": "2023-01-25T18:30:24.793Z"
   },
   {
    "duration": 8,
    "start_time": "2023-01-25T18:37:34.379Z"
   },
   {
    "duration": 5,
    "start_time": "2023-01-25T18:37:34.979Z"
   },
   {
    "duration": 4,
    "start_time": "2023-01-25T18:38:00.871Z"
   },
   {
    "duration": 8,
    "start_time": "2023-01-25T18:38:08.113Z"
   },
   {
    "duration": 4,
    "start_time": "2023-01-25T18:38:17.953Z"
   },
   {
    "duration": 7,
    "start_time": "2023-01-25T18:40:21.848Z"
   },
   {
    "duration": 4,
    "start_time": "2023-01-25T18:40:23.454Z"
   },
   {
    "duration": 5,
    "start_time": "2023-01-25T18:42:37.422Z"
   },
   {
    "duration": 4,
    "start_time": "2023-01-25T18:44:21.024Z"
   },
   {
    "duration": 30,
    "start_time": "2023-01-25T18:44:21.030Z"
   },
   {
    "duration": 3,
    "start_time": "2023-01-25T18:44:21.062Z"
   },
   {
    "duration": 9,
    "start_time": "2023-01-25T18:44:21.067Z"
   },
   {
    "duration": 12,
    "start_time": "2023-01-25T18:44:21.077Z"
   },
   {
    "duration": 15,
    "start_time": "2023-01-25T18:44:21.090Z"
   },
   {
    "duration": 57,
    "start_time": "2023-01-25T18:44:21.106Z"
   },
   {
    "duration": 10,
    "start_time": "2023-01-25T18:44:21.164Z"
   },
   {
    "duration": 3,
    "start_time": "2023-01-25T18:44:21.176Z"
   },
   {
    "duration": 14,
    "start_time": "2023-01-25T18:44:21.181Z"
   },
   {
    "duration": 11,
    "start_time": "2023-01-25T18:44:21.197Z"
   },
   {
    "duration": 8,
    "start_time": "2023-01-25T18:44:21.209Z"
   },
   {
    "duration": 6,
    "start_time": "2023-01-25T18:44:21.219Z"
   },
   {
    "duration": 7,
    "start_time": "2023-01-25T18:44:21.227Z"
   },
   {
    "duration": 7,
    "start_time": "2023-01-25T18:44:21.235Z"
   },
   {
    "duration": 4,
    "start_time": "2023-01-25T18:44:21.244Z"
   },
   {
    "duration": 13,
    "start_time": "2023-01-25T18:44:21.249Z"
   },
   {
    "duration": 5,
    "start_time": "2023-01-25T18:44:21.263Z"
   },
   {
    "duration": 42,
    "start_time": "2023-01-25T18:44:21.269Z"
   },
   {
    "duration": 6,
    "start_time": "2023-01-25T18:44:21.313Z"
   },
   {
    "duration": 8,
    "start_time": "2023-01-25T18:44:21.321Z"
   },
   {
    "duration": 12,
    "start_time": "2023-01-25T18:44:21.332Z"
   },
   {
    "duration": 167,
    "start_time": "2023-01-25T18:44:21.345Z"
   },
   {
    "duration": 121,
    "start_time": "2023-01-25T18:44:21.514Z"
   },
   {
    "duration": 6,
    "start_time": "2023-01-25T18:44:21.637Z"
   },
   {
    "duration": 10,
    "start_time": "2023-01-25T18:44:21.645Z"
   },
   {
    "duration": 263,
    "start_time": "2023-01-25T18:44:21.656Z"
   },
   {
    "duration": 262,
    "start_time": "2023-01-25T18:44:21.922Z"
   },
   {
    "duration": 6,
    "start_time": "2023-01-25T18:44:22.185Z"
   },
   {
    "duration": 367,
    "start_time": "2023-01-25T18:44:22.194Z"
   },
   {
    "duration": 288,
    "start_time": "2023-01-25T18:44:22.563Z"
   },
   {
    "duration": 478,
    "start_time": "2023-01-25T18:44:22.853Z"
   },
   {
    "duration": 8,
    "start_time": "2023-01-25T18:44:23.333Z"
   },
   {
    "duration": 197,
    "start_time": "2023-01-25T18:44:23.343Z"
   },
   {
    "duration": 6,
    "start_time": "2023-01-25T18:44:23.541Z"
   },
   {
    "duration": 47,
    "start_time": "2023-01-28T10:32:03.374Z"
   },
   {
    "duration": 1301,
    "start_time": "2023-01-28T10:32:14.442Z"
   },
   {
    "duration": 77,
    "start_time": "2023-01-28T10:32:15.745Z"
   },
   {
    "duration": 3,
    "start_time": "2023-01-28T10:32:15.824Z"
   },
   {
    "duration": 31,
    "start_time": "2023-01-28T10:32:15.828Z"
   },
   {
    "duration": 16,
    "start_time": "2023-01-28T10:32:15.861Z"
   },
   {
    "duration": 15,
    "start_time": "2023-01-28T10:32:15.879Z"
   },
   {
    "duration": 167,
    "start_time": "2023-01-28T10:32:15.895Z"
   },
   {
    "duration": 11,
    "start_time": "2023-01-28T10:32:16.063Z"
   },
   {
    "duration": 6,
    "start_time": "2023-01-28T10:32:16.075Z"
   },
   {
    "duration": 11,
    "start_time": "2023-01-28T10:32:16.083Z"
   },
   {
    "duration": 10,
    "start_time": "2023-01-28T10:32:16.095Z"
   },
   {
    "duration": 6,
    "start_time": "2023-01-28T10:32:16.106Z"
   },
   {
    "duration": 7,
    "start_time": "2023-01-28T10:32:16.113Z"
   },
   {
    "duration": 5,
    "start_time": "2023-01-28T10:32:16.123Z"
   },
   {
    "duration": 7,
    "start_time": "2023-01-28T10:32:16.129Z"
   },
   {
    "duration": 33,
    "start_time": "2023-01-28T10:32:16.137Z"
   },
   {
    "duration": 9,
    "start_time": "2023-01-28T10:32:16.172Z"
   },
   {
    "duration": 11,
    "start_time": "2023-01-28T10:32:16.183Z"
   },
   {
    "duration": 6,
    "start_time": "2023-01-28T10:32:16.195Z"
   },
   {
    "duration": 4,
    "start_time": "2023-01-28T10:32:16.202Z"
   },
   {
    "duration": 7,
    "start_time": "2023-01-28T10:32:16.208Z"
   },
   {
    "duration": 5,
    "start_time": "2023-01-28T10:32:16.217Z"
   },
   {
    "duration": 8,
    "start_time": "2023-01-28T10:32:16.223Z"
   },
   {
    "duration": 168,
    "start_time": "2023-01-28T10:32:16.232Z"
   },
   {
    "duration": 113,
    "start_time": "2023-01-28T10:32:16.402Z"
   },
   {
    "duration": 6,
    "start_time": "2023-01-28T10:32:16.516Z"
   },
   {
    "duration": 10,
    "start_time": "2023-01-28T10:32:16.523Z"
   },
   {
    "duration": 332,
    "start_time": "2023-01-28T10:32:16.535Z"
   },
   {
    "duration": 260,
    "start_time": "2023-01-28T10:32:16.869Z"
   },
   {
    "duration": 7,
    "start_time": "2023-01-28T10:32:17.130Z"
   },
   {
    "duration": 409,
    "start_time": "2023-01-28T10:32:17.138Z"
   },
   {
    "duration": 250,
    "start_time": "2023-01-28T10:32:17.549Z"
   },
   {
    "duration": 395,
    "start_time": "2023-01-28T10:32:17.801Z"
   },
   {
    "duration": 7,
    "start_time": "2023-01-28T10:32:18.198Z"
   },
   {
    "duration": 178,
    "start_time": "2023-01-28T10:32:18.206Z"
   },
   {
    "duration": 6,
    "start_time": "2023-01-28T10:32:18.386Z"
   },
   {
    "duration": 9,
    "start_time": "2023-01-28T10:32:54.541Z"
   },
   {
    "duration": 4,
    "start_time": "2023-01-28T10:33:03.628Z"
   },
   {
    "duration": 31,
    "start_time": "2023-01-28T10:33:03.634Z"
   },
   {
    "duration": 3,
    "start_time": "2023-01-28T10:33:03.666Z"
   },
   {
    "duration": 10,
    "start_time": "2023-01-28T10:33:03.671Z"
   },
   {
    "duration": 14,
    "start_time": "2023-01-28T10:33:03.684Z"
   },
   {
    "duration": 14,
    "start_time": "2023-01-28T10:33:03.700Z"
   },
   {
    "duration": 61,
    "start_time": "2023-01-28T10:33:03.716Z"
   },
   {
    "duration": 9,
    "start_time": "2023-01-28T10:33:03.778Z"
   },
   {
    "duration": 6,
    "start_time": "2023-01-28T10:33:03.789Z"
   },
   {
    "duration": 9,
    "start_time": "2023-01-28T10:33:03.797Z"
   },
   {
    "duration": 13,
    "start_time": "2023-01-28T10:33:03.807Z"
   },
   {
    "duration": 10,
    "start_time": "2023-01-28T10:33:03.821Z"
   },
   {
    "duration": 11,
    "start_time": "2023-01-28T10:33:03.832Z"
   },
   {
    "duration": 22,
    "start_time": "2023-01-28T10:33:03.846Z"
   },
   {
    "duration": 12,
    "start_time": "2023-01-28T10:33:03.869Z"
   },
   {
    "duration": 4,
    "start_time": "2023-01-28T10:33:03.883Z"
   },
   {
    "duration": 13,
    "start_time": "2023-01-28T10:33:03.888Z"
   },
   {
    "duration": 11,
    "start_time": "2023-01-28T10:33:03.902Z"
   },
   {
    "duration": 7,
    "start_time": "2023-01-28T10:33:03.915Z"
   },
   {
    "duration": 6,
    "start_time": "2023-01-28T10:33:03.923Z"
   },
   {
    "duration": 6,
    "start_time": "2023-01-28T10:33:03.930Z"
   },
   {
    "duration": 8,
    "start_time": "2023-01-28T10:33:03.938Z"
   },
   {
    "duration": 6,
    "start_time": "2023-01-28T10:33:03.968Z"
   },
   {
    "duration": 161,
    "start_time": "2023-01-28T10:33:03.975Z"
   },
   {
    "duration": 136,
    "start_time": "2023-01-28T10:33:04.138Z"
   },
   {
    "duration": 8,
    "start_time": "2023-01-28T10:33:04.276Z"
   },
   {
    "duration": 8,
    "start_time": "2023-01-28T10:33:04.286Z"
   },
   {
    "duration": 312,
    "start_time": "2023-01-28T10:33:04.296Z"
   },
   {
    "duration": 428,
    "start_time": "2023-01-28T10:33:04.610Z"
   },
   {
    "duration": 7,
    "start_time": "2023-01-28T10:33:05.041Z"
   },
   {
    "duration": 387,
    "start_time": "2023-01-28T10:33:05.050Z"
   },
   {
    "duration": 284,
    "start_time": "2023-01-28T10:33:05.438Z"
   },
   {
    "duration": 392,
    "start_time": "2023-01-28T10:33:05.724Z"
   },
   {
    "duration": 7,
    "start_time": "2023-01-28T10:33:06.118Z"
   },
   {
    "duration": 179,
    "start_time": "2023-01-28T10:33:06.126Z"
   },
   {
    "duration": 5,
    "start_time": "2023-01-28T10:33:06.307Z"
   },
   {
    "duration": 4,
    "start_time": "2023-01-28T10:36:20.777Z"
   },
   {
    "duration": 31,
    "start_time": "2023-01-28T10:36:20.784Z"
   },
   {
    "duration": 3,
    "start_time": "2023-01-28T10:36:20.817Z"
   },
   {
    "duration": 27,
    "start_time": "2023-01-28T10:36:20.822Z"
   },
   {
    "duration": 16,
    "start_time": "2023-01-28T10:36:20.851Z"
   },
   {
    "duration": 16,
    "start_time": "2023-01-28T10:36:20.869Z"
   },
   {
    "duration": 71,
    "start_time": "2023-01-28T10:36:20.887Z"
   },
   {
    "duration": 10,
    "start_time": "2023-01-28T10:36:20.960Z"
   },
   {
    "duration": 18,
    "start_time": "2023-01-28T10:36:20.972Z"
   },
   {
    "duration": 16,
    "start_time": "2023-01-28T10:36:20.991Z"
   },
   {
    "duration": 26,
    "start_time": "2023-01-28T10:36:21.009Z"
   },
   {
    "duration": 13,
    "start_time": "2023-01-28T10:36:21.036Z"
   },
   {
    "duration": 21,
    "start_time": "2023-01-28T10:36:21.052Z"
   },
   {
    "duration": 25,
    "start_time": "2023-01-28T10:36:21.074Z"
   },
   {
    "duration": 16,
    "start_time": "2023-01-28T10:36:21.100Z"
   },
   {
    "duration": 19,
    "start_time": "2023-01-28T10:36:21.118Z"
   },
   {
    "duration": 16,
    "start_time": "2023-01-28T10:36:21.139Z"
   },
   {
    "duration": 19,
    "start_time": "2023-01-28T10:36:21.156Z"
   },
   {
    "duration": 12,
    "start_time": "2023-01-28T10:36:21.178Z"
   },
   {
    "duration": 11,
    "start_time": "2023-01-28T10:36:21.192Z"
   },
   {
    "duration": 17,
    "start_time": "2023-01-28T10:36:21.205Z"
   },
   {
    "duration": 9,
    "start_time": "2023-01-28T10:36:21.225Z"
   },
   {
    "duration": 13,
    "start_time": "2023-01-28T10:36:21.236Z"
   },
   {
    "duration": 263,
    "start_time": "2023-01-28T10:36:21.251Z"
   },
   {
    "duration": 239,
    "start_time": "2023-01-28T10:36:21.516Z"
   },
   {
    "duration": 9,
    "start_time": "2023-01-28T10:36:21.770Z"
   },
   {
    "duration": 13,
    "start_time": "2023-01-28T10:36:21.781Z"
   },
   {
    "duration": 282,
    "start_time": "2023-01-28T10:36:21.796Z"
   },
   {
    "duration": 289,
    "start_time": "2023-01-28T10:36:22.080Z"
   },
   {
    "duration": 10,
    "start_time": "2023-01-28T10:36:22.372Z"
   },
   {
    "duration": 415,
    "start_time": "2023-01-28T10:36:22.384Z"
   },
   {
    "duration": 333,
    "start_time": "2023-01-28T10:36:22.801Z"
   },
   {
    "duration": 466,
    "start_time": "2023-01-28T10:36:23.136Z"
   },
   {
    "duration": 9,
    "start_time": "2023-01-28T10:36:23.604Z"
   },
   {
    "duration": 207,
    "start_time": "2023-01-28T10:36:23.615Z"
   },
   {
    "duration": 7,
    "start_time": "2023-01-28T10:36:23.824Z"
   },
   {
    "duration": 5,
    "start_time": "2023-01-28T10:49:12.626Z"
   },
   {
    "duration": 5,
    "start_time": "2023-01-28T10:49:46.656Z"
   },
   {
    "duration": 4,
    "start_time": "2023-01-28T10:50:19.540Z"
   },
   {
    "duration": 5,
    "start_time": "2023-01-28T10:50:30.855Z"
   },
   {
    "duration": 4,
    "start_time": "2023-01-28T10:52:28.607Z"
   },
   {
    "duration": 5,
    "start_time": "2023-01-28T10:52:39.149Z"
   },
   {
    "duration": 5,
    "start_time": "2023-01-28T10:52:45.499Z"
   },
   {
    "duration": 268,
    "start_time": "2023-01-28T10:59:49.158Z"
   },
   {
    "duration": 336,
    "start_time": "2023-01-28T11:01:18.025Z"
   },
   {
    "duration": 100,
    "start_time": "2023-01-28T11:04:02.378Z"
   },
   {
    "duration": 276,
    "start_time": "2023-01-28T11:04:33.871Z"
   },
   {
    "duration": 409,
    "start_time": "2023-01-28T11:04:42.723Z"
   },
   {
    "duration": 4,
    "start_time": "2023-01-28T11:06:30.329Z"
   },
   {
    "duration": 51,
    "start_time": "2023-01-28T11:06:30.335Z"
   },
   {
    "duration": 3,
    "start_time": "2023-01-28T11:06:30.388Z"
   },
   {
    "duration": 41,
    "start_time": "2023-01-28T11:06:30.393Z"
   },
   {
    "duration": 30,
    "start_time": "2023-01-28T11:06:30.437Z"
   },
   {
    "duration": 41,
    "start_time": "2023-01-28T11:06:30.469Z"
   },
   {
    "duration": 97,
    "start_time": "2023-01-28T11:06:30.512Z"
   },
   {
    "duration": 13,
    "start_time": "2023-01-28T11:06:30.611Z"
   },
   {
    "duration": 25,
    "start_time": "2023-01-28T11:06:30.626Z"
   },
   {
    "duration": 31,
    "start_time": "2023-01-28T11:06:30.653Z"
   },
   {
    "duration": 39,
    "start_time": "2023-01-28T11:06:30.686Z"
   },
   {
    "duration": 33,
    "start_time": "2023-01-28T11:06:30.727Z"
   },
   {
    "duration": 30,
    "start_time": "2023-01-28T11:06:30.762Z"
   },
   {
    "duration": 50,
    "start_time": "2023-01-28T11:06:30.795Z"
   },
   {
    "duration": 35,
    "start_time": "2023-01-28T11:06:30.846Z"
   },
   {
    "duration": 26,
    "start_time": "2023-01-28T11:06:30.883Z"
   },
   {
    "duration": 21,
    "start_time": "2023-01-28T11:06:30.911Z"
   },
   {
    "duration": 33,
    "start_time": "2023-01-28T11:06:30.933Z"
   },
   {
    "duration": 24,
    "start_time": "2023-01-28T11:06:30.968Z"
   },
   {
    "duration": 24,
    "start_time": "2023-01-28T11:06:30.994Z"
   },
   {
    "duration": 22,
    "start_time": "2023-01-28T11:06:31.021Z"
   },
   {
    "duration": 19,
    "start_time": "2023-01-28T11:06:31.045Z"
   },
   {
    "duration": 17,
    "start_time": "2023-01-28T11:06:31.065Z"
   },
   {
    "duration": 171,
    "start_time": "2023-01-28T11:06:31.084Z"
   },
   {
    "duration": 122,
    "start_time": "2023-01-28T11:06:31.257Z"
   },
   {
    "duration": 6,
    "start_time": "2023-01-28T11:06:31.381Z"
   },
   {
    "duration": 9,
    "start_time": "2023-01-28T11:06:31.388Z"
   },
   {
    "duration": 269,
    "start_time": "2023-01-28T11:06:31.399Z"
   },
   {
    "duration": 265,
    "start_time": "2023-01-28T11:06:31.669Z"
   },
   {
    "duration": 6,
    "start_time": "2023-01-28T11:06:31.935Z"
   },
   {
    "duration": 387,
    "start_time": "2023-01-28T11:06:31.942Z"
   },
   {
    "duration": 1145,
    "start_time": "2023-01-28T11:06:32.330Z"
   },
   {
    "duration": 0,
    "start_time": "2023-01-28T11:06:33.476Z"
   },
   {
    "duration": 0,
    "start_time": "2023-01-28T11:06:33.478Z"
   },
   {
    "duration": 0,
    "start_time": "2023-01-28T11:06:33.479Z"
   },
   {
    "duration": 0,
    "start_time": "2023-01-28T11:06:33.480Z"
   },
   {
    "duration": 0,
    "start_time": "2023-01-28T11:06:33.481Z"
   },
   {
    "duration": 258,
    "start_time": "2023-01-28T11:07:29.538Z"
   },
   {
    "duration": 4,
    "start_time": "2023-01-28T11:07:39.728Z"
   },
   {
    "duration": 29,
    "start_time": "2023-01-28T11:07:39.734Z"
   },
   {
    "duration": 3,
    "start_time": "2023-01-28T11:07:39.765Z"
   },
   {
    "duration": 19,
    "start_time": "2023-01-28T11:07:39.770Z"
   },
   {
    "duration": 17,
    "start_time": "2023-01-28T11:07:39.791Z"
   },
   {
    "duration": 15,
    "start_time": "2023-01-28T11:07:39.810Z"
   },
   {
    "duration": 88,
    "start_time": "2023-01-28T11:07:39.827Z"
   },
   {
    "duration": 13,
    "start_time": "2023-01-28T11:07:39.917Z"
   },
   {
    "duration": 9,
    "start_time": "2023-01-28T11:07:39.932Z"
   },
   {
    "duration": 13,
    "start_time": "2023-01-28T11:07:39.944Z"
   },
   {
    "duration": 22,
    "start_time": "2023-01-28T11:07:39.958Z"
   },
   {
    "duration": 10,
    "start_time": "2023-01-28T11:07:39.982Z"
   },
   {
    "duration": 15,
    "start_time": "2023-01-28T11:07:39.993Z"
   },
   {
    "duration": 14,
    "start_time": "2023-01-28T11:07:40.010Z"
   },
   {
    "duration": 12,
    "start_time": "2023-01-28T11:07:40.026Z"
   },
   {
    "duration": 4,
    "start_time": "2023-01-28T11:07:40.040Z"
   },
   {
    "duration": 22,
    "start_time": "2023-01-28T11:07:40.046Z"
   },
   {
    "duration": 17,
    "start_time": "2023-01-28T11:07:40.070Z"
   },
   {
    "duration": 7,
    "start_time": "2023-01-28T11:07:40.088Z"
   },
   {
    "duration": 7,
    "start_time": "2023-01-28T11:07:40.096Z"
   },
   {
    "duration": 9,
    "start_time": "2023-01-28T11:07:40.104Z"
   },
   {
    "duration": 18,
    "start_time": "2023-01-28T11:07:40.114Z"
   },
   {
    "duration": 10,
    "start_time": "2023-01-28T11:07:40.134Z"
   },
   {
    "duration": 193,
    "start_time": "2023-01-28T11:07:40.146Z"
   },
   {
    "duration": 126,
    "start_time": "2023-01-28T11:07:40.341Z"
   },
   {
    "duration": 8,
    "start_time": "2023-01-28T11:07:40.469Z"
   },
   {
    "duration": 10,
    "start_time": "2023-01-28T11:07:40.478Z"
   },
   {
    "duration": 282,
    "start_time": "2023-01-28T11:07:40.492Z"
   },
   {
    "duration": 293,
    "start_time": "2023-01-28T11:07:40.776Z"
   },
   {
    "duration": 6,
    "start_time": "2023-01-28T11:07:41.071Z"
   },
   {
    "duration": 473,
    "start_time": "2023-01-28T11:07:41.078Z"
   },
   {
    "duration": 295,
    "start_time": "2023-01-28T11:07:41.552Z"
   },
   {
    "duration": 457,
    "start_time": "2023-01-28T11:07:41.849Z"
   },
   {
    "duration": 8,
    "start_time": "2023-01-28T11:07:42.308Z"
   },
   {
    "duration": 198,
    "start_time": "2023-01-28T11:07:42.317Z"
   },
   {
    "duration": 5,
    "start_time": "2023-01-28T11:07:42.517Z"
   },
   {
    "duration": 183,
    "start_time": "2023-01-28T11:07:42.524Z"
   },
   {
    "duration": 1186,
    "start_time": "2023-01-28T11:09:42.750Z"
   },
   {
    "duration": 1193,
    "start_time": "2023-01-28T11:11:35.469Z"
   },
   {
    "duration": 187,
    "start_time": "2023-01-28T11:12:43.266Z"
   },
   {
    "duration": 4,
    "start_time": "2023-01-28T11:23:45.197Z"
   },
   {
    "duration": 7,
    "start_time": "2023-01-28T11:50:00.523Z"
   },
   {
    "duration": 245,
    "start_time": "2023-01-28T11:52:02.417Z"
   },
   {
    "duration": 251,
    "start_time": "2023-01-28T11:52:13.845Z"
   },
   {
    "duration": 442,
    "start_time": "2023-01-28T11:53:16.635Z"
   },
   {
    "duration": 97,
    "start_time": "2023-01-28T12:08:10.563Z"
   },
   {
    "duration": 3,
    "start_time": "2023-01-28T12:35:52.333Z"
   },
   {
    "duration": 55,
    "start_time": "2023-01-28T12:35:52.338Z"
   },
   {
    "duration": 3,
    "start_time": "2023-01-28T12:35:52.395Z"
   },
   {
    "duration": 15,
    "start_time": "2023-01-28T12:35:52.399Z"
   },
   {
    "duration": 14,
    "start_time": "2023-01-28T12:35:52.416Z"
   },
   {
    "duration": 12,
    "start_time": "2023-01-28T12:35:52.432Z"
   },
   {
    "duration": 77,
    "start_time": "2023-01-28T12:35:52.445Z"
   },
   {
    "duration": 9,
    "start_time": "2023-01-28T12:35:52.524Z"
   },
   {
    "duration": 5,
    "start_time": "2023-01-28T12:35:52.535Z"
   },
   {
    "duration": 12,
    "start_time": "2023-01-28T12:35:52.541Z"
   },
   {
    "duration": 11,
    "start_time": "2023-01-28T12:35:52.554Z"
   },
   {
    "duration": 35,
    "start_time": "2023-01-28T12:35:52.566Z"
   },
   {
    "duration": 11,
    "start_time": "2023-01-28T12:35:52.603Z"
   },
   {
    "duration": 8,
    "start_time": "2023-01-28T12:35:52.618Z"
   },
   {
    "duration": 9,
    "start_time": "2023-01-28T12:35:52.628Z"
   },
   {
    "duration": 6,
    "start_time": "2023-01-28T12:35:52.638Z"
   },
   {
    "duration": 13,
    "start_time": "2023-01-28T12:35:52.645Z"
   },
   {
    "duration": 22,
    "start_time": "2023-01-28T12:35:52.660Z"
   },
   {
    "duration": 19,
    "start_time": "2023-01-28T12:35:52.684Z"
   },
   {
    "duration": 7,
    "start_time": "2023-01-28T12:35:52.705Z"
   },
   {
    "duration": 8,
    "start_time": "2023-01-28T12:35:52.714Z"
   },
   {
    "duration": 4,
    "start_time": "2023-01-28T12:35:52.724Z"
   },
   {
    "duration": 7,
    "start_time": "2023-01-28T12:35:52.730Z"
   },
   {
    "duration": 191,
    "start_time": "2023-01-28T12:35:52.738Z"
   },
   {
    "duration": 150,
    "start_time": "2023-01-28T12:35:52.931Z"
   },
   {
    "duration": 8,
    "start_time": "2023-01-28T12:35:53.083Z"
   },
   {
    "duration": 16,
    "start_time": "2023-01-28T12:35:53.096Z"
   },
   {
    "duration": 385,
    "start_time": "2023-01-28T12:35:53.113Z"
   },
   {
    "duration": 305,
    "start_time": "2023-01-28T12:35:53.500Z"
   },
   {
    "duration": 6,
    "start_time": "2023-01-28T12:35:53.807Z"
   },
   {
    "duration": 460,
    "start_time": "2023-01-28T12:35:53.815Z"
   },
   {
    "duration": 314,
    "start_time": "2023-01-28T12:35:54.280Z"
   },
   {
    "duration": 502,
    "start_time": "2023-01-28T12:35:54.597Z"
   },
   {
    "duration": 12,
    "start_time": "2023-01-28T12:35:55.101Z"
   },
   {
    "duration": 236,
    "start_time": "2023-01-28T12:35:55.115Z"
   },
   {
    "duration": 5,
    "start_time": "2023-01-28T12:35:55.353Z"
   },
   {
    "duration": 218,
    "start_time": "2023-01-28T12:35:55.368Z"
   },
   {
    "duration": 7,
    "start_time": "2023-01-28T12:35:55.594Z"
   },
   {
    "duration": 97,
    "start_time": "2023-01-28T12:35:55.603Z"
   },
   {
    "duration": 132,
    "start_time": "2023-01-28T12:35:55.703Z"
   },
   {
    "duration": 31,
    "start_time": "2023-01-28T12:37:10.178Z"
   },
   {
    "duration": 23,
    "start_time": "2023-01-28T12:37:17.841Z"
   },
   {
    "duration": 17,
    "start_time": "2023-01-28T12:37:55.664Z"
   },
   {
    "duration": 1606,
    "start_time": "2023-01-28T14:25:54.746Z"
   },
   {
    "duration": 67,
    "start_time": "2023-01-28T14:25:56.354Z"
   },
   {
    "duration": 5,
    "start_time": "2023-01-28T14:25:56.424Z"
   },
   {
    "duration": 19,
    "start_time": "2023-01-28T14:25:56.431Z"
   },
   {
    "duration": 14,
    "start_time": "2023-01-28T14:25:56.453Z"
   },
   {
    "duration": 14,
    "start_time": "2023-01-28T14:25:56.468Z"
   },
   {
    "duration": 190,
    "start_time": "2023-01-28T14:25:56.485Z"
   },
   {
    "duration": 15,
    "start_time": "2023-01-28T14:25:56.677Z"
   },
   {
    "duration": 23,
    "start_time": "2023-01-28T14:25:56.694Z"
   },
   {
    "duration": 21,
    "start_time": "2023-01-28T14:25:56.720Z"
   },
   {
    "duration": 15,
    "start_time": "2023-01-28T14:25:56.744Z"
   },
   {
    "duration": 13,
    "start_time": "2023-01-28T14:25:56.760Z"
   },
   {
    "duration": 26,
    "start_time": "2023-01-28T14:25:56.775Z"
   },
   {
    "duration": 25,
    "start_time": "2023-01-28T14:25:56.806Z"
   },
   {
    "duration": 15,
    "start_time": "2023-01-28T14:25:56.833Z"
   },
   {
    "duration": 8,
    "start_time": "2023-01-28T14:25:56.850Z"
   },
   {
    "duration": 15,
    "start_time": "2023-01-28T14:25:56.860Z"
   },
   {
    "duration": 22,
    "start_time": "2023-01-28T14:25:56.877Z"
   },
   {
    "duration": 15,
    "start_time": "2023-01-28T14:25:56.901Z"
   },
   {
    "duration": 24,
    "start_time": "2023-01-28T14:25:56.919Z"
   },
   {
    "duration": 18,
    "start_time": "2023-01-28T14:25:56.945Z"
   },
   {
    "duration": 10,
    "start_time": "2023-01-28T14:25:56.965Z"
   },
   {
    "duration": 14,
    "start_time": "2023-01-28T14:25:56.977Z"
   },
   {
    "duration": 222,
    "start_time": "2023-01-28T14:25:56.994Z"
   },
   {
    "duration": 153,
    "start_time": "2023-01-28T14:25:57.218Z"
   },
   {
    "duration": 8,
    "start_time": "2023-01-28T14:25:57.373Z"
   },
   {
    "duration": 26,
    "start_time": "2023-01-28T14:25:57.382Z"
   },
   {
    "duration": 445,
    "start_time": "2023-01-28T14:25:57.411Z"
   },
   {
    "duration": 336,
    "start_time": "2023-01-28T14:25:57.858Z"
   },
   {
    "duration": 10,
    "start_time": "2023-01-28T14:25:58.196Z"
   },
   {
    "duration": 519,
    "start_time": "2023-01-28T14:25:58.209Z"
   },
   {
    "duration": 397,
    "start_time": "2023-01-28T14:25:58.730Z"
   },
   {
    "duration": 467,
    "start_time": "2023-01-28T14:25:59.129Z"
   },
   {
    "duration": 9,
    "start_time": "2023-01-28T14:25:59.598Z"
   },
   {
    "duration": 294,
    "start_time": "2023-01-28T14:25:59.609Z"
   },
   {
    "duration": 6,
    "start_time": "2023-01-28T14:25:59.905Z"
   },
   {
    "duration": 253,
    "start_time": "2023-01-28T14:25:59.914Z"
   },
   {
    "duration": 18,
    "start_time": "2023-01-28T14:26:00.169Z"
   },
   {
    "duration": 142,
    "start_time": "2023-01-28T14:26:00.190Z"
   },
   {
    "duration": 173,
    "start_time": "2023-01-28T14:26:00.335Z"
   },
   {
    "duration": 49,
    "start_time": "2023-01-28T14:26:00.513Z"
   },
   {
    "duration": 26,
    "start_time": "2023-01-28T14:26:00.565Z"
   },
   {
    "duration": 177,
    "start_time": "2023-01-28T14:29:46.753Z"
   },
   {
    "duration": 1581,
    "start_time": "2023-01-28T14:46:31.873Z"
   },
   {
    "duration": 6,
    "start_time": "2023-01-28T14:49:05.963Z"
   },
   {
    "duration": 73,
    "start_time": "2023-01-28T14:49:05.972Z"
   },
   {
    "duration": 4,
    "start_time": "2023-01-28T14:49:06.048Z"
   },
   {
    "duration": 91,
    "start_time": "2023-01-28T14:49:06.054Z"
   },
   {
    "duration": 19,
    "start_time": "2023-01-28T14:49:06.148Z"
   },
   {
    "duration": 31,
    "start_time": "2023-01-28T14:49:06.171Z"
   },
   {
    "duration": 124,
    "start_time": "2023-01-28T14:49:06.204Z"
   },
   {
    "duration": 15,
    "start_time": "2023-01-28T14:49:06.343Z"
   },
   {
    "duration": 21,
    "start_time": "2023-01-28T14:49:06.360Z"
   },
   {
    "duration": 63,
    "start_time": "2023-01-28T14:49:06.385Z"
   },
   {
    "duration": 26,
    "start_time": "2023-01-28T14:49:06.452Z"
   },
   {
    "duration": 83,
    "start_time": "2023-01-28T14:49:06.481Z"
   },
   {
    "duration": 38,
    "start_time": "2023-01-28T14:49:06.569Z"
   },
   {
    "duration": 55,
    "start_time": "2023-01-28T14:49:06.612Z"
   },
   {
    "duration": 80,
    "start_time": "2023-01-28T14:49:06.669Z"
   },
   {
    "duration": 22,
    "start_time": "2023-01-28T14:49:06.752Z"
   },
   {
    "duration": 79,
    "start_time": "2023-01-28T14:49:06.778Z"
   },
   {
    "duration": 47,
    "start_time": "2023-01-28T14:49:06.859Z"
   },
   {
    "duration": 39,
    "start_time": "2023-01-28T14:49:06.919Z"
   },
   {
    "duration": 22,
    "start_time": "2023-01-28T14:49:06.960Z"
   },
   {
    "duration": 75,
    "start_time": "2023-01-28T14:49:06.984Z"
   },
   {
    "duration": 20,
    "start_time": "2023-01-28T14:49:07.062Z"
   },
   {
    "duration": 83,
    "start_time": "2023-01-28T14:49:07.088Z"
   },
   {
    "duration": 273,
    "start_time": "2023-01-28T14:49:07.176Z"
   },
   {
    "duration": 182,
    "start_time": "2023-01-28T14:49:07.456Z"
   },
   {
    "duration": 17,
    "start_time": "2023-01-28T14:49:07.644Z"
   },
   {
    "duration": 24,
    "start_time": "2023-01-28T14:49:07.663Z"
   },
   {
    "duration": 568,
    "start_time": "2023-01-28T14:49:07.689Z"
   },
   {
    "duration": 457,
    "start_time": "2023-01-28T14:49:08.260Z"
   },
   {
    "duration": 14,
    "start_time": "2023-01-28T14:49:08.720Z"
   },
   {
    "duration": 477,
    "start_time": "2023-01-28T14:49:08.738Z"
   },
   {
    "duration": 407,
    "start_time": "2023-01-28T14:49:09.221Z"
   },
   {
    "duration": 582,
    "start_time": "2023-01-28T14:49:09.640Z"
   },
   {
    "duration": 12,
    "start_time": "2023-01-28T14:49:10.229Z"
   },
   {
    "duration": 393,
    "start_time": "2023-01-28T14:49:10.249Z"
   },
   {
    "duration": 22,
    "start_time": "2023-01-28T14:49:10.648Z"
   },
   {
    "duration": 357,
    "start_time": "2023-01-28T14:49:10.688Z"
   },
   {
    "duration": 9,
    "start_time": "2023-01-28T14:49:11.048Z"
   },
   {
    "duration": 196,
    "start_time": "2023-01-28T14:49:11.059Z"
   },
   {
    "duration": 176,
    "start_time": "2023-01-28T14:49:11.258Z"
   },
   {
    "duration": 32,
    "start_time": "2023-01-28T14:49:11.437Z"
   },
   {
    "duration": 42,
    "start_time": "2023-01-28T14:49:11.471Z"
   },
   {
    "duration": 337,
    "start_time": "2023-01-28T14:49:11.519Z"
   },
   {
    "duration": 1981,
    "start_time": "2023-01-28T14:49:11.859Z"
   },
   {
    "duration": 0,
    "start_time": "2023-01-28T14:49:13.843Z"
   },
   {
    "duration": 0,
    "start_time": "2023-01-28T14:49:13.844Z"
   },
   {
    "duration": 0,
    "start_time": "2023-01-28T14:49:13.845Z"
   },
   {
    "duration": 3,
    "start_time": "2023-01-28T14:52:41.670Z"
   },
   {
    "duration": 1677,
    "start_time": "2023-01-28T14:52:44.031Z"
   },
   {
    "duration": 5,
    "start_time": "2023-01-28T14:54:48.641Z"
   },
   {
    "duration": 103,
    "start_time": "2023-01-28T14:54:48.649Z"
   },
   {
    "duration": 48,
    "start_time": "2023-01-28T14:54:48.754Z"
   },
   {
    "duration": 96,
    "start_time": "2023-01-28T14:54:48.808Z"
   },
   {
    "duration": 168,
    "start_time": "2023-01-28T14:54:48.909Z"
   },
   {
    "duration": 94,
    "start_time": "2023-01-28T14:54:49.079Z"
   },
   {
    "duration": 876,
    "start_time": "2023-01-28T14:54:49.176Z"
   },
   {
    "duration": 0,
    "start_time": "2023-01-28T14:54:50.062Z"
   },
   {
    "duration": 0,
    "start_time": "2023-01-28T14:54:50.064Z"
   },
   {
    "duration": 0,
    "start_time": "2023-01-28T14:54:50.066Z"
   },
   {
    "duration": 0,
    "start_time": "2023-01-28T14:54:50.073Z"
   },
   {
    "duration": 0,
    "start_time": "2023-01-28T14:54:50.075Z"
   },
   {
    "duration": 0,
    "start_time": "2023-01-28T14:54:50.076Z"
   },
   {
    "duration": 0,
    "start_time": "2023-01-28T14:54:50.077Z"
   },
   {
    "duration": 0,
    "start_time": "2023-01-28T14:54:50.078Z"
   },
   {
    "duration": 0,
    "start_time": "2023-01-28T14:54:50.079Z"
   },
   {
    "duration": 0,
    "start_time": "2023-01-28T14:54:50.081Z"
   },
   {
    "duration": 0,
    "start_time": "2023-01-28T14:54:50.082Z"
   },
   {
    "duration": 0,
    "start_time": "2023-01-28T14:54:50.083Z"
   },
   {
    "duration": 0,
    "start_time": "2023-01-28T14:54:50.088Z"
   },
   {
    "duration": 0,
    "start_time": "2023-01-28T14:54:50.090Z"
   },
   {
    "duration": 0,
    "start_time": "2023-01-28T14:54:50.091Z"
   },
   {
    "duration": 0,
    "start_time": "2023-01-28T14:54:50.092Z"
   },
   {
    "duration": 0,
    "start_time": "2023-01-28T14:54:50.093Z"
   },
   {
    "duration": 0,
    "start_time": "2023-01-28T14:54:50.095Z"
   },
   {
    "duration": 0,
    "start_time": "2023-01-28T14:54:50.105Z"
   },
   {
    "duration": 0,
    "start_time": "2023-01-28T14:54:50.106Z"
   },
   {
    "duration": 0,
    "start_time": "2023-01-28T14:54:50.108Z"
   },
   {
    "duration": 0,
    "start_time": "2023-01-28T14:54:50.113Z"
   },
   {
    "duration": 0,
    "start_time": "2023-01-28T14:54:50.114Z"
   },
   {
    "duration": 0,
    "start_time": "2023-01-28T14:54:50.115Z"
   },
   {
    "duration": 0,
    "start_time": "2023-01-28T14:54:50.120Z"
   },
   {
    "duration": 0,
    "start_time": "2023-01-28T14:54:50.122Z"
   },
   {
    "duration": 0,
    "start_time": "2023-01-28T14:54:50.123Z"
   },
   {
    "duration": 0,
    "start_time": "2023-01-28T14:54:50.133Z"
   },
   {
    "duration": 0,
    "start_time": "2023-01-28T14:54:50.134Z"
   },
   {
    "duration": 0,
    "start_time": "2023-01-28T14:54:50.135Z"
   },
   {
    "duration": 0,
    "start_time": "2023-01-28T14:54:50.141Z"
   },
   {
    "duration": 0,
    "start_time": "2023-01-28T14:54:50.142Z"
   },
   {
    "duration": 0,
    "start_time": "2023-01-28T14:54:50.143Z"
   },
   {
    "duration": 0,
    "start_time": "2023-01-28T14:54:50.149Z"
   },
   {
    "duration": 0,
    "start_time": "2023-01-28T14:54:50.150Z"
   },
   {
    "duration": 0,
    "start_time": "2023-01-28T14:54:50.152Z"
   },
   {
    "duration": 0,
    "start_time": "2023-01-28T14:54:50.158Z"
   },
   {
    "duration": 0,
    "start_time": "2023-01-28T14:54:50.160Z"
   },
   {
    "duration": 0,
    "start_time": "2023-01-28T14:54:50.166Z"
   },
   {
    "duration": 0,
    "start_time": "2023-01-28T14:54:50.168Z"
   },
   {
    "duration": 121,
    "start_time": "2023-01-28T14:55:35.099Z"
   },
   {
    "duration": 11,
    "start_time": "2023-01-28T14:55:39.307Z"
   },
   {
    "duration": 105,
    "start_time": "2023-01-28T14:55:39.337Z"
   },
   {
    "duration": 9,
    "start_time": "2023-01-28T14:55:39.452Z"
   },
   {
    "duration": 39,
    "start_time": "2023-01-28T14:55:39.465Z"
   },
   {
    "duration": 65,
    "start_time": "2023-01-28T14:55:39.515Z"
   },
   {
    "duration": 66,
    "start_time": "2023-01-28T14:55:39.582Z"
   },
   {
    "duration": 314,
    "start_time": "2023-01-28T14:55:39.650Z"
   },
   {
    "duration": 16,
    "start_time": "2023-01-28T14:55:39.966Z"
   },
   {
    "duration": 159,
    "start_time": "2023-01-28T14:55:39.985Z"
   },
   {
    "duration": 43,
    "start_time": "2023-01-28T14:55:40.146Z"
   },
   {
    "duration": 151,
    "start_time": "2023-01-28T14:55:40.194Z"
   },
   {
    "duration": 50,
    "start_time": "2023-01-28T14:55:40.351Z"
   },
   {
    "duration": 94,
    "start_time": "2023-01-28T14:55:40.412Z"
   },
   {
    "duration": 130,
    "start_time": "2023-01-28T14:55:40.516Z"
   },
   {
    "duration": 116,
    "start_time": "2023-01-28T14:55:40.650Z"
   },
   {
    "duration": 72,
    "start_time": "2023-01-28T14:55:40.771Z"
   },
   {
    "duration": 91,
    "start_time": "2023-01-28T14:55:40.852Z"
   },
   {
    "duration": 170,
    "start_time": "2023-01-28T14:55:40.946Z"
   },
   {
    "duration": 91,
    "start_time": "2023-01-28T14:55:41.118Z"
   },
   {
    "duration": 56,
    "start_time": "2023-01-28T14:55:41.213Z"
   },
   {
    "duration": 48,
    "start_time": "2023-01-28T14:55:41.272Z"
   },
   {
    "duration": 23,
    "start_time": "2023-01-28T14:55:41.329Z"
   },
   {
    "duration": 49,
    "start_time": "2023-01-28T14:55:41.354Z"
   },
   {
    "duration": 278,
    "start_time": "2023-01-28T14:55:41.412Z"
   },
   {
    "duration": 171,
    "start_time": "2023-01-28T14:55:41.696Z"
   },
   {
    "duration": 17,
    "start_time": "2023-01-28T14:55:41.874Z"
   },
   {
    "duration": 34,
    "start_time": "2023-01-28T14:55:41.898Z"
   },
   {
    "duration": 655,
    "start_time": "2023-01-28T14:55:41.942Z"
   },
   {
    "duration": 480,
    "start_time": "2023-01-28T14:55:42.603Z"
   },
   {
    "duration": 31,
    "start_time": "2023-01-28T14:55:43.085Z"
   },
   {
    "duration": 636,
    "start_time": "2023-01-28T14:55:43.121Z"
   },
   {
    "duration": 530,
    "start_time": "2023-01-28T14:55:43.763Z"
   },
   {
    "duration": 869,
    "start_time": "2023-01-28T14:55:44.307Z"
   },
   {
    "duration": 44,
    "start_time": "2023-01-28T14:55:45.193Z"
   },
   {
    "duration": 450,
    "start_time": "2023-01-28T14:55:45.255Z"
   },
   {
    "duration": 7,
    "start_time": "2023-01-28T14:55:45.707Z"
   },
   {
    "duration": 503,
    "start_time": "2023-01-28T14:55:45.716Z"
   },
   {
    "duration": 7,
    "start_time": "2023-01-28T14:55:46.221Z"
   },
   {
    "duration": 251,
    "start_time": "2023-01-28T14:55:46.230Z"
   },
   {
    "duration": 302,
    "start_time": "2023-01-28T14:55:46.483Z"
   },
   {
    "duration": 29,
    "start_time": "2023-01-28T14:55:46.788Z"
   },
   {
    "duration": 157,
    "start_time": "2023-01-28T14:55:46.823Z"
   },
   {
    "duration": 476,
    "start_time": "2023-01-28T14:55:46.985Z"
   },
   {
    "duration": 4,
    "start_time": "2023-01-28T14:55:47.465Z"
   },
   {
    "duration": 1999,
    "start_time": "2023-01-28T14:55:47.473Z"
   },
   {
    "duration": 0,
    "start_time": "2023-01-28T14:55:49.474Z"
   },
   {
    "duration": 0,
    "start_time": "2023-01-28T14:55:49.475Z"
   },
   {
    "duration": 221,
    "start_time": "2023-01-28T15:05:42.942Z"
   },
   {
    "duration": 1410,
    "start_time": "2023-01-28T15:05:52.226Z"
   },
   {
    "duration": 16,
    "start_time": "2023-01-28T15:06:24.950Z"
   },
   {
    "duration": 9,
    "start_time": "2023-01-28T15:06:56.351Z"
   },
   {
    "duration": 70,
    "start_time": "2023-01-28T15:06:59.867Z"
   },
   {
    "duration": 5,
    "start_time": "2023-01-28T15:07:00.954Z"
   },
   {
    "duration": 37,
    "start_time": "2023-01-28T15:07:38.542Z"
   },
   {
    "duration": 44,
    "start_time": "2023-01-28T15:07:53.260Z"
   },
   {
    "duration": 83,
    "start_time": "2023-01-28T15:08:12.685Z"
   },
   {
    "duration": 5,
    "start_time": "2023-01-28T15:10:01.849Z"
   },
   {
    "duration": 122,
    "start_time": "2023-01-28T15:10:01.857Z"
   },
   {
    "duration": 27,
    "start_time": "2023-01-28T15:10:01.981Z"
   },
   {
    "duration": 81,
    "start_time": "2023-01-28T15:10:02.019Z"
   },
   {
    "duration": 100,
    "start_time": "2023-01-28T15:10:02.103Z"
   },
   {
    "duration": 75,
    "start_time": "2023-01-28T15:10:02.205Z"
   },
   {
    "duration": 165,
    "start_time": "2023-01-28T15:10:02.282Z"
   },
   {
    "duration": 12,
    "start_time": "2023-01-28T15:10:02.449Z"
   },
   {
    "duration": 37,
    "start_time": "2023-01-28T15:10:02.463Z"
   },
   {
    "duration": 64,
    "start_time": "2023-01-28T15:10:02.510Z"
   },
   {
    "duration": 82,
    "start_time": "2023-01-28T15:10:02.576Z"
   },
   {
    "duration": 30,
    "start_time": "2023-01-28T15:10:02.660Z"
   },
   {
    "duration": 59,
    "start_time": "2023-01-28T15:10:02.699Z"
   },
   {
    "duration": 37,
    "start_time": "2023-01-28T15:10:02.761Z"
   },
   {
    "duration": 61,
    "start_time": "2023-01-28T15:10:02.802Z"
   },
   {
    "duration": 53,
    "start_time": "2023-01-28T15:10:02.865Z"
   },
   {
    "duration": 45,
    "start_time": "2023-01-28T15:10:02.921Z"
   },
   {
    "duration": 81,
    "start_time": "2023-01-28T15:10:02.968Z"
   },
   {
    "duration": 20,
    "start_time": "2023-01-28T15:10:03.050Z"
   },
   {
    "duration": 48,
    "start_time": "2023-01-28T15:10:03.072Z"
   },
   {
    "duration": 39,
    "start_time": "2023-01-28T15:10:03.122Z"
   },
   {
    "duration": 8,
    "start_time": "2023-01-28T15:10:03.163Z"
   },
   {
    "duration": 42,
    "start_time": "2023-01-28T15:10:03.173Z"
   },
   {
    "duration": 237,
    "start_time": "2023-01-28T15:10:03.217Z"
   },
   {
    "duration": 156,
    "start_time": "2023-01-28T15:10:03.456Z"
   },
   {
    "duration": 22,
    "start_time": "2023-01-28T15:10:03.614Z"
   },
   {
    "duration": 97,
    "start_time": "2023-01-28T15:10:03.638Z"
   },
   {
    "duration": 406,
    "start_time": "2023-01-28T15:10:03.740Z"
   },
   {
    "duration": 406,
    "start_time": "2023-01-28T15:10:04.152Z"
   },
   {
    "duration": 8,
    "start_time": "2023-01-28T15:10:04.560Z"
   },
   {
    "duration": 489,
    "start_time": "2023-01-28T15:10:04.570Z"
   },
   {
    "duration": 403,
    "start_time": "2023-01-28T15:10:05.062Z"
   },
   {
    "duration": 528,
    "start_time": "2023-01-28T15:10:05.467Z"
   },
   {
    "duration": 15,
    "start_time": "2023-01-28T15:10:06.003Z"
   },
   {
    "duration": 294,
    "start_time": "2023-01-28T15:10:06.021Z"
   },
   {
    "duration": 8,
    "start_time": "2023-01-28T15:10:06.322Z"
   },
   {
    "duration": 234,
    "start_time": "2023-01-28T15:10:06.334Z"
   },
   {
    "duration": 6,
    "start_time": "2023-01-28T15:10:06.570Z"
   },
   {
    "duration": 158,
    "start_time": "2023-01-28T15:10:06.584Z"
   },
   {
    "duration": 161,
    "start_time": "2023-01-28T15:10:06.745Z"
   },
   {
    "duration": 70,
    "start_time": "2023-01-28T15:10:06.911Z"
   },
   {
    "duration": 25,
    "start_time": "2023-01-28T15:10:06.984Z"
   },
   {
    "duration": 181,
    "start_time": "2023-01-28T15:10:07.019Z"
   },
   {
    "duration": 7,
    "start_time": "2023-01-28T15:10:07.210Z"
   },
   {
    "duration": 37,
    "start_time": "2023-01-28T15:10:07.231Z"
   },
   {
    "duration": 44,
    "start_time": "2023-01-28T15:10:07.270Z"
   },
   {
    "duration": 61,
    "start_time": "2023-01-28T15:15:33.273Z"
   },
   {
    "duration": 62,
    "start_time": "2023-01-28T15:24:40.749Z"
   },
   {
    "duration": 99,
    "start_time": "2023-01-28T15:24:53.255Z"
   },
   {
    "duration": 54,
    "start_time": "2023-01-28T15:25:08.540Z"
   },
   {
    "duration": 61,
    "start_time": "2023-01-28T15:25:16.878Z"
   },
   {
    "duration": 45,
    "start_time": "2023-01-28T15:25:24.415Z"
   },
   {
    "duration": 57,
    "start_time": "2023-01-28T15:25:42.059Z"
   },
   {
    "duration": 88,
    "start_time": "2023-01-28T15:28:38.649Z"
   },
   {
    "duration": 56,
    "start_time": "2023-01-28T15:28:46.533Z"
   },
   {
    "duration": 95,
    "start_time": "2023-01-28T15:29:03.546Z"
   },
   {
    "duration": 158,
    "start_time": "2023-01-28T15:29:13.382Z"
   },
   {
    "duration": 102,
    "start_time": "2023-01-28T15:29:25.548Z"
   },
   {
    "duration": 61,
    "start_time": "2023-01-28T15:30:00.607Z"
   },
   {
    "duration": 35,
    "start_time": "2023-01-28T15:30:21.653Z"
   },
   {
    "duration": 48,
    "start_time": "2023-01-28T15:30:43.734Z"
   },
   {
    "duration": 48,
    "start_time": "2023-01-28T15:30:55.850Z"
   },
   {
    "duration": 100,
    "start_time": "2023-01-28T15:31:10.165Z"
   },
   {
    "duration": 49,
    "start_time": "2023-01-28T15:31:20.946Z"
   },
   {
    "duration": 54,
    "start_time": "2023-01-28T15:31:51.257Z"
   },
   {
    "duration": 43,
    "start_time": "2023-01-28T15:32:14.160Z"
   },
   {
    "duration": 8,
    "start_time": "2023-01-28T15:32:33.797Z"
   },
   {
    "duration": 53,
    "start_time": "2023-01-28T15:46:58.766Z"
   },
   {
    "duration": 6,
    "start_time": "2023-01-28T15:47:24.148Z"
   },
   {
    "duration": 47,
    "start_time": "2023-01-28T15:47:40.177Z"
   },
   {
    "duration": 10,
    "start_time": "2023-01-28T16:09:57.797Z"
   },
   {
    "duration": 5,
    "start_time": "2023-01-28T16:10:30.246Z"
   },
   {
    "duration": 9,
    "start_time": "2023-01-28T16:10:38.411Z"
   },
   {
    "duration": 5,
    "start_time": "2023-01-28T16:39:55.530Z"
   },
   {
    "duration": 28,
    "start_time": "2023-01-28T16:39:55.538Z"
   },
   {
    "duration": 4,
    "start_time": "2023-01-28T16:39:55.568Z"
   },
   {
    "duration": 70,
    "start_time": "2023-01-28T16:39:55.574Z"
   },
   {
    "duration": 95,
    "start_time": "2023-01-28T16:39:55.647Z"
   },
   {
    "duration": 31,
    "start_time": "2023-01-28T16:39:55.745Z"
   },
   {
    "duration": 99,
    "start_time": "2023-01-28T16:39:55.777Z"
   },
   {
    "duration": 19,
    "start_time": "2023-01-28T16:39:55.878Z"
   },
   {
    "duration": 45,
    "start_time": "2023-01-28T16:39:55.899Z"
   },
   {
    "duration": 21,
    "start_time": "2023-01-28T16:39:55.946Z"
   },
   {
    "duration": 63,
    "start_time": "2023-01-28T16:39:55.969Z"
   },
   {
    "duration": 22,
    "start_time": "2023-01-28T16:39:56.034Z"
   },
   {
    "duration": 35,
    "start_time": "2023-01-28T16:39:56.059Z"
   },
   {
    "duration": 36,
    "start_time": "2023-01-28T16:39:56.101Z"
   },
   {
    "duration": 52,
    "start_time": "2023-01-28T16:39:56.139Z"
   },
   {
    "duration": 39,
    "start_time": "2023-01-28T16:39:56.193Z"
   },
   {
    "duration": 11,
    "start_time": "2023-01-28T16:39:56.234Z"
   },
   {
    "duration": 14,
    "start_time": "2023-01-28T16:39:56.247Z"
   },
   {
    "duration": 8,
    "start_time": "2023-01-28T16:39:56.263Z"
   },
   {
    "duration": 5,
    "start_time": "2023-01-28T16:39:56.273Z"
   },
   {
    "duration": 51,
    "start_time": "2023-01-28T16:39:56.280Z"
   },
   {
    "duration": 15,
    "start_time": "2023-01-28T16:39:56.333Z"
   },
   {
    "duration": 8,
    "start_time": "2023-01-28T16:39:56.350Z"
   },
   {
    "duration": 232,
    "start_time": "2023-01-28T16:39:56.360Z"
   },
   {
    "duration": 183,
    "start_time": "2023-01-28T16:39:56.597Z"
   },
   {
    "duration": 9,
    "start_time": "2023-01-28T16:39:56.782Z"
   },
   {
    "duration": 45,
    "start_time": "2023-01-28T16:39:56.798Z"
   },
   {
    "duration": 484,
    "start_time": "2023-01-28T16:39:56.845Z"
   },
   {
    "duration": 362,
    "start_time": "2023-01-28T16:39:57.331Z"
   },
   {
    "duration": 14,
    "start_time": "2023-01-28T16:39:57.695Z"
   },
   {
    "duration": 399,
    "start_time": "2023-01-28T16:39:57.711Z"
   },
   {
    "duration": 332,
    "start_time": "2023-01-28T16:39:58.123Z"
   },
   {
    "duration": 456,
    "start_time": "2023-01-28T16:39:58.457Z"
   },
   {
    "duration": 13,
    "start_time": "2023-01-28T16:39:58.915Z"
   },
   {
    "duration": 297,
    "start_time": "2023-01-28T16:39:58.932Z"
   },
   {
    "duration": 5,
    "start_time": "2023-01-28T16:39:59.232Z"
   },
   {
    "duration": 211,
    "start_time": "2023-01-28T16:39:59.239Z"
   },
   {
    "duration": 5,
    "start_time": "2023-01-28T16:39:59.452Z"
   },
   {
    "duration": 119,
    "start_time": "2023-01-28T16:39:59.458Z"
   },
   {
    "duration": 149,
    "start_time": "2023-01-28T16:39:59.585Z"
   },
   {
    "duration": 26,
    "start_time": "2023-01-28T16:39:59.740Z"
   },
   {
    "duration": 36,
    "start_time": "2023-01-28T16:39:59.768Z"
   },
   {
    "duration": 189,
    "start_time": "2023-01-28T16:39:59.806Z"
   },
   {
    "duration": 12,
    "start_time": "2023-01-28T16:40:00.005Z"
   },
   {
    "duration": 82,
    "start_time": "2023-01-28T16:40:00.029Z"
   },
   {
    "duration": 129,
    "start_time": "2023-01-28T16:40:00.116Z"
   },
   {
    "duration": 19,
    "start_time": "2023-01-28T16:40:00.247Z"
   },
   {
    "duration": 68,
    "start_time": "2023-01-28T16:40:00.269Z"
   },
   {
    "duration": 42,
    "start_time": "2023-01-28T16:40:00.339Z"
   },
   {
    "duration": 68,
    "start_time": "2023-01-28T16:40:00.383Z"
   },
   {
    "duration": 93,
    "start_time": "2023-01-28T16:40:00.452Z"
   },
   {
    "duration": 94,
    "start_time": "2023-01-28T16:40:00.549Z"
   },
   {
    "duration": 67,
    "start_time": "2023-01-28T16:40:00.645Z"
   },
   {
    "duration": 6,
    "start_time": "2023-01-28T16:41:03.240Z"
   },
   {
    "duration": 5,
    "start_time": "2023-01-28T16:41:04.119Z"
   },
   {
    "duration": 10,
    "start_time": "2023-01-28T16:44:28.307Z"
   },
   {
    "duration": 50,
    "start_time": "2023-01-28T16:44:28.320Z"
   },
   {
    "duration": 6,
    "start_time": "2023-01-28T16:44:28.374Z"
   },
   {
    "duration": 69,
    "start_time": "2023-01-28T16:44:28.382Z"
   },
   {
    "duration": 37,
    "start_time": "2023-01-28T16:44:28.453Z"
   },
   {
    "duration": 45,
    "start_time": "2023-01-28T16:44:28.497Z"
   },
   {
    "duration": 79,
    "start_time": "2023-01-28T16:44:28.544Z"
   },
   {
    "duration": 15,
    "start_time": "2023-01-28T16:44:28.625Z"
   },
   {
    "duration": 14,
    "start_time": "2023-01-28T16:44:28.642Z"
   },
   {
    "duration": 12,
    "start_time": "2023-01-28T16:44:28.660Z"
   },
   {
    "duration": 23,
    "start_time": "2023-01-28T16:44:28.674Z"
   },
   {
    "duration": 33,
    "start_time": "2023-01-28T16:44:28.699Z"
   },
   {
    "duration": 13,
    "start_time": "2023-01-28T16:44:28.734Z"
   },
   {
    "duration": 10,
    "start_time": "2023-01-28T16:44:28.750Z"
   },
   {
    "duration": 13,
    "start_time": "2023-01-28T16:44:28.762Z"
   },
   {
    "duration": 7,
    "start_time": "2023-01-28T16:44:28.776Z"
   },
   {
    "duration": 46,
    "start_time": "2023-01-28T16:44:28.788Z"
   },
   {
    "duration": 12,
    "start_time": "2023-01-28T16:44:28.836Z"
   },
   {
    "duration": 10,
    "start_time": "2023-01-28T16:44:28.850Z"
   },
   {
    "duration": 7,
    "start_time": "2023-01-28T16:44:28.862Z"
   },
   {
    "duration": 12,
    "start_time": "2023-01-28T16:44:28.871Z"
   },
   {
    "duration": 34,
    "start_time": "2023-01-28T16:44:28.889Z"
   },
   {
    "duration": 7,
    "start_time": "2023-01-28T16:44:28.927Z"
   },
   {
    "duration": 204,
    "start_time": "2023-01-28T16:44:28.936Z"
   },
   {
    "duration": 146,
    "start_time": "2023-01-28T16:44:29.142Z"
   },
   {
    "duration": 16,
    "start_time": "2023-01-28T16:44:29.289Z"
   },
   {
    "duration": 14,
    "start_time": "2023-01-28T16:44:29.317Z"
   },
   {
    "duration": 349,
    "start_time": "2023-01-28T16:44:29.337Z"
   },
   {
    "duration": 377,
    "start_time": "2023-01-28T16:44:29.688Z"
   },
   {
    "duration": 31,
    "start_time": "2023-01-28T16:44:30.067Z"
   },
   {
    "duration": 514,
    "start_time": "2023-01-28T16:44:30.101Z"
   },
   {
    "duration": 379,
    "start_time": "2023-01-28T16:44:30.621Z"
   },
   {
    "duration": 441,
    "start_time": "2023-01-28T16:44:31.004Z"
   },
   {
    "duration": 9,
    "start_time": "2023-01-28T16:44:31.447Z"
   },
   {
    "duration": 320,
    "start_time": "2023-01-28T16:44:31.459Z"
   },
   {
    "duration": 22,
    "start_time": "2023-01-28T16:44:31.784Z"
   },
   {
    "duration": 232,
    "start_time": "2023-01-28T16:44:31.808Z"
   },
   {
    "duration": 5,
    "start_time": "2023-01-28T16:44:32.042Z"
   },
   {
    "duration": 120,
    "start_time": "2023-01-28T16:44:32.049Z"
   },
   {
    "duration": 135,
    "start_time": "2023-01-28T16:44:32.171Z"
   },
   {
    "duration": 25,
    "start_time": "2023-01-28T16:44:32.310Z"
   },
   {
    "duration": 11,
    "start_time": "2023-01-28T16:44:32.337Z"
   },
   {
    "duration": 161,
    "start_time": "2023-01-28T16:44:32.350Z"
   },
   {
    "duration": 5,
    "start_time": "2023-01-28T16:44:32.520Z"
   },
   {
    "duration": 17,
    "start_time": "2023-01-28T16:44:32.527Z"
   },
   {
    "duration": 26,
    "start_time": "2023-01-28T16:44:32.547Z"
   },
   {
    "duration": 6,
    "start_time": "2023-01-28T16:44:32.575Z"
   },
   {
    "duration": 39,
    "start_time": "2023-01-28T16:44:32.591Z"
   },
   {
    "duration": 15,
    "start_time": "2023-01-28T16:44:32.632Z"
   },
   {
    "duration": 9,
    "start_time": "2023-01-28T16:44:32.649Z"
   },
   {
    "duration": 9,
    "start_time": "2023-01-28T16:44:32.660Z"
   },
   {
    "duration": 7,
    "start_time": "2023-01-28T16:44:32.671Z"
   },
   {
    "duration": 36,
    "start_time": "2023-01-28T16:44:32.680Z"
   },
   {
    "duration": 940,
    "start_time": "2023-01-28T16:44:32.719Z"
   },
   {
    "duration": 0,
    "start_time": "2023-01-28T16:44:33.661Z"
   },
   {
    "duration": 20,
    "start_time": "2023-01-28T16:45:25.701Z"
   },
   {
    "duration": 27,
    "start_time": "2023-01-28T16:45:28.323Z"
   },
   {
    "duration": 5,
    "start_time": "2023-01-28T16:46:52.714Z"
   },
   {
    "duration": 5,
    "start_time": "2023-01-28T16:50:45.950Z"
   },
   {
    "duration": 825,
    "start_time": "2023-01-28T16:50:55.157Z"
   },
   {
    "duration": 12,
    "start_time": "2023-01-28T16:51:30.098Z"
   },
   {
    "duration": 10,
    "start_time": "2023-01-28T16:52:41.858Z"
   },
   {
    "duration": 6,
    "start_time": "2023-01-28T17:17:55.184Z"
   },
   {
    "duration": 31,
    "start_time": "2023-01-28T17:17:55.193Z"
   },
   {
    "duration": 6,
    "start_time": "2023-01-28T17:17:55.226Z"
   },
   {
    "duration": 17,
    "start_time": "2023-01-28T17:17:55.235Z"
   },
   {
    "duration": 34,
    "start_time": "2023-01-28T17:17:55.255Z"
   },
   {
    "duration": 32,
    "start_time": "2023-01-28T17:17:55.292Z"
   },
   {
    "duration": 58,
    "start_time": "2023-01-28T17:17:55.326Z"
   },
   {
    "duration": 13,
    "start_time": "2023-01-28T17:17:55.386Z"
   },
   {
    "duration": 7,
    "start_time": "2023-01-28T17:17:55.401Z"
   },
   {
    "duration": 14,
    "start_time": "2023-01-28T17:17:55.410Z"
   },
   {
    "duration": 14,
    "start_time": "2023-01-28T17:17:55.426Z"
   },
   {
    "duration": 42,
    "start_time": "2023-01-28T17:17:55.442Z"
   },
   {
    "duration": 8,
    "start_time": "2023-01-28T17:17:55.486Z"
   },
   {
    "duration": 9,
    "start_time": "2023-01-28T17:17:55.498Z"
   },
   {
    "duration": 11,
    "start_time": "2023-01-28T17:17:55.510Z"
   },
   {
    "duration": 7,
    "start_time": "2023-01-28T17:17:55.523Z"
   },
   {
    "duration": 54,
    "start_time": "2023-01-28T17:17:55.532Z"
   },
   {
    "duration": 21,
    "start_time": "2023-01-28T17:17:55.589Z"
   },
   {
    "duration": 24,
    "start_time": "2023-01-28T17:17:55.613Z"
   },
   {
    "duration": 6,
    "start_time": "2023-01-28T17:17:55.639Z"
   },
   {
    "duration": 16,
    "start_time": "2023-01-28T17:17:55.647Z"
   },
   {
    "duration": 20,
    "start_time": "2023-01-28T17:17:55.666Z"
   },
   {
    "duration": 21,
    "start_time": "2023-01-28T17:17:55.688Z"
   },
   {
    "duration": 182,
    "start_time": "2023-01-28T17:17:55.711Z"
   },
   {
    "duration": 172,
    "start_time": "2023-01-28T17:17:55.895Z"
   },
   {
    "duration": 20,
    "start_time": "2023-01-28T17:17:56.069Z"
   },
   {
    "duration": 10,
    "start_time": "2023-01-28T17:17:56.092Z"
   },
   {
    "duration": 323,
    "start_time": "2023-01-28T17:17:56.104Z"
   },
   {
    "duration": 337,
    "start_time": "2023-01-28T17:17:56.429Z"
   },
   {
    "duration": 16,
    "start_time": "2023-01-28T17:17:56.768Z"
   },
   {
    "duration": 428,
    "start_time": "2023-01-28T17:17:56.786Z"
   },
   {
    "duration": 314,
    "start_time": "2023-01-28T17:17:57.216Z"
   },
   {
    "duration": 471,
    "start_time": "2023-01-28T17:17:57.532Z"
   },
   {
    "duration": 7,
    "start_time": "2023-01-28T17:17:58.005Z"
   },
   {
    "duration": 211,
    "start_time": "2023-01-28T17:17:58.014Z"
   },
   {
    "duration": 6,
    "start_time": "2023-01-28T17:17:58.227Z"
   },
   {
    "duration": 199,
    "start_time": "2023-01-28T17:17:58.234Z"
   },
   {
    "duration": 7,
    "start_time": "2023-01-28T17:17:58.436Z"
   },
   {
    "duration": 113,
    "start_time": "2023-01-28T17:17:58.445Z"
   },
   {
    "duration": 156,
    "start_time": "2023-01-28T17:17:58.561Z"
   },
   {
    "duration": 31,
    "start_time": "2023-01-28T17:17:58.721Z"
   },
   {
    "duration": 32,
    "start_time": "2023-01-28T17:17:58.754Z"
   },
   {
    "duration": 271,
    "start_time": "2023-01-28T17:17:58.788Z"
   },
   {
    "duration": 3,
    "start_time": "2023-01-28T17:17:59.062Z"
   },
   {
    "duration": 19,
    "start_time": "2023-01-28T17:17:59.067Z"
   },
   {
    "duration": 39,
    "start_time": "2023-01-28T17:17:59.088Z"
   },
   {
    "duration": 6,
    "start_time": "2023-01-28T17:17:59.129Z"
   },
   {
    "duration": 11,
    "start_time": "2023-01-28T17:17:59.137Z"
   },
   {
    "duration": 35,
    "start_time": "2023-01-28T17:17:59.151Z"
   },
   {
    "duration": 9,
    "start_time": "2023-01-28T17:17:59.188Z"
   },
   {
    "duration": 13,
    "start_time": "2023-01-28T17:17:59.200Z"
   },
   {
    "duration": 16,
    "start_time": "2023-01-28T17:17:59.215Z"
   },
   {
    "duration": 15,
    "start_time": "2023-01-28T17:17:59.234Z"
   },
   {
    "duration": 11,
    "start_time": "2023-01-28T17:17:59.251Z"
   },
   {
    "duration": 65,
    "start_time": "2023-01-28T17:17:59.264Z"
   },
   {
    "duration": 5,
    "start_time": "2023-01-28T17:17:59.331Z"
   },
   {
    "duration": 21,
    "start_time": "2023-01-28T17:17:59.338Z"
   },
   {
    "duration": 29,
    "start_time": "2023-01-28T17:17:59.361Z"
   },
   {
    "duration": 10,
    "start_time": "2023-01-28T17:32:12.258Z"
   },
   {
    "duration": 1541,
    "start_time": "2023-01-29T05:40:55.662Z"
   },
   {
    "duration": 27,
    "start_time": "2023-01-29T05:40:57.205Z"
   },
   {
    "duration": 5,
    "start_time": "2023-01-29T05:40:57.234Z"
   },
   {
    "duration": 17,
    "start_time": "2023-01-29T05:40:57.242Z"
   },
   {
    "duration": 26,
    "start_time": "2023-01-29T05:40:57.261Z"
   },
   {
    "duration": 16,
    "start_time": "2023-01-29T05:40:57.290Z"
   },
   {
    "duration": 78,
    "start_time": "2023-01-29T05:40:57.309Z"
   },
   {
    "duration": 20,
    "start_time": "2023-01-29T05:40:57.390Z"
   },
   {
    "duration": 16,
    "start_time": "2023-01-29T05:40:57.412Z"
   },
   {
    "duration": 19,
    "start_time": "2023-01-29T05:40:57.433Z"
   },
   {
    "duration": 31,
    "start_time": "2023-01-29T05:40:57.454Z"
   },
   {
    "duration": 12,
    "start_time": "2023-01-29T05:40:57.487Z"
   },
   {
    "duration": 17,
    "start_time": "2023-01-29T05:40:57.501Z"
   },
   {
    "duration": 29,
    "start_time": "2023-01-29T05:40:57.520Z"
   },
   {
    "duration": 14,
    "start_time": "2023-01-29T05:40:57.552Z"
   },
   {
    "duration": 17,
    "start_time": "2023-01-29T05:40:57.568Z"
   },
   {
    "duration": 16,
    "start_time": "2023-01-29T05:40:57.588Z"
   },
   {
    "duration": 27,
    "start_time": "2023-01-29T05:40:57.606Z"
   },
   {
    "duration": 35,
    "start_time": "2023-01-29T05:40:57.635Z"
   },
   {
    "duration": 21,
    "start_time": "2023-01-29T05:40:57.672Z"
   },
   {
    "duration": 14,
    "start_time": "2023-01-29T05:40:57.695Z"
   },
   {
    "duration": 8,
    "start_time": "2023-01-29T05:40:57.711Z"
   },
   {
    "duration": 11,
    "start_time": "2023-01-29T05:40:57.721Z"
   },
   {
    "duration": 211,
    "start_time": "2023-01-29T05:40:57.734Z"
   },
   {
    "duration": 153,
    "start_time": "2023-01-29T05:40:57.947Z"
   },
   {
    "duration": 7,
    "start_time": "2023-01-29T05:40:58.101Z"
   },
   {
    "duration": 18,
    "start_time": "2023-01-29T05:40:58.110Z"
   },
   {
    "duration": 524,
    "start_time": "2023-01-29T05:40:58.132Z"
   },
   {
    "duration": 346,
    "start_time": "2023-01-29T05:40:58.658Z"
   },
   {
    "duration": 7,
    "start_time": "2023-01-29T05:40:59.006Z"
   },
   {
    "duration": 421,
    "start_time": "2023-01-29T05:40:59.016Z"
   },
   {
    "duration": 432,
    "start_time": "2023-01-29T05:40:59.439Z"
   },
   {
    "duration": 517,
    "start_time": "2023-01-29T05:40:59.874Z"
   },
   {
    "duration": 9,
    "start_time": "2023-01-29T05:41:00.394Z"
   },
   {
    "duration": 310,
    "start_time": "2023-01-29T05:41:00.406Z"
   },
   {
    "duration": 7,
    "start_time": "2023-01-29T05:41:00.718Z"
   },
   {
    "duration": 304,
    "start_time": "2023-01-29T05:41:00.727Z"
   },
   {
    "duration": 9,
    "start_time": "2023-01-29T05:41:01.033Z"
   },
   {
    "duration": 128,
    "start_time": "2023-01-29T05:41:01.044Z"
   },
   {
    "duration": 164,
    "start_time": "2023-01-29T05:41:01.174Z"
   },
   {
    "duration": 120,
    "start_time": "2023-01-29T05:41:01.341Z"
   },
   {
    "duration": 57,
    "start_time": "2023-01-29T05:41:01.463Z"
   },
   {
    "duration": 242,
    "start_time": "2023-01-29T05:41:01.522Z"
   },
   {
    "duration": 3,
    "start_time": "2023-01-29T05:41:01.766Z"
   },
   {
    "duration": 47,
    "start_time": "2023-01-29T05:41:01.771Z"
   },
   {
    "duration": 82,
    "start_time": "2023-01-29T05:41:01.821Z"
   },
   {
    "duration": 30,
    "start_time": "2023-01-29T05:41:01.905Z"
   },
   {
    "duration": 49,
    "start_time": "2023-01-29T05:41:01.937Z"
   },
   {
    "duration": 80,
    "start_time": "2023-01-29T05:41:01.987Z"
   },
   {
    "duration": 73,
    "start_time": "2023-01-29T05:41:02.069Z"
   },
   {
    "duration": 93,
    "start_time": "2023-01-29T05:41:02.145Z"
   },
   {
    "duration": 48,
    "start_time": "2023-01-29T05:41:02.241Z"
   },
   {
    "duration": 30,
    "start_time": "2023-01-29T05:41:02.292Z"
   },
   {
    "duration": 28,
    "start_time": "2023-01-29T05:41:02.324Z"
   },
   {
    "duration": 76,
    "start_time": "2023-01-29T05:41:02.354Z"
   },
   {
    "duration": 11,
    "start_time": "2023-01-29T05:41:02.433Z"
   },
   {
    "duration": 73,
    "start_time": "2023-01-29T05:41:02.446Z"
   },
   {
    "duration": 43,
    "start_time": "2023-01-29T05:41:02.521Z"
   },
   {
    "duration": 53,
    "start_time": "2023-01-29T09:49:43.299Z"
   },
   {
    "duration": 7,
    "start_time": "2023-01-29T09:50:08.189Z"
   },
   {
    "duration": 1524,
    "start_time": "2023-01-29T09:50:21.269Z"
   },
   {
    "duration": 79,
    "start_time": "2023-01-29T09:50:22.797Z"
   },
   {
    "duration": 4,
    "start_time": "2023-01-29T09:50:22.878Z"
   },
   {
    "duration": 106,
    "start_time": "2023-01-29T09:50:22.884Z"
   },
   {
    "duration": 0,
    "start_time": "2023-01-29T09:50:22.994Z"
   },
   {
    "duration": 0,
    "start_time": "2023-01-29T09:50:22.995Z"
   },
   {
    "duration": 0,
    "start_time": "2023-01-29T09:50:22.996Z"
   },
   {
    "duration": 0,
    "start_time": "2023-01-29T09:50:22.997Z"
   },
   {
    "duration": 1,
    "start_time": "2023-01-29T09:50:22.998Z"
   },
   {
    "duration": 0,
    "start_time": "2023-01-29T09:50:23.000Z"
   },
   {
    "duration": 0,
    "start_time": "2023-01-29T09:50:23.001Z"
   },
   {
    "duration": 0,
    "start_time": "2023-01-29T09:50:23.002Z"
   },
   {
    "duration": 0,
    "start_time": "2023-01-29T09:50:23.003Z"
   },
   {
    "duration": 0,
    "start_time": "2023-01-29T09:50:23.004Z"
   },
   {
    "duration": 0,
    "start_time": "2023-01-29T09:50:23.006Z"
   },
   {
    "duration": 0,
    "start_time": "2023-01-29T09:50:23.021Z"
   },
   {
    "duration": 0,
    "start_time": "2023-01-29T09:50:23.023Z"
   },
   {
    "duration": 0,
    "start_time": "2023-01-29T09:50:23.024Z"
   },
   {
    "duration": 0,
    "start_time": "2023-01-29T09:50:23.026Z"
   },
   {
    "duration": 0,
    "start_time": "2023-01-29T09:50:23.028Z"
   },
   {
    "duration": 0,
    "start_time": "2023-01-29T09:50:23.029Z"
   },
   {
    "duration": 0,
    "start_time": "2023-01-29T09:50:23.030Z"
   },
   {
    "duration": 0,
    "start_time": "2023-01-29T09:50:23.031Z"
   },
   {
    "duration": 0,
    "start_time": "2023-01-29T09:50:23.032Z"
   },
   {
    "duration": 0,
    "start_time": "2023-01-29T09:50:23.033Z"
   },
   {
    "duration": 0,
    "start_time": "2023-01-29T09:50:23.035Z"
   },
   {
    "duration": 0,
    "start_time": "2023-01-29T09:50:23.036Z"
   },
   {
    "duration": 0,
    "start_time": "2023-01-29T09:50:23.037Z"
   },
   {
    "duration": 0,
    "start_time": "2023-01-29T09:50:23.038Z"
   },
   {
    "duration": 0,
    "start_time": "2023-01-29T09:50:23.038Z"
   },
   {
    "duration": 0,
    "start_time": "2023-01-29T09:50:23.040Z"
   },
   {
    "duration": 0,
    "start_time": "2023-01-29T09:50:23.041Z"
   },
   {
    "duration": 0,
    "start_time": "2023-01-29T09:50:23.042Z"
   },
   {
    "duration": 0,
    "start_time": "2023-01-29T09:50:23.043Z"
   },
   {
    "duration": 0,
    "start_time": "2023-01-29T09:50:23.044Z"
   },
   {
    "duration": 0,
    "start_time": "2023-01-29T09:50:23.045Z"
   },
   {
    "duration": 0,
    "start_time": "2023-01-29T09:50:23.046Z"
   },
   {
    "duration": 0,
    "start_time": "2023-01-29T09:50:23.047Z"
   },
   {
    "duration": 0,
    "start_time": "2023-01-29T09:50:23.048Z"
   },
   {
    "duration": 0,
    "start_time": "2023-01-29T09:50:23.050Z"
   },
   {
    "duration": 0,
    "start_time": "2023-01-29T09:50:23.052Z"
   },
   {
    "duration": 0,
    "start_time": "2023-01-29T09:50:23.053Z"
   },
   {
    "duration": 0,
    "start_time": "2023-01-29T09:50:23.055Z"
   },
   {
    "duration": 0,
    "start_time": "2023-01-29T09:50:23.057Z"
   },
   {
    "duration": 0,
    "start_time": "2023-01-29T09:50:23.058Z"
   },
   {
    "duration": 0,
    "start_time": "2023-01-29T09:50:23.060Z"
   },
   {
    "duration": 0,
    "start_time": "2023-01-29T09:50:23.062Z"
   },
   {
    "duration": 0,
    "start_time": "2023-01-29T09:50:23.121Z"
   },
   {
    "duration": 0,
    "start_time": "2023-01-29T09:50:23.123Z"
   },
   {
    "duration": 0,
    "start_time": "2023-01-29T09:50:23.125Z"
   },
   {
    "duration": 0,
    "start_time": "2023-01-29T09:50:23.126Z"
   },
   {
    "duration": 0,
    "start_time": "2023-01-29T09:50:23.128Z"
   },
   {
    "duration": 0,
    "start_time": "2023-01-29T09:50:23.129Z"
   },
   {
    "duration": 0,
    "start_time": "2023-01-29T09:50:23.131Z"
   },
   {
    "duration": 0,
    "start_time": "2023-01-29T09:50:23.132Z"
   },
   {
    "duration": 0,
    "start_time": "2023-01-29T09:50:23.134Z"
   },
   {
    "duration": 1,
    "start_time": "2023-01-29T09:50:23.135Z"
   },
   {
    "duration": 0,
    "start_time": "2023-01-29T09:50:23.137Z"
   },
   {
    "duration": 0,
    "start_time": "2023-01-29T09:50:23.139Z"
   },
   {
    "duration": 3,
    "start_time": "2023-01-29T09:51:45.235Z"
   },
   {
    "duration": 12,
    "start_time": "2023-01-29T09:51:48.466Z"
   },
   {
    "duration": 4,
    "start_time": "2023-01-29T09:52:22.889Z"
   },
   {
    "duration": 30,
    "start_time": "2023-01-29T09:52:22.896Z"
   },
   {
    "duration": 4,
    "start_time": "2023-01-29T09:52:22.928Z"
   },
   {
    "duration": 9,
    "start_time": "2023-01-29T09:52:22.933Z"
   },
   {
    "duration": 16,
    "start_time": "2023-01-29T09:52:22.945Z"
   },
   {
    "duration": 16,
    "start_time": "2023-01-29T09:52:22.963Z"
   },
   {
    "duration": 42,
    "start_time": "2023-01-29T09:52:22.980Z"
   },
   {
    "duration": 173,
    "start_time": "2023-01-29T09:52:23.023Z"
   },
   {
    "duration": 13,
    "start_time": "2023-01-29T09:52:23.197Z"
   },
   {
    "duration": 11,
    "start_time": "2023-01-29T09:52:23.212Z"
   },
   {
    "duration": 12,
    "start_time": "2023-01-29T09:52:23.224Z"
   },
   {
    "duration": 13,
    "start_time": "2023-01-29T09:52:23.238Z"
   },
   {
    "duration": 32,
    "start_time": "2023-01-29T09:52:23.253Z"
   },
   {
    "duration": 29,
    "start_time": "2023-01-29T09:52:23.289Z"
   },
   {
    "duration": 9,
    "start_time": "2023-01-29T09:52:23.320Z"
   },
   {
    "duration": 8,
    "start_time": "2023-01-29T09:52:23.331Z"
   },
   {
    "duration": 7,
    "start_time": "2023-01-29T09:52:23.341Z"
   },
   {
    "duration": 10,
    "start_time": "2023-01-29T09:52:23.349Z"
   },
   {
    "duration": 10,
    "start_time": "2023-01-29T09:52:23.361Z"
   },
   {
    "duration": 7,
    "start_time": "2023-01-29T09:52:23.372Z"
   },
   {
    "duration": 41,
    "start_time": "2023-01-29T09:52:23.380Z"
   },
   {
    "duration": 7,
    "start_time": "2023-01-29T09:52:23.423Z"
   },
   {
    "duration": 7,
    "start_time": "2023-01-29T09:52:23.431Z"
   },
   {
    "duration": 8,
    "start_time": "2023-01-29T09:52:23.439Z"
   },
   {
    "duration": 193,
    "start_time": "2023-01-29T09:52:23.449Z"
   },
   {
    "duration": 144,
    "start_time": "2023-01-29T09:52:23.644Z"
   },
   {
    "duration": 7,
    "start_time": "2023-01-29T09:52:23.791Z"
   },
   {
    "duration": 25,
    "start_time": "2023-01-29T09:52:23.800Z"
   },
   {
    "duration": 369,
    "start_time": "2023-01-29T09:52:23.826Z"
   },
   {
    "duration": 331,
    "start_time": "2023-01-29T09:52:24.197Z"
   },
   {
    "duration": 10,
    "start_time": "2023-01-29T09:52:24.531Z"
   },
   {
    "duration": 408,
    "start_time": "2023-01-29T09:52:24.543Z"
   },
   {
    "duration": 336,
    "start_time": "2023-01-29T09:52:24.953Z"
   },
   {
    "duration": 435,
    "start_time": "2023-01-29T09:52:25.291Z"
   },
   {
    "duration": 7,
    "start_time": "2023-01-29T09:52:25.728Z"
   },
   {
    "duration": 204,
    "start_time": "2023-01-29T09:52:25.736Z"
   },
   {
    "duration": 5,
    "start_time": "2023-01-29T09:52:25.941Z"
   },
   {
    "duration": 200,
    "start_time": "2023-01-29T09:52:25.948Z"
   },
   {
    "duration": 5,
    "start_time": "2023-01-29T09:52:26.150Z"
   },
   {
    "duration": 102,
    "start_time": "2023-01-29T09:52:26.156Z"
   },
   {
    "duration": 137,
    "start_time": "2023-01-29T09:52:26.263Z"
   },
   {
    "duration": 28,
    "start_time": "2023-01-29T09:52:26.402Z"
   },
   {
    "duration": 12,
    "start_time": "2023-01-29T09:52:26.433Z"
   },
   {
    "duration": 154,
    "start_time": "2023-01-29T09:52:26.447Z"
   },
   {
    "duration": 2,
    "start_time": "2023-01-29T09:52:26.603Z"
   },
   {
    "duration": 33,
    "start_time": "2023-01-29T09:52:26.607Z"
   },
   {
    "duration": 67,
    "start_time": "2023-01-29T09:52:26.642Z"
   },
   {
    "duration": 5,
    "start_time": "2023-01-29T09:52:26.711Z"
   },
   {
    "duration": 9,
    "start_time": "2023-01-29T09:52:26.718Z"
   },
   {
    "duration": 7,
    "start_time": "2023-01-29T09:52:26.728Z"
   },
   {
    "duration": 6,
    "start_time": "2023-01-29T09:52:26.737Z"
   },
   {
    "duration": 9,
    "start_time": "2023-01-29T09:52:26.745Z"
   },
   {
    "duration": 9,
    "start_time": "2023-01-29T09:52:26.756Z"
   },
   {
    "duration": 6,
    "start_time": "2023-01-29T09:52:26.767Z"
   },
   {
    "duration": 10,
    "start_time": "2023-01-29T09:52:26.774Z"
   },
   {
    "duration": 57,
    "start_time": "2023-01-29T09:52:26.786Z"
   },
   {
    "duration": 5,
    "start_time": "2023-01-29T09:52:26.844Z"
   },
   {
    "duration": 13,
    "start_time": "2023-01-29T09:52:26.851Z"
   },
   {
    "duration": 10,
    "start_time": "2023-01-29T09:52:26.866Z"
   },
   {
    "duration": 4,
    "start_time": "2023-01-29T09:55:18.437Z"
   },
   {
    "duration": 12,
    "start_time": "2023-01-29T09:55:20.019Z"
   },
   {
    "duration": 4,
    "start_time": "2023-01-29T09:55:29.619Z"
   },
   {
    "duration": 11,
    "start_time": "2023-01-29T09:55:30.642Z"
   },
   {
    "duration": 4,
    "start_time": "2023-01-29T09:56:00.481Z"
   },
   {
    "duration": 52,
    "start_time": "2023-01-29T09:56:00.487Z"
   },
   {
    "duration": 3,
    "start_time": "2023-01-29T09:56:00.540Z"
   },
   {
    "duration": 34,
    "start_time": "2023-01-29T09:56:00.545Z"
   },
   {
    "duration": 14,
    "start_time": "2023-01-29T09:56:00.583Z"
   },
   {
    "duration": 18,
    "start_time": "2023-01-29T09:56:00.599Z"
   },
   {
    "duration": 15,
    "start_time": "2023-01-29T09:56:00.619Z"
   },
   {
    "duration": 25,
    "start_time": "2023-01-29T09:56:00.636Z"
   },
   {
    "duration": 84,
    "start_time": "2023-01-29T09:56:00.663Z"
   },
   {
    "duration": 12,
    "start_time": "2023-01-29T09:56:00.749Z"
   },
   {
    "duration": 45,
    "start_time": "2023-01-29T09:56:00.762Z"
   },
   {
    "duration": 40,
    "start_time": "2023-01-29T09:56:00.809Z"
   },
   {
    "duration": 28,
    "start_time": "2023-01-29T09:56:00.852Z"
   },
   {
    "duration": 36,
    "start_time": "2023-01-29T09:56:00.882Z"
   },
   {
    "duration": 14,
    "start_time": "2023-01-29T09:56:00.920Z"
   },
   {
    "duration": 24,
    "start_time": "2023-01-29T09:56:00.936Z"
   },
   {
    "duration": 30,
    "start_time": "2023-01-29T09:56:00.961Z"
   },
   {
    "duration": 27,
    "start_time": "2023-01-29T09:56:00.993Z"
   },
   {
    "duration": 24,
    "start_time": "2023-01-29T09:56:01.021Z"
   },
   {
    "duration": 22,
    "start_time": "2023-01-29T09:56:01.047Z"
   },
   {
    "duration": 37,
    "start_time": "2023-01-29T09:56:01.071Z"
   },
   {
    "duration": 22,
    "start_time": "2023-01-29T09:56:01.110Z"
   },
   {
    "duration": 46,
    "start_time": "2023-01-29T09:56:01.134Z"
   },
   {
    "duration": 24,
    "start_time": "2023-01-29T09:56:01.182Z"
   },
   {
    "duration": 14,
    "start_time": "2023-01-29T09:56:01.207Z"
   },
   {
    "duration": 171,
    "start_time": "2023-01-29T09:56:01.223Z"
   },
   {
    "duration": 138,
    "start_time": "2023-01-29T09:56:01.396Z"
   },
   {
    "duration": 7,
    "start_time": "2023-01-29T09:56:01.536Z"
   },
   {
    "duration": 31,
    "start_time": "2023-01-29T09:56:01.545Z"
   },
   {
    "duration": 379,
    "start_time": "2023-01-29T09:56:01.578Z"
   },
   {
    "duration": 302,
    "start_time": "2023-01-29T09:56:01.959Z"
   },
   {
    "duration": 7,
    "start_time": "2023-01-29T09:56:02.263Z"
   },
   {
    "duration": 365,
    "start_time": "2023-01-29T09:56:02.272Z"
   },
   {
    "duration": 300,
    "start_time": "2023-01-29T09:56:02.639Z"
   },
   {
    "duration": 383,
    "start_time": "2023-01-29T09:56:02.941Z"
   },
   {
    "duration": 8,
    "start_time": "2023-01-29T09:56:03.326Z"
   },
   {
    "duration": 187,
    "start_time": "2023-01-29T09:56:03.338Z"
   },
   {
    "duration": 6,
    "start_time": "2023-01-29T09:56:03.526Z"
   },
   {
    "duration": 188,
    "start_time": "2023-01-29T09:56:03.533Z"
   },
   {
    "duration": 6,
    "start_time": "2023-01-29T09:56:03.722Z"
   },
   {
    "duration": 103,
    "start_time": "2023-01-29T09:56:03.729Z"
   },
   {
    "duration": 128,
    "start_time": "2023-01-29T09:56:03.835Z"
   },
   {
    "duration": 21,
    "start_time": "2023-01-29T09:56:03.965Z"
   },
   {
    "duration": 9,
    "start_time": "2023-01-29T09:56:03.988Z"
   },
   {
    "duration": 151,
    "start_time": "2023-01-29T09:56:04.020Z"
   },
   {
    "duration": 3,
    "start_time": "2023-01-29T09:56:04.172Z"
   },
   {
    "duration": 12,
    "start_time": "2023-01-29T09:56:04.176Z"
   },
   {
    "duration": 39,
    "start_time": "2023-01-29T09:56:04.190Z"
   },
   {
    "duration": 4,
    "start_time": "2023-01-29T09:56:04.231Z"
   },
   {
    "duration": 10,
    "start_time": "2023-01-29T09:56:04.236Z"
   },
   {
    "duration": 6,
    "start_time": "2023-01-29T09:56:04.248Z"
   },
   {
    "duration": 9,
    "start_time": "2023-01-29T09:56:04.256Z"
   },
   {
    "duration": 21,
    "start_time": "2023-01-29T09:56:04.267Z"
   },
   {
    "duration": 10,
    "start_time": "2023-01-29T09:56:04.289Z"
   },
   {
    "duration": 4,
    "start_time": "2023-01-29T09:56:04.321Z"
   },
   {
    "duration": 10,
    "start_time": "2023-01-29T09:56:04.328Z"
   },
   {
    "duration": 35,
    "start_time": "2023-01-29T09:56:04.340Z"
   },
   {
    "duration": 6,
    "start_time": "2023-01-29T09:56:04.378Z"
   },
   {
    "duration": 42,
    "start_time": "2023-01-29T09:56:04.386Z"
   },
   {
    "duration": 11,
    "start_time": "2023-01-29T09:56:04.430Z"
   },
   {
    "duration": 3,
    "start_time": "2023-01-29T10:00:17.926Z"
   },
   {
    "duration": 13,
    "start_time": "2023-01-29T10:00:20.658Z"
   },
   {
    "duration": 3,
    "start_time": "2023-01-29T10:01:28.541Z"
   },
   {
    "duration": 2,
    "start_time": "2023-01-29T10:01:30.585Z"
   },
   {
    "duration": 10,
    "start_time": "2023-01-29T10:01:31.239Z"
   },
   {
    "duration": 3,
    "start_time": "2023-01-29T10:04:25.319Z"
   },
   {
    "duration": 10,
    "start_time": "2023-01-29T10:04:26.089Z"
   },
   {
    "duration": 4,
    "start_time": "2023-01-29T10:04:58.180Z"
   },
   {
    "duration": 31,
    "start_time": "2023-01-29T10:04:58.186Z"
   },
   {
    "duration": 3,
    "start_time": "2023-01-29T10:04:58.218Z"
   },
   {
    "duration": 8,
    "start_time": "2023-01-29T10:04:58.223Z"
   },
   {
    "duration": 11,
    "start_time": "2023-01-29T10:04:58.232Z"
   },
   {
    "duration": 38,
    "start_time": "2023-01-29T10:04:58.245Z"
   },
   {
    "duration": 16,
    "start_time": "2023-01-29T10:04:58.286Z"
   },
   {
    "duration": 69,
    "start_time": "2023-01-29T10:04:58.304Z"
   },
   {
    "duration": 10,
    "start_time": "2023-01-29T10:04:58.375Z"
   },
   {
    "duration": 5,
    "start_time": "2023-01-29T10:04:58.387Z"
   },
   {
    "duration": 11,
    "start_time": "2023-01-29T10:04:58.393Z"
   },
   {
    "duration": 10,
    "start_time": "2023-01-29T10:04:58.406Z"
   },
   {
    "duration": 8,
    "start_time": "2023-01-29T10:04:58.418Z"
   },
   {
    "duration": 8,
    "start_time": "2023-01-29T10:04:58.427Z"
   },
   {
    "duration": 6,
    "start_time": "2023-01-29T10:04:58.437Z"
   },
   {
    "duration": 7,
    "start_time": "2023-01-29T10:04:58.445Z"
   },
   {
    "duration": 6,
    "start_time": "2023-01-29T10:04:58.453Z"
   },
   {
    "duration": 12,
    "start_time": "2023-01-29T10:04:58.460Z"
   },
   {
    "duration": 11,
    "start_time": "2023-01-29T10:04:58.475Z"
   },
   {
    "duration": 39,
    "start_time": "2023-01-29T10:04:58.488Z"
   },
   {
    "duration": 5,
    "start_time": "2023-01-29T10:04:58.529Z"
   },
   {
    "duration": 7,
    "start_time": "2023-01-29T10:04:58.535Z"
   },
   {
    "duration": 6,
    "start_time": "2023-01-29T10:04:58.544Z"
   },
   {
    "duration": 8,
    "start_time": "2023-01-29T10:04:58.551Z"
   },
   {
    "duration": 201,
    "start_time": "2023-01-29T10:04:58.561Z"
   },
   {
    "duration": 134,
    "start_time": "2023-01-29T10:04:58.766Z"
   },
   {
    "duration": 7,
    "start_time": "2023-01-29T10:04:58.901Z"
   },
   {
    "duration": 16,
    "start_time": "2023-01-29T10:04:58.909Z"
   },
   {
    "duration": 312,
    "start_time": "2023-01-29T10:04:58.927Z"
   },
   {
    "duration": 297,
    "start_time": "2023-01-29T10:04:59.241Z"
   },
   {
    "duration": 6,
    "start_time": "2023-01-29T10:04:59.540Z"
   },
   {
    "duration": 360,
    "start_time": "2023-01-29T10:04:59.547Z"
   },
   {
    "duration": 306,
    "start_time": "2023-01-29T10:04:59.909Z"
   },
   {
    "duration": 503,
    "start_time": "2023-01-29T10:05:00.221Z"
   },
   {
    "duration": 7,
    "start_time": "2023-01-29T10:05:00.726Z"
   },
   {
    "duration": 215,
    "start_time": "2023-01-29T10:05:00.734Z"
   },
   {
    "duration": 5,
    "start_time": "2023-01-29T10:05:00.951Z"
   },
   {
    "duration": 206,
    "start_time": "2023-01-29T10:05:00.957Z"
   },
   {
    "duration": 5,
    "start_time": "2023-01-29T10:05:01.165Z"
   },
   {
    "duration": 117,
    "start_time": "2023-01-29T10:05:01.172Z"
   },
   {
    "duration": 130,
    "start_time": "2023-01-29T10:05:01.291Z"
   },
   {
    "duration": 22,
    "start_time": "2023-01-29T10:05:01.423Z"
   },
   {
    "duration": 17,
    "start_time": "2023-01-29T10:05:01.447Z"
   },
   {
    "duration": 155,
    "start_time": "2023-01-29T10:05:01.466Z"
   },
   {
    "duration": 3,
    "start_time": "2023-01-29T10:05:01.622Z"
   },
   {
    "duration": 15,
    "start_time": "2023-01-29T10:05:01.627Z"
   },
   {
    "duration": 46,
    "start_time": "2023-01-29T10:05:01.644Z"
   },
   {
    "duration": 5,
    "start_time": "2023-01-29T10:05:01.692Z"
   },
   {
    "duration": 23,
    "start_time": "2023-01-29T10:05:01.699Z"
   },
   {
    "duration": 7,
    "start_time": "2023-01-29T10:05:01.724Z"
   },
   {
    "duration": 24,
    "start_time": "2023-01-29T10:05:01.732Z"
   },
   {
    "duration": 23,
    "start_time": "2023-01-29T10:05:01.758Z"
   },
   {
    "duration": 26,
    "start_time": "2023-01-29T10:05:01.783Z"
   },
   {
    "duration": 24,
    "start_time": "2023-01-29T10:05:01.811Z"
   },
   {
    "duration": 43,
    "start_time": "2023-01-29T10:05:01.836Z"
   },
   {
    "duration": 34,
    "start_time": "2023-01-29T10:05:01.880Z"
   },
   {
    "duration": 4,
    "start_time": "2023-01-29T10:05:01.916Z"
   },
   {
    "duration": 39,
    "start_time": "2023-01-29T10:05:01.922Z"
   },
   {
    "duration": 9,
    "start_time": "2023-01-29T10:05:01.962Z"
   },
   {
    "duration": 4,
    "start_time": "2023-01-29T11:35:31.836Z"
   },
   {
    "duration": 47,
    "start_time": "2023-01-29T11:35:40.126Z"
   },
   {
    "duration": 13,
    "start_time": "2023-01-29T11:35:57.169Z"
   },
   {
    "duration": 12,
    "start_time": "2023-01-29T11:36:07.421Z"
   },
   {
    "duration": 13,
    "start_time": "2023-01-29T11:36:19.968Z"
   },
   {
    "duration": 4,
    "start_time": "2023-01-29T11:36:27.973Z"
   },
   {
    "duration": 33,
    "start_time": "2023-01-29T11:36:27.979Z"
   },
   {
    "duration": 3,
    "start_time": "2023-01-29T11:36:28.014Z"
   },
   {
    "duration": 5,
    "start_time": "2023-01-29T11:36:28.019Z"
   },
   {
    "duration": 18,
    "start_time": "2023-01-29T11:36:28.027Z"
   },
   {
    "duration": 17,
    "start_time": "2023-01-29T11:36:28.047Z"
   },
   {
    "duration": 13,
    "start_time": "2023-01-29T11:36:28.066Z"
   },
   {
    "duration": 65,
    "start_time": "2023-01-29T11:36:28.080Z"
   },
   {
    "duration": 12,
    "start_time": "2023-01-29T11:36:28.147Z"
   },
   {
    "duration": 6,
    "start_time": "2023-01-29T11:36:28.161Z"
   },
   {
    "duration": 11,
    "start_time": "2023-01-29T11:36:28.169Z"
   },
   {
    "duration": 11,
    "start_time": "2023-01-29T11:36:28.181Z"
   },
   {
    "duration": 9,
    "start_time": "2023-01-29T11:36:28.194Z"
   },
   {
    "duration": 6,
    "start_time": "2023-01-29T11:36:28.223Z"
   },
   {
    "duration": 7,
    "start_time": "2023-01-29T11:36:28.231Z"
   },
   {
    "duration": 8,
    "start_time": "2023-01-29T11:36:28.240Z"
   },
   {
    "duration": 6,
    "start_time": "2023-01-29T11:36:28.250Z"
   },
   {
    "duration": 12,
    "start_time": "2023-01-29T11:36:28.257Z"
   },
   {
    "duration": 11,
    "start_time": "2023-01-29T11:36:28.270Z"
   },
   {
    "duration": 44,
    "start_time": "2023-01-29T11:36:28.283Z"
   },
   {
    "duration": 7,
    "start_time": "2023-01-29T11:36:28.328Z"
   },
   {
    "duration": 7,
    "start_time": "2023-01-29T11:36:28.336Z"
   },
   {
    "duration": 5,
    "start_time": "2023-01-29T11:36:28.346Z"
   },
   {
    "duration": 11,
    "start_time": "2023-01-29T11:36:28.353Z"
   },
   {
    "duration": 183,
    "start_time": "2023-01-29T11:36:28.366Z"
   },
   {
    "duration": 129,
    "start_time": "2023-01-29T11:36:28.550Z"
   },
   {
    "duration": 6,
    "start_time": "2023-01-29T11:36:28.681Z"
   },
   {
    "duration": 8,
    "start_time": "2023-01-29T11:36:28.689Z"
   },
   {
    "duration": 324,
    "start_time": "2023-01-29T11:36:28.699Z"
   },
   {
    "duration": 299,
    "start_time": "2023-01-29T11:36:29.025Z"
   },
   {
    "duration": 6,
    "start_time": "2023-01-29T11:36:29.326Z"
   },
   {
    "duration": 370,
    "start_time": "2023-01-29T11:36:29.334Z"
   },
   {
    "duration": 290,
    "start_time": "2023-01-29T11:36:29.706Z"
   },
   {
    "duration": 452,
    "start_time": "2023-01-29T11:36:29.998Z"
   },
   {
    "duration": 6,
    "start_time": "2023-01-29T11:36:30.452Z"
   },
   {
    "duration": 204,
    "start_time": "2023-01-29T11:36:30.460Z"
   },
   {
    "duration": 5,
    "start_time": "2023-01-29T11:36:30.666Z"
   },
   {
    "duration": 284,
    "start_time": "2023-01-29T11:36:30.673Z"
   },
   {
    "duration": 5,
    "start_time": "2023-01-29T11:36:30.959Z"
   },
   {
    "duration": 113,
    "start_time": "2023-01-29T11:36:30.966Z"
   },
   {
    "duration": 117,
    "start_time": "2023-01-29T11:36:31.083Z"
   },
   {
    "duration": 27,
    "start_time": "2023-01-29T11:36:31.202Z"
   },
   {
    "duration": 12,
    "start_time": "2023-01-29T11:36:31.230Z"
   },
   {
    "duration": 155,
    "start_time": "2023-01-29T11:36:31.245Z"
   },
   {
    "duration": 3,
    "start_time": "2023-01-29T11:36:31.401Z"
   },
   {
    "duration": 19,
    "start_time": "2023-01-29T11:36:31.406Z"
   },
   {
    "duration": 24,
    "start_time": "2023-01-29T11:36:31.428Z"
   },
   {
    "duration": 6,
    "start_time": "2023-01-29T11:36:31.454Z"
   },
   {
    "duration": 16,
    "start_time": "2023-01-29T11:36:31.462Z"
   },
   {
    "duration": 11,
    "start_time": "2023-01-29T11:36:31.480Z"
   },
   {
    "duration": 9,
    "start_time": "2023-01-29T11:36:31.520Z"
   },
   {
    "duration": 13,
    "start_time": "2023-01-29T11:36:31.531Z"
   },
   {
    "duration": 10,
    "start_time": "2023-01-29T11:36:31.546Z"
   },
   {
    "duration": 9,
    "start_time": "2023-01-29T11:36:31.558Z"
   },
   {
    "duration": 12,
    "start_time": "2023-01-29T11:36:31.568Z"
   },
   {
    "duration": 42,
    "start_time": "2023-01-29T11:36:31.582Z"
   },
   {
    "duration": 5,
    "start_time": "2023-01-29T11:36:31.625Z"
   },
   {
    "duration": 33,
    "start_time": "2023-01-29T11:36:31.631Z"
   },
   {
    "duration": 9,
    "start_time": "2023-01-29T11:36:31.666Z"
   },
   {
    "duration": 4,
    "start_time": "2023-01-29T11:37:07.032Z"
   },
   {
    "duration": 29,
    "start_time": "2023-01-29T11:37:07.038Z"
   },
   {
    "duration": 3,
    "start_time": "2023-01-29T11:37:07.069Z"
   },
   {
    "duration": 8,
    "start_time": "2023-01-29T11:37:07.073Z"
   },
   {
    "duration": 10,
    "start_time": "2023-01-29T11:37:07.083Z"
   },
   {
    "duration": 30,
    "start_time": "2023-01-29T11:37:07.094Z"
   },
   {
    "duration": 19,
    "start_time": "2023-01-29T11:37:07.126Z"
   },
   {
    "duration": 63,
    "start_time": "2023-01-29T11:37:07.146Z"
   },
   {
    "duration": 11,
    "start_time": "2023-01-29T11:37:07.211Z"
   },
   {
    "duration": 5,
    "start_time": "2023-01-29T11:37:07.224Z"
   },
   {
    "duration": 10,
    "start_time": "2023-01-29T11:37:07.230Z"
   },
   {
    "duration": 12,
    "start_time": "2023-01-29T11:37:07.242Z"
   },
   {
    "duration": 10,
    "start_time": "2023-01-29T11:37:07.256Z"
   },
   {
    "duration": 6,
    "start_time": "2023-01-29T11:37:07.269Z"
   },
   {
    "duration": 46,
    "start_time": "2023-01-29T11:37:07.276Z"
   },
   {
    "duration": 7,
    "start_time": "2023-01-29T11:37:07.323Z"
   },
   {
    "duration": 6,
    "start_time": "2023-01-29T11:37:07.331Z"
   },
   {
    "duration": 12,
    "start_time": "2023-01-29T11:37:07.338Z"
   },
   {
    "duration": 11,
    "start_time": "2023-01-29T11:37:07.351Z"
   },
   {
    "duration": 9,
    "start_time": "2023-01-29T11:37:07.363Z"
   },
   {
    "duration": 50,
    "start_time": "2023-01-29T11:37:07.374Z"
   },
   {
    "duration": 24,
    "start_time": "2023-01-29T11:37:07.426Z"
   },
   {
    "duration": 6,
    "start_time": "2023-01-29T11:37:07.452Z"
   },
   {
    "duration": 7,
    "start_time": "2023-01-29T11:37:07.460Z"
   },
   {
    "duration": 173,
    "start_time": "2023-01-29T11:37:07.469Z"
   },
   {
    "duration": 144,
    "start_time": "2023-01-29T11:37:07.644Z"
   },
   {
    "duration": 8,
    "start_time": "2023-01-29T11:37:07.789Z"
   },
   {
    "duration": 23,
    "start_time": "2023-01-29T11:37:07.798Z"
   },
   {
    "duration": 299,
    "start_time": "2023-01-29T11:37:07.824Z"
   },
   {
    "duration": 347,
    "start_time": "2023-01-29T11:37:08.125Z"
   },
   {
    "duration": 7,
    "start_time": "2023-01-29T11:37:08.474Z"
   },
   {
    "duration": 374,
    "start_time": "2023-01-29T11:37:08.482Z"
   },
   {
    "duration": 286,
    "start_time": "2023-01-29T11:37:08.858Z"
   },
   {
    "duration": 405,
    "start_time": "2023-01-29T11:37:09.146Z"
   },
   {
    "duration": 7,
    "start_time": "2023-01-29T11:37:09.553Z"
   },
   {
    "duration": 196,
    "start_time": "2023-01-29T11:37:09.562Z"
   },
   {
    "duration": 6,
    "start_time": "2023-01-29T11:37:09.760Z"
   },
   {
    "duration": 193,
    "start_time": "2023-01-29T11:37:09.767Z"
   },
   {
    "duration": 5,
    "start_time": "2023-01-29T11:37:09.962Z"
   },
   {
    "duration": 103,
    "start_time": "2023-01-29T11:37:09.969Z"
   },
   {
    "duration": 123,
    "start_time": "2023-01-29T11:37:10.076Z"
   },
   {
    "duration": 34,
    "start_time": "2023-01-29T11:37:10.201Z"
   },
   {
    "duration": 10,
    "start_time": "2023-01-29T11:37:10.237Z"
   },
   {
    "duration": 177,
    "start_time": "2023-01-29T11:37:10.249Z"
   },
   {
    "duration": 2,
    "start_time": "2023-01-29T11:37:10.428Z"
   },
   {
    "duration": 10,
    "start_time": "2023-01-29T11:37:10.432Z"
   },
   {
    "duration": 29,
    "start_time": "2023-01-29T11:37:10.443Z"
   },
   {
    "duration": 5,
    "start_time": "2023-01-29T11:37:10.474Z"
   },
   {
    "duration": 12,
    "start_time": "2023-01-29T11:37:10.481Z"
   },
   {
    "duration": 8,
    "start_time": "2023-01-29T11:37:10.520Z"
   },
   {
    "duration": 8,
    "start_time": "2023-01-29T11:37:10.531Z"
   },
   {
    "duration": 8,
    "start_time": "2023-01-29T11:37:10.541Z"
   },
   {
    "duration": 10,
    "start_time": "2023-01-29T11:37:10.551Z"
   },
   {
    "duration": 7,
    "start_time": "2023-01-29T11:37:10.563Z"
   },
   {
    "duration": 8,
    "start_time": "2023-01-29T11:37:10.572Z"
   },
   {
    "duration": 57,
    "start_time": "2023-01-29T11:37:10.582Z"
   },
   {
    "duration": 4,
    "start_time": "2023-01-29T11:37:10.641Z"
   },
   {
    "duration": 14,
    "start_time": "2023-01-29T11:37:10.647Z"
   },
   {
    "duration": 9,
    "start_time": "2023-01-29T11:37:10.662Z"
   },
   {
    "duration": 3,
    "start_time": "2023-01-29T11:42:17.644Z"
   },
   {
    "duration": 161,
    "start_time": "2023-01-29T11:43:15.399Z"
   },
   {
    "duration": 13,
    "start_time": "2023-01-29T12:03:43.908Z"
   },
   {
    "duration": 25,
    "start_time": "2023-01-29T12:06:46.380Z"
   },
   {
    "duration": 24,
    "start_time": "2023-01-29T12:08:51.684Z"
   },
   {
    "duration": 5,
    "start_time": "2023-01-29T12:09:15.175Z"
   },
   {
    "duration": 11,
    "start_time": "2023-01-29T12:09:20.144Z"
   },
   {
    "duration": 9,
    "start_time": "2023-01-29T12:09:22.516Z"
   },
   {
    "duration": 8,
    "start_time": "2023-01-29T12:15:02.075Z"
   },
   {
    "duration": 9,
    "start_time": "2023-01-29T12:15:15.186Z"
   },
   {
    "duration": 10,
    "start_time": "2023-01-29T12:15:23.093Z"
   },
   {
    "duration": 27,
    "start_time": "2023-01-29T12:15:39.814Z"
   },
   {
    "duration": 100,
    "start_time": "2023-01-29T12:50:43.448Z"
   },
   {
    "duration": 5,
    "start_time": "2023-01-29T12:51:00.052Z"
   },
   {
    "duration": 41,
    "start_time": "2023-01-29T12:51:00.059Z"
   },
   {
    "duration": 4,
    "start_time": "2023-01-29T12:51:00.103Z"
   },
   {
    "duration": 42,
    "start_time": "2023-01-29T12:51:00.109Z"
   },
   {
    "duration": 24,
    "start_time": "2023-01-29T12:51:00.153Z"
   },
   {
    "duration": 33,
    "start_time": "2023-01-29T12:51:00.179Z"
   },
   {
    "duration": 47,
    "start_time": "2023-01-29T12:51:00.214Z"
   },
   {
    "duration": 111,
    "start_time": "2023-01-29T12:51:00.263Z"
   },
   {
    "duration": 16,
    "start_time": "2023-01-29T12:51:00.385Z"
   },
   {
    "duration": 21,
    "start_time": "2023-01-29T12:51:00.405Z"
   },
   {
    "duration": 39,
    "start_time": "2023-01-29T12:51:00.429Z"
   },
   {
    "duration": 39,
    "start_time": "2023-01-29T12:51:00.470Z"
   },
   {
    "duration": 29,
    "start_time": "2023-01-29T12:51:00.511Z"
   },
   {
    "duration": 43,
    "start_time": "2023-01-29T12:51:00.542Z"
   },
   {
    "duration": 44,
    "start_time": "2023-01-29T12:51:00.589Z"
   },
   {
    "duration": 58,
    "start_time": "2023-01-29T12:51:00.635Z"
   },
   {
    "duration": 35,
    "start_time": "2023-01-29T12:51:00.694Z"
   },
   {
    "duration": 29,
    "start_time": "2023-01-29T12:51:00.731Z"
   },
   {
    "duration": 22,
    "start_time": "2023-01-29T12:51:00.762Z"
   },
   {
    "duration": 18,
    "start_time": "2023-01-29T12:51:00.786Z"
   },
   {
    "duration": 23,
    "start_time": "2023-01-29T12:51:00.806Z"
   },
   {
    "duration": 33,
    "start_time": "2023-01-29T12:51:00.831Z"
   },
   {
    "duration": 37,
    "start_time": "2023-01-29T12:51:00.866Z"
   },
   {
    "duration": 49,
    "start_time": "2023-01-29T12:51:00.905Z"
   },
   {
    "duration": 208,
    "start_time": "2023-01-29T12:51:00.956Z"
   },
   {
    "duration": 144,
    "start_time": "2023-01-29T12:51:01.165Z"
   },
   {
    "duration": 16,
    "start_time": "2023-01-29T12:51:01.310Z"
   },
   {
    "duration": 21,
    "start_time": "2023-01-29T12:51:01.331Z"
   },
   {
    "duration": 323,
    "start_time": "2023-01-29T12:51:01.354Z"
   },
   {
    "duration": 314,
    "start_time": "2023-01-29T12:51:01.679Z"
   },
   {
    "duration": 7,
    "start_time": "2023-01-29T12:51:01.994Z"
   },
   {
    "duration": 429,
    "start_time": "2023-01-29T12:51:02.003Z"
   },
   {
    "duration": 406,
    "start_time": "2023-01-29T12:51:02.434Z"
   },
   {
    "duration": 438,
    "start_time": "2023-01-29T12:51:02.842Z"
   },
   {
    "duration": 7,
    "start_time": "2023-01-29T12:51:03.281Z"
   },
   {
    "duration": 211,
    "start_time": "2023-01-29T12:51:03.290Z"
   },
   {
    "duration": 5,
    "start_time": "2023-01-29T12:51:03.502Z"
   },
   {
    "duration": 194,
    "start_time": "2023-01-29T12:51:03.521Z"
   },
   {
    "duration": 9,
    "start_time": "2023-01-29T12:51:03.716Z"
   },
   {
    "duration": 118,
    "start_time": "2023-01-29T12:51:03.727Z"
   },
   {
    "duration": 162,
    "start_time": "2023-01-29T12:51:03.847Z"
   },
   {
    "duration": 32,
    "start_time": "2023-01-29T12:51:04.012Z"
   },
   {
    "duration": 14,
    "start_time": "2023-01-29T12:51:04.046Z"
   },
   {
    "duration": 153,
    "start_time": "2023-01-29T12:51:04.062Z"
   },
   {
    "duration": 3,
    "start_time": "2023-01-29T12:51:04.216Z"
   },
   {
    "duration": 14,
    "start_time": "2023-01-29T12:51:04.221Z"
   },
   {
    "duration": 41,
    "start_time": "2023-01-29T12:51:04.237Z"
   },
   {
    "duration": 5,
    "start_time": "2023-01-29T12:51:04.281Z"
   },
   {
    "duration": 16,
    "start_time": "2023-01-29T12:51:04.288Z"
   },
   {
    "duration": 10,
    "start_time": "2023-01-29T12:51:04.320Z"
   },
   {
    "duration": 23,
    "start_time": "2023-01-29T12:51:04.331Z"
   },
   {
    "duration": 12,
    "start_time": "2023-01-29T12:51:04.357Z"
   },
   {
    "duration": 30,
    "start_time": "2023-01-29T12:51:04.371Z"
   },
   {
    "duration": 22,
    "start_time": "2023-01-29T12:51:04.403Z"
   },
   {
    "duration": 21,
    "start_time": "2023-01-29T12:51:04.426Z"
   },
   {
    "duration": 34,
    "start_time": "2023-01-29T12:51:04.450Z"
   },
   {
    "duration": 46,
    "start_time": "2023-01-29T12:51:04.486Z"
   },
   {
    "duration": 6,
    "start_time": "2023-01-29T12:51:04.534Z"
   },
   {
    "duration": 40,
    "start_time": "2023-01-29T12:51:04.541Z"
   },
   {
    "duration": 22,
    "start_time": "2023-01-29T12:51:04.583Z"
   },
   {
    "duration": 6,
    "start_time": "2023-01-29T12:55:18.654Z"
   },
   {
    "duration": 34,
    "start_time": "2023-01-29T12:55:18.662Z"
   },
   {
    "duration": 3,
    "start_time": "2023-01-29T12:55:18.699Z"
   },
   {
    "duration": 7,
    "start_time": "2023-01-29T12:55:18.704Z"
   },
   {
    "duration": 16,
    "start_time": "2023-01-29T12:55:18.713Z"
   },
   {
    "duration": 47,
    "start_time": "2023-01-29T12:55:18.731Z"
   },
   {
    "duration": 21,
    "start_time": "2023-01-29T12:55:18.780Z"
   },
   {
    "duration": 80,
    "start_time": "2023-01-29T12:55:18.804Z"
   },
   {
    "duration": 12,
    "start_time": "2023-01-29T12:55:18.885Z"
   },
   {
    "duration": 9,
    "start_time": "2023-01-29T12:55:18.898Z"
   },
   {
    "duration": 25,
    "start_time": "2023-01-29T12:55:18.909Z"
   },
   {
    "duration": 50,
    "start_time": "2023-01-29T12:55:18.936Z"
   },
   {
    "duration": 16,
    "start_time": "2023-01-29T12:55:18.988Z"
   },
   {
    "duration": 8,
    "start_time": "2023-01-29T12:55:19.009Z"
   },
   {
    "duration": 19,
    "start_time": "2023-01-29T12:55:19.018Z"
   },
   {
    "duration": 12,
    "start_time": "2023-01-29T12:55:19.039Z"
   },
   {
    "duration": 6,
    "start_time": "2023-01-29T12:55:19.053Z"
   },
   {
    "duration": 17,
    "start_time": "2023-01-29T12:55:19.060Z"
   },
   {
    "duration": 12,
    "start_time": "2023-01-29T12:55:19.079Z"
   },
   {
    "duration": 7,
    "start_time": "2023-01-29T12:55:19.093Z"
   },
   {
    "duration": 27,
    "start_time": "2023-01-29T12:55:19.102Z"
   },
   {
    "duration": 14,
    "start_time": "2023-01-29T12:55:19.132Z"
   },
   {
    "duration": 10,
    "start_time": "2023-01-29T12:55:19.149Z"
   },
   {
    "duration": 7,
    "start_time": "2023-01-29T12:55:19.161Z"
   },
   {
    "duration": 230,
    "start_time": "2023-01-29T12:55:19.170Z"
   },
   {
    "duration": 166,
    "start_time": "2023-01-29T12:55:19.403Z"
   },
   {
    "duration": 9,
    "start_time": "2023-01-29T12:55:19.571Z"
   },
   {
    "duration": 18,
    "start_time": "2023-01-29T12:55:19.582Z"
   },
   {
    "duration": 333,
    "start_time": "2023-01-29T12:55:19.603Z"
   },
   {
    "duration": 379,
    "start_time": "2023-01-29T12:55:19.940Z"
   },
   {
    "duration": 20,
    "start_time": "2023-01-29T12:55:20.324Z"
   },
   {
    "duration": 559,
    "start_time": "2023-01-29T12:55:20.358Z"
   },
   {
    "duration": 379,
    "start_time": "2023-01-29T12:55:20.919Z"
   },
   {
    "duration": 529,
    "start_time": "2023-01-29T12:55:21.302Z"
   },
   {
    "duration": 23,
    "start_time": "2023-01-29T12:55:21.840Z"
   },
   {
    "duration": 317,
    "start_time": "2023-01-29T12:55:21.866Z"
   },
   {
    "duration": 16,
    "start_time": "2023-01-29T12:55:22.185Z"
   },
   {
    "duration": 279,
    "start_time": "2023-01-29T12:55:22.204Z"
   },
   {
    "duration": 7,
    "start_time": "2023-01-29T12:55:22.485Z"
   },
   {
    "duration": 250,
    "start_time": "2023-01-29T12:55:22.494Z"
   },
   {
    "duration": 149,
    "start_time": "2023-01-29T12:55:22.750Z"
   },
   {
    "duration": 59,
    "start_time": "2023-01-29T12:55:22.901Z"
   },
   {
    "duration": 17,
    "start_time": "2023-01-29T12:55:22.961Z"
   },
   {
    "duration": 172,
    "start_time": "2023-01-29T12:55:22.980Z"
   },
   {
    "duration": 3,
    "start_time": "2023-01-29T12:55:23.154Z"
   },
   {
    "duration": 15,
    "start_time": "2023-01-29T12:55:23.159Z"
   },
   {
    "duration": 37,
    "start_time": "2023-01-29T12:55:23.176Z"
   },
   {
    "duration": 20,
    "start_time": "2023-01-29T12:55:23.215Z"
   },
   {
    "duration": 44,
    "start_time": "2023-01-29T12:55:23.238Z"
   },
   {
    "duration": 13,
    "start_time": "2023-01-29T12:55:23.284Z"
   },
   {
    "duration": 21,
    "start_time": "2023-01-29T12:55:23.299Z"
   },
   {
    "duration": 37,
    "start_time": "2023-01-29T12:55:23.322Z"
   },
   {
    "duration": 17,
    "start_time": "2023-01-29T12:55:23.361Z"
   },
   {
    "duration": 31,
    "start_time": "2023-01-29T12:55:23.380Z"
   },
   {
    "duration": 24,
    "start_time": "2023-01-29T12:55:23.413Z"
   },
   {
    "duration": 40,
    "start_time": "2023-01-29T12:55:23.438Z"
   },
   {
    "duration": 34,
    "start_time": "2023-01-29T12:55:23.481Z"
   },
   {
    "duration": 13,
    "start_time": "2023-01-29T12:55:23.518Z"
   },
   {
    "duration": 22,
    "start_time": "2023-01-29T12:55:23.533Z"
   },
   {
    "duration": 21,
    "start_time": "2023-01-29T12:55:23.557Z"
   },
   {
    "duration": 1256,
    "start_time": "2023-01-29T16:08:36.639Z"
   },
   {
    "duration": 84,
    "start_time": "2023-01-29T16:08:37.897Z"
   },
   {
    "duration": 3,
    "start_time": "2023-01-29T16:08:37.982Z"
   },
   {
    "duration": 6,
    "start_time": "2023-01-29T16:08:37.987Z"
   },
   {
    "duration": 13,
    "start_time": "2023-01-29T16:08:37.995Z"
   },
   {
    "duration": 49,
    "start_time": "2023-01-29T16:08:38.009Z"
   },
   {
    "duration": 11,
    "start_time": "2023-01-29T16:08:38.060Z"
   },
   {
    "duration": 174,
    "start_time": "2023-01-29T16:08:38.073Z"
   },
   {
    "duration": 11,
    "start_time": "2023-01-29T16:08:38.249Z"
   },
   {
    "duration": 6,
    "start_time": "2023-01-29T16:08:38.262Z"
   },
   {
    "duration": 18,
    "start_time": "2023-01-29T16:08:38.269Z"
   },
   {
    "duration": 20,
    "start_time": "2023-01-29T16:08:38.288Z"
   },
   {
    "duration": 32,
    "start_time": "2023-01-29T16:08:38.310Z"
   },
   {
    "duration": 14,
    "start_time": "2023-01-29T16:08:38.345Z"
   },
   {
    "duration": 16,
    "start_time": "2023-01-29T16:08:38.361Z"
   },
   {
    "duration": 13,
    "start_time": "2023-01-29T16:08:38.378Z"
   },
   {
    "duration": 20,
    "start_time": "2023-01-29T16:08:38.393Z"
   },
   {
    "duration": 15,
    "start_time": "2023-01-29T16:08:38.415Z"
   },
   {
    "duration": 11,
    "start_time": "2023-01-29T16:08:38.431Z"
   },
   {
    "duration": 7,
    "start_time": "2023-01-29T16:08:38.444Z"
   },
   {
    "duration": 5,
    "start_time": "2023-01-29T16:08:38.452Z"
   },
   {
    "duration": 11,
    "start_time": "2023-01-29T16:08:38.458Z"
   },
   {
    "duration": 8,
    "start_time": "2023-01-29T16:08:38.470Z"
   },
   {
    "duration": 13,
    "start_time": "2023-01-29T16:08:38.480Z"
   },
   {
    "duration": 170,
    "start_time": "2023-01-29T16:08:38.494Z"
   },
   {
    "duration": 127,
    "start_time": "2023-01-29T16:08:38.665Z"
   },
   {
    "duration": 6,
    "start_time": "2023-01-29T16:08:38.793Z"
   },
   {
    "duration": 14,
    "start_time": "2023-01-29T16:08:38.801Z"
   },
   {
    "duration": 338,
    "start_time": "2023-01-29T16:08:38.816Z"
   },
   {
    "duration": 279,
    "start_time": "2023-01-29T16:08:39.156Z"
   },
   {
    "duration": 6,
    "start_time": "2023-01-29T16:08:39.437Z"
   },
   {
    "duration": 440,
    "start_time": "2023-01-29T16:08:39.444Z"
   },
   {
    "duration": 277,
    "start_time": "2023-01-29T16:08:39.886Z"
   },
   {
    "duration": 402,
    "start_time": "2023-01-29T16:08:40.164Z"
   },
   {
    "duration": 6,
    "start_time": "2023-01-29T16:08:40.568Z"
   },
   {
    "duration": 175,
    "start_time": "2023-01-29T16:08:40.575Z"
   },
   {
    "duration": 6,
    "start_time": "2023-01-29T16:08:40.752Z"
   },
   {
    "duration": 220,
    "start_time": "2023-01-29T16:08:40.760Z"
   },
   {
    "duration": 11,
    "start_time": "2023-01-29T16:08:40.981Z"
   },
   {
    "duration": 100,
    "start_time": "2023-01-29T16:08:40.994Z"
   },
   {
    "duration": 126,
    "start_time": "2023-01-29T16:08:41.098Z"
   },
   {
    "duration": 24,
    "start_time": "2023-01-29T16:08:41.225Z"
   },
   {
    "duration": 10,
    "start_time": "2023-01-29T16:08:41.251Z"
   },
   {
    "duration": 131,
    "start_time": "2023-01-29T16:08:41.263Z"
   },
   {
    "duration": 2,
    "start_time": "2023-01-29T16:08:41.396Z"
   },
   {
    "duration": 10,
    "start_time": "2023-01-29T16:08:41.399Z"
   },
   {
    "duration": 36,
    "start_time": "2023-01-29T16:08:41.411Z"
   },
   {
    "duration": 5,
    "start_time": "2023-01-29T16:08:41.449Z"
   },
   {
    "duration": 17,
    "start_time": "2023-01-29T16:08:41.456Z"
   },
   {
    "duration": 5,
    "start_time": "2023-01-29T16:08:41.475Z"
   },
   {
    "duration": 16,
    "start_time": "2023-01-29T16:08:41.482Z"
   },
   {
    "duration": 34,
    "start_time": "2023-01-29T16:08:41.499Z"
   },
   {
    "duration": 15,
    "start_time": "2023-01-29T16:08:41.534Z"
   },
   {
    "duration": 7,
    "start_time": "2023-01-29T16:08:41.551Z"
   },
   {
    "duration": 12,
    "start_time": "2023-01-29T16:08:41.560Z"
   },
   {
    "duration": 27,
    "start_time": "2023-01-29T16:08:41.573Z"
   },
   {
    "duration": 21,
    "start_time": "2023-01-29T16:08:41.601Z"
   },
   {
    "duration": 14,
    "start_time": "2023-01-29T16:08:41.624Z"
   },
   {
    "duration": 13,
    "start_time": "2023-01-29T16:08:41.640Z"
   },
   {
    "duration": 8,
    "start_time": "2023-01-29T16:08:41.655Z"
   },
   {
    "duration": 1112,
    "start_time": "2023-02-05T11:09:35.089Z"
   },
   {
    "duration": 72,
    "start_time": "2023-02-05T11:09:36.203Z"
   },
   {
    "duration": 3,
    "start_time": "2023-02-05T11:09:36.276Z"
   },
   {
    "duration": 5,
    "start_time": "2023-02-05T11:09:36.281Z"
   },
   {
    "duration": 13,
    "start_time": "2023-02-05T11:09:36.287Z"
   },
   {
    "duration": 22,
    "start_time": "2023-02-05T11:09:36.301Z"
   },
   {
    "duration": 12,
    "start_time": "2023-02-05T11:09:36.325Z"
   },
   {
    "duration": 134,
    "start_time": "2023-02-05T11:09:36.338Z"
   },
   {
    "duration": 10,
    "start_time": "2023-02-05T11:09:36.474Z"
   },
   {
    "duration": 5,
    "start_time": "2023-02-05T11:09:36.487Z"
   },
   {
    "duration": 11,
    "start_time": "2023-02-05T11:09:36.493Z"
   },
   {
    "duration": 12,
    "start_time": "2023-02-05T11:09:36.505Z"
   },
   {
    "duration": 17,
    "start_time": "2023-02-05T11:09:36.518Z"
   },
   {
    "duration": 6,
    "start_time": "2023-02-05T11:09:36.537Z"
   },
   {
    "duration": 8,
    "start_time": "2023-02-05T11:09:36.544Z"
   },
   {
    "duration": 6,
    "start_time": "2023-02-05T11:09:36.554Z"
   },
   {
    "duration": 5,
    "start_time": "2023-02-05T11:09:36.561Z"
   },
   {
    "duration": 10,
    "start_time": "2023-02-05T11:09:36.568Z"
   },
   {
    "duration": 44,
    "start_time": "2023-02-05T11:09:36.579Z"
   },
   {
    "duration": 7,
    "start_time": "2023-02-05T11:09:36.625Z"
   },
   {
    "duration": 5,
    "start_time": "2023-02-05T11:09:36.633Z"
   },
   {
    "duration": 6,
    "start_time": "2023-02-05T11:09:36.640Z"
   },
   {
    "duration": 6,
    "start_time": "2023-02-05T11:09:36.647Z"
   },
   {
    "duration": 9,
    "start_time": "2023-02-05T11:09:36.654Z"
   },
   {
    "duration": 201,
    "start_time": "2023-02-05T11:09:36.664Z"
   },
   {
    "duration": 136,
    "start_time": "2023-02-05T11:09:36.867Z"
   },
   {
    "duration": 8,
    "start_time": "2023-02-05T11:09:37.005Z"
   },
   {
    "duration": 27,
    "start_time": "2023-02-05T11:09:37.017Z"
   },
   {
    "duration": 422,
    "start_time": "2023-02-05T11:09:37.046Z"
   },
   {
    "duration": 271,
    "start_time": "2023-02-05T11:09:37.470Z"
   },
   {
    "duration": 5,
    "start_time": "2023-02-05T11:09:37.743Z"
   },
   {
    "duration": 346,
    "start_time": "2023-02-05T11:09:37.749Z"
   },
   {
    "duration": 270,
    "start_time": "2023-02-05T11:09:38.096Z"
   },
   {
    "duration": 419,
    "start_time": "2023-02-05T11:09:38.368Z"
   },
   {
    "duration": 7,
    "start_time": "2023-02-05T11:09:38.789Z"
   },
   {
    "duration": 171,
    "start_time": "2023-02-05T11:09:38.798Z"
   },
   {
    "duration": 4,
    "start_time": "2023-02-05T11:09:38.971Z"
   },
   {
    "duration": 185,
    "start_time": "2023-02-05T11:09:38.977Z"
   },
   {
    "duration": 4,
    "start_time": "2023-02-05T11:09:39.164Z"
   },
   {
    "duration": 97,
    "start_time": "2023-02-05T11:09:39.170Z"
   },
   {
    "duration": 110,
    "start_time": "2023-02-05T11:09:39.269Z"
   },
   {
    "duration": 43,
    "start_time": "2023-02-05T11:09:39.380Z"
   },
   {
    "duration": 11,
    "start_time": "2023-02-05T11:09:39.425Z"
   },
   {
    "duration": 141,
    "start_time": "2023-02-05T11:09:39.438Z"
   },
   {
    "duration": 2,
    "start_time": "2023-02-05T11:09:39.581Z"
   },
   {
    "duration": 11,
    "start_time": "2023-02-05T11:09:39.585Z"
   },
   {
    "duration": 38,
    "start_time": "2023-02-05T11:09:39.597Z"
   },
   {
    "duration": 4,
    "start_time": "2023-02-05T11:09:39.636Z"
   },
   {
    "duration": 12,
    "start_time": "2023-02-05T11:09:39.642Z"
   },
   {
    "duration": 9,
    "start_time": "2023-02-05T11:09:39.656Z"
   },
   {
    "duration": 6,
    "start_time": "2023-02-05T11:09:39.667Z"
   },
   {
    "duration": 11,
    "start_time": "2023-02-05T11:09:39.674Z"
   },
   {
    "duration": 8,
    "start_time": "2023-02-05T11:09:39.686Z"
   },
   {
    "duration": 6,
    "start_time": "2023-02-05T11:09:39.715Z"
   },
   {
    "duration": 10,
    "start_time": "2023-02-05T11:09:39.722Z"
   },
   {
    "duration": 27,
    "start_time": "2023-02-05T11:09:39.734Z"
   },
   {
    "duration": 20,
    "start_time": "2023-02-05T11:09:39.763Z"
   },
   {
    "duration": 5,
    "start_time": "2023-02-05T11:09:39.784Z"
   },
   {
    "duration": 35,
    "start_time": "2023-02-05T11:09:39.790Z"
   },
   {
    "duration": 10,
    "start_time": "2023-02-05T11:09:39.827Z"
   }
  ],
  "kernelspec": {
   "display_name": "da_practicum_env2",
   "language": "python",
   "name": "python3"
  },
  "language_info": {
   "codemirror_mode": {
    "name": "ipython",
    "version": 3
   },
   "file_extension": ".py",
   "mimetype": "text/x-python",
   "name": "python",
   "nbconvert_exporter": "python",
   "pygments_lexer": "ipython3",
   "version": "3.9.13"
  },
  "toc": {
   "base_numbering": 1,
   "nav_menu": {},
   "number_sections": true,
   "sideBar": true,
   "skip_h1_title": true,
   "title_cell": "Table of Contents",
   "title_sidebar": "Contents",
   "toc_cell": false,
   "toc_position": {
    "height": "calc(100% - 180px)",
    "left": "10px",
    "top": "150px",
    "width": "289.438px"
   },
   "toc_section_display": true,
   "toc_window_display": true
  },
  "vscode": {
   "interpreter": {
    "hash": "e3032394db83c2c494a476c5588f4da7a4c8a370c24750e5ed45e62c348e99d6"
   }
  }
 },
 "nbformat": 4,
 "nbformat_minor": 2
}
